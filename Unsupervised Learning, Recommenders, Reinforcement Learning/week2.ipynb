{
 "cells": [
  {
   "cell_type": "markdown",
   "source": [
    "Recommender Systems\n",
    "=======================\n",
    "Using per-item features\n",
    "-----------------------\n",
    "Suppose that we know the features of each movie, e.g, genre, director, actors, etc.\n",
    "n_u = 4 -> number of users\n",
    "n_m = 5 -> number of movies\n",
    "n = 2 -> number of features\n",
    "x1 and x2 are indicators of the genre of the movie, e.g, x1 = 0.9, x2 = 0.1 means that the movie is 90% romance and 10% action.\n",
    "For user j: predict rating for movie i as: w(j).x(i) + b(j) ---> just like linear regression. x(i) is the feature vector of movie i.\n",
    "\n",
    "The cost function\n",
    "------------------\n",
    "Notations:\n",
    "- R(i,j) = 1 if user j has rated movie i\n",
    "- y(i,j) = rating by user j on movie i (if R(i,j) = 1)\n",
    "- x(i) = feature vector of movie i\n",
    "- w(j), b(j) = parameters for user j\n",
    "- for user j and movie i, the predicted rating is: w(j).x(i) + b(j)\n",
    "- m(j) = number of movies rated by user j\n",
    "- min J(w(j), b(j)) = (1/2m(j)) * sum((w(j).x(i) + b(j) - y(i,j))^2) for all movies i rated by user j\n",
    "- The regularization term is: lambda/2m * sum(w(j)_k ^2) for all features k\n",
    "Note: It turns out that for recommender system eliminating the 'm' in the denominator is better. So, the cost function for user j becomes:\n",
    "- J(w(j), b(j)) = (1/2) * sum((w(j).x(i) + b(j) - y(i,j))^2) + (lambda/2) * sum(w(j)_k ^2) for all movies i rated by user j\n",
    "\n",
    "Collaborative Filtering\n",
    "-------------------------\n",
    "What if we don't have features for each movie? We can use collaborative filtering.\n",
    "- We can learn the features from the data.\n",
    "- In this case the parameters x(i) are unknown.\n",
    "- using w(j).x(i) + b(j): we can have some equations and figure out what x(i) should be. --> w1.x1 ~ 5, w2.x1 ~ 2, etc.\n",
    "- This works because we have parameters w(j) and b(j) for each user j.\n",
    "- The cost function for collaborative filtering is:\n",
    "- to learn x(i), J(x(i)) = (1/2) * sum((w(j).x(i) + b(j) - y(i,j))^2) + (lambda/2) * sum(x(i)_k ^2) for all users j who rated movie i\n",
    "- to learn x(1), x(2), ..., x(n_m), we minimize the sum of the cost functions for each movie i.\n",
    "- But so far we assumed that we know w(j) and b(j).\n",
    "- So the collaborative filtering algorithm is using the cost function for learning x(i) and the cost function for learning w(j) and b(j) together.\n",
    "- Putting the two cost functions above together, we get:\n",
    "- 1/2 * sum((w(j).x(i) + b(j) - y(i,j))^2) + (lambda/2) * sum(w(j)_k ^2) + (lambda/2) * sum(x(i)_k ^2) for all pairs of (i,j) where R(i,j) = 1\n",
    "\n",
    "- How to minimize this cost function? gradient descent.\n",
    "- repeat {\n",
    "- w(j) = w(j) - alpha * dJ(w,b,x)/dw(j) \n",
    "- b(j) = b(j) - alpha * dJ(w,b,x)/db(j)\n",
    "- x(i) = x(i) - alpha * dJ(w,b,x)/dx(i)\n",
    "- }\n",
    "- So the algorithm takes 3 parameters: w(j), b(j), x(i) and updates them simultaneously.\n",
    "Note: This works because multiple users rate multiple movies. If a user rates only one movie, we can't learn the features of the movie."
   ],
   "metadata": {
    "collapsed": false
   },
   "id": "1e85e79dd6d3a04a"
  },
  {
   "cell_type": "markdown",
   "source": [
    "Binary Labels: favs, likes and clicks\n",
    "--------------------------------------\n",
    "Sometimes the data is not a rating, but a binary label, e.g, 0 or 1, indicating whether the user liked the item or not.\n",
    "The process is very much similar to what we saw in course 1, going from linear regression to logistic regression.\n",
    "Example applications of labeling 1, 0, ?:\n",
    "- Did user j purchase an item after being shown?\n",
    "- Did user j fav/like an item?\n",
    "- Did user j spend at least 30sec with the item?\n",
    "- Did user j click on the item?\n",
    "\n",
    "1: engaged after being shown the item\n",
    "0: not engaged after being shown the item\n",
    "?: item not shown yet\n",
    "\n",
    "So the algorithm,\n",
    "previously: w(j).x(i) + b(j) = y(i,j)\n",
    "now: predict that the probability of y(i,j) = 1 is: g(w(j).x(i) + b(j)), where g is 1/(1 + e^(-z)).\n",
    "So, the cost function becomes:  -> assuming f(w,b,x) = g(w(j).x(i) + b(j))\n",
    "- Loss(f(w,b,x), y(i,j)) = -y(i,j) * log(f(w,b,x)) - (1-y(i,j)) * log(1 - f(w,b,x)) -> for single example\n",
    "- J(w,b,x) = sum(Loss(f(w,b,x), y(i,j))) for all examples where r(i,j) = 1"
   ],
   "metadata": {
    "collapsed": false
   },
   "id": "7733d8875dbf8615"
  },
  {
   "cell_type": "markdown",
   "source": [
    "Recommender Systems Implementation\n",
    "===================================\n",
    "Mean Normalization\n",
    "-------------------\n",
    "Suppose a new user is introduced and has not rated any movie yet. So, the prediction for the user will be all zeros for all movies; because the algorithm will learn the parameters for the user as w=0, b=0.\n",
    "But with mean normalization, the predictions will be much more accurate.\n",
    "- mu = mean of all ratings by all users who have given ratings for each movie\n",
    "- Then, we subtract mu from the ratings of each user for each movie.\n",
    "- So, the prediction for users will be:\n",
    "- w(j).x(i) + b(j) + mu(i) -> mu(i) is the mean rating for movie i\n",
    "- So for the new user, the prediction will be mu(i) for all movies.\n",
    "\n",
    "An alternative would be to normalize the columns instead of the rows, but this approach works better when a new movie is introduced."
   ],
   "metadata": {
    "collapsed": false
   },
   "id": "2ab8a0983e159836"
  },
  {
   "cell_type": "code",
   "execution_count": 5,
   "outputs": [
    {
     "name": "stdout",
     "output_type": "stream",
     "text": [
      "[[4 0 2 5 0]\n",
      " [0 5 0 3 2]\n",
      " [2 0 3 4 0]\n",
      " [5 4 3 0 0]]\n",
      "[[2.2]\n",
      " [2. ]\n",
      " [1.8]\n",
      " [2.4]]\n",
      "[[ 1.8 -2.2 -0.2  2.8 -2.2]\n",
      " [-2.   3.  -2.   1.   0. ]\n",
      " [ 0.2 -1.8  1.2  2.2 -1.8]\n",
      " [ 2.6  1.6  0.6 -2.4 -2.4]]\n"
     ]
    }
   ],
   "source": [
    "import keras\n",
    "import numpy as np\n",
    "\n",
    "\n",
    "ratings = np.array([[4, 0, 2, 5, 0], [0, 5, 0, 3, 2], [2, 0, 3, 4, 0], [5, 4, 3, 0, 0]])\n",
    "print(ratings)\n",
    "\n",
    "# mean normalization\n",
    "mu = np.mean(ratings, axis=-1).reshape(-1, 1)\n",
    "print(mu)\n",
    "\n",
    "ratings_normalized = ratings - mu\n",
    "print(ratings_normalized)"
   ],
   "metadata": {
    "collapsed": false,
    "ExecuteTime": {
     "end_time": "2024-09-28T07:18:42.719304009Z",
     "start_time": "2024-09-28T07:18:42.687792477Z"
    }
   },
   "id": "e495ecc8dec17322"
  },
  {
   "cell_type": "markdown",
   "source": [
    "Tensorflow Implementation\n",
    "-------------------------\n",
    "Tensorflow can help you automatically compute the derivatives and update the parameters. ---> Auto Diff\n",
    "Let's see the code:"
   ],
   "metadata": {
    "collapsed": false
   },
   "id": "a228aac8d6cc0578"
  },
  {
   "cell_type": "code",
   "execution_count": 2,
   "outputs": [
    {
     "name": "stdout",
     "output_type": "stream",
     "text": [
      "iteration 0: loss = 4.0, w = 2.9600000381469727\n",
      "iteration 1: loss = 3.841600179672241, w = 2.920799970626831\n",
      "iteration 2: loss = 3.6894724369049072, w = 2.8823840618133545\n",
      "iteration 3: loss = 3.543369770050049, w = 2.844736337661743\n",
      "iteration 4: loss = 3.4030520915985107, w = 2.8078415393829346\n",
      "iteration 5: loss = 3.2682909965515137, w = 2.7716846466064453\n",
      "iteration 6: loss = 3.138866424560547, w = 2.736250877380371\n",
      "iteration 7: loss = 3.0145671367645264, w = 2.701525926589966\n",
      "iteration 8: loss = 2.895190477371216, w = 2.6674954891204834\n",
      "iteration 9: loss = 2.780541181564331, w = 2.634145498275757\n",
      "iteration 10: loss = 2.670431613922119, w = 2.6014626026153564\n",
      "iteration 11: loss = 2.5646824836730957, w = 2.5694334506988525\n",
      "iteration 12: loss = 2.4631214141845703, w = 2.5380446910858154\n",
      "iteration 13: loss = 2.365581512451172, w = 2.5072836875915527\n",
      "iteration 14: loss = 2.271904230117798, w = 2.477138042449951\n",
      "iteration 15: loss = 2.181936740875244, w = 2.4475953578948975\n",
      "iteration 16: loss = 2.0955324172973633, w = 2.4186434745788574\n",
      "iteration 17: loss = 2.01254940032959, w = 2.390270709991455\n",
      "iteration 18: loss = 1.9328526258468628, w = 2.3624653816223145\n",
      "iteration 19: loss = 1.8563119173049927, w = 2.3352160453796387\n",
      "iteration 20: loss = 1.782801866531372, w = 2.308511734008789\n",
      "iteration 21: loss = 1.7122029066085815, w = 2.282341480255127\n",
      "iteration 22: loss = 1.644399642944336, w = 2.2566945552825928\n",
      "iteration 23: loss = 1.579281210899353, w = 2.231560707092285\n",
      "iteration 24: loss = 1.5167417526245117, w = 2.2069294452667236\n",
      "iteration 25: loss = 1.4566786289215088, w = 2.182790756225586\n",
      "iteration 26: loss = 1.398993968963623, w = 2.159134864807129\n",
      "iteration 27: loss = 1.3435935974121094, w = 2.1359522342681885\n",
      "iteration 28: loss = 1.290387511253357, w = 2.1132330894470215\n",
      "iteration 29: loss = 1.2392878532409668, w = 2.090968370437622\n"
     ]
    }
   ],
   "source": [
    "import tensorflow as tf\n",
    "\n",
    "\n",
    "w = tf.Variable(3.0)    # initial value of w, w is a parameter we want to optimize\n",
    "x = 1.0\n",
    "y = 1.0\n",
    "alpha = 0.01    # learning rate\n",
    "iterations = 30\n",
    "\n",
    "for i in range(iterations):\n",
    "    # Use tensorflow's GradientTape to record the steps\n",
    "    # used to compute the costJ, to enable auto differentiation\n",
    "    with tf.GradientTape() as tape:\n",
    "        fwb = w * x\n",
    "        costJ = (fwb - y)**2\n",
    "    \n",
    "    # Use the gradient tape to calculate the gradients\n",
    "    # of the cost with respect to parameter w\n",
    "    gradient = tape.gradient(costJ, w)\n",
    "    # Run one step of gradient descent by updating\n",
    "    # the value of w to reduce the cost\n",
    "    w.assign_add(-alpha * gradient)\n",
    "    print(f'iteration {i}: loss = {costJ.numpy()}, w = {w.numpy()}')"
   ],
   "metadata": {
    "collapsed": false,
    "ExecuteTime": {
     "end_time": "2024-09-29T14:58:06.864262796Z",
     "start_time": "2024-09-29T14:58:06.789790773Z"
    }
   },
   "id": "6d69c59973a33a4a"
  },
  {
   "cell_type": "markdown",
   "source": [
    "so the main work that needs to be done is to define the cost function for Tensorflow.\n",
    "Note: With tensorflow, you can use not just gradient descent, but more advanced optimization algorithms, like the Adam optimizer."
   ],
   "metadata": {
    "collapsed": false
   },
   "id": "ae0424b2180e16c8"
  },
  {
   "cell_type": "markdown",
   "source": [
    "Finding Related Items\n",
    "---------------------\n",
    "The features x(i) of item i can be hard to interpret.\n",
    "But all the x(i) features collectively can tell us sth about the item.\n",
    "To find other items related to item i:\n",
    "- find item k with x(k) similar to x(i)\n",
    "- to calculate the similarity, use the squared distance formula for the two vectors: ||x(i) - x(k)||^2"
   ],
   "metadata": {
    "collapsed": false
   },
   "id": "af17e45c0c11ace6"
  },
  {
   "cell_type": "markdown",
   "source": [
    "Limitations of Collaborative Filtering\n",
    "-----------------------\n",
    "1. Cold start problem: what if a new user or a new item is introduced?\n",
    "2. Use side information about items or users:\n",
    "    - Item: genre, movie stars, studio,...\n",
    "    - User: demographics, expressed preferences,..."
   ],
   "metadata": {
    "collapsed": false
   },
   "id": "6fd8f17559deff92"
  },
  {
   "cell_type": "markdown",
   "source": [],
   "metadata": {
    "collapsed": false
   },
   "id": "656be10501863355"
  },
  {
   "cell_type": "markdown",
   "source": [
    "Content-Based Filtering\n",
    "=======================\n",
    "Content-Based Filtering vs. Collaborative Filtering\n",
    "----------------------------------------------------\n",
    "- Collaborative filtering: Recommend items to you based on ratings of other users who gave similar ratings as you.\n",
    "- Content-based filtering: Recommend items to you based on the features of users and item to find good match.\n",
    "\n",
    "Examples of user and item features:\n",
    "- user: age, gender, country, movies watched, avg rating per genre,...  --> x_u(j) for user j\n",
    "- movie: year, genre, reviews, avg rating,... --> x_m(i) for movie i\n",
    "\n",
    "Learning to Match\n",
    "-----------------\n",
    "Predict rating of user j on movie i as:\n",
    "- V_u(j).V_m(i)  --> dot product of the feature vectors of user j and movie i\n",
    "- V_u(j) is computed from x_u(j) and V_m(i) is computed from x_m(i)\n",
    "- But how can we compute the two vectors such that they compactly represent user's preferences and movie's features?\n",
    "- Note that while x_u and x_m can be in any dimension, the v_u and v_m vectors must be exactly of the same dimension."
   ],
   "metadata": {
    "collapsed": false
   },
   "id": "fcfe13f333ad2401"
  },
  {
   "cell_type": "markdown",
   "source": [
    "Deep Learning for Content-Based Filtering\n",
    "=========================================\n",
    "We will have two networks, one for users and one for movies.\n",
    "- The user network will take the user's features and output the user's preferences vector.\n",
    "- The movie network will take the movie's features and output the movie's features vector.\n",
    "- Note that the networks can have different architectures, except for the last layer where the output vectors must have the same dimension.\n",
    "- Then the prediction will be: V_u(j).V_m(i)\n",
    "- If we have binary labels, then we can pass the dot product to a sigmoid function to get the probability of the user liking the movie.\n",
    "\n",
    "The cost function will be:\n",
    "J = sum(V_u(j).V_m(i) - y(i,j))^2 for all pairs of (i,j) where R(i,j) = 1 + neural network regularization term\n",
    "So there's no separate procedure for the user and movie networks, they are trained together."
   ],
   "metadata": {
    "collapsed": false
   },
   "id": "dd14e85361d37b2f"
  },
  {
   "cell_type": "markdown",
   "source": [
    "It turns out that you can use this algorithm to find similar items as we saw in collaborative filtering.\n",
    "- Suppose we have V_u(j) and V_m(i) for user j and movie i.\n",
    "- So, the vector describing movie i is V_u(i)\n",
    "- To find similar movies to movie i, we can find movies with similar V_m(i) vectors; that is min ||V_m(i) - V_m(k)||^2.\n",
    "\n",
    "Note: This can be pre-computed ahead of time, meaning you can run the algorithm overnight and then show the user tomorrow."
   ],
   "metadata": {
    "collapsed": false
   },
   "id": "e50e09394856566"
  },
  {
   "cell_type": "markdown",
   "source": [
    "Recommending for a Large Catalogue\n",
    "===================================\n",
    "A recommender system might have to recommend from a large catalogue of items.\n",
    "How do we do it that is computationally efficient?\n",
    "\n",
    "One way is to use a two-step process(retrieval and ranking):\n",
    "- Retrieval: Generate large list of plausible item candidates\n",
    "- 1. for each of the last 10 movies watched by the user, find 10 most similar movies\n",
    "- 2. for most viewed 3 genres, find the top 10 movies\n",
    "- 3. top 20 movies in the country\n",
    "In this step, we are using the pre-computed list of similar movies to create a list of movies the user might like (plausible candidates).\n",
    "The main goal of Retrieval is good coverage, to have enough movies that the user will like some of them.\n",
    "- 4. combine retrieved items into list, removing duplicates and items already watched/purchased\n",
    "\n",
    "- Ranking: Rank the list of plausible candidates using the learned model\n",
    "\n",
    "- How many items should we feed the network as input?\n",
    "- Retrieving more items results in better performance, but slower recommendations.\n",
    "- To analyze/optimize the trade-off, carry out offline experiments to see if retrieving additional items results in more relevant recommendations (i.e., p(y(i,j) = 1) of items displayed to user are higher)."
   ],
   "metadata": {
    "collapsed": false
   },
   "id": "af7014a6adc64d10"
  },
  {
   "cell_type": "markdown",
   "source": [
    "Principal Component Analysis (PCA)\n",
    "===================================\n",
    "PCA is a dimensionality reduction algorithm.\n",
    "- It can be used to reduce the number of features of a dataset.\n",
    "- It can be used to compress the data.\n",
    "- It can be used to visualize high-dimensional data.\n",
    "- It can be used to speed up learning algorithms.\n",
    "- It can be used to remove noise from data.\n",
    "- It can be used to find patterns in data.\n",
    "- It can be used to find the directions of maximum variance in data.\n",
    "\n",
    "PCA is a linear transformation:\n",
    "- It rotates the data so that the rotated features are statistically uncorrelated.\n",
    "- It projects the data onto the rotated features.\n",
    "- It sorts the rotated features by decreasing variance.\n",
    "- It selects the first k rotated features to reduce the dimensionality of the data.\n",
    "- The first k rotated features are the principal components of the data.\n",
    "- The first principal component is the direction in which the data varies the most.\n",
    "- The k-th principal component is the direction in which the data varies the k-th most.\n",
    "\n",
    "The algorithm:\n",
    "- Normalize the data.\n",
    "- Compute the covariance matrix of the data.\n",
    "- Compute the eigenvectors of the covariance matrix.\n",
    "- Select the first k eigenvectors.\n",
    "- Project the data onto the selected eigenvectors.\n",
    "- The projected data is the reduced data.\n",
    "- The eigenvectors are the principal components.\n",
    "- The eigenvalues are the variances of the principal components.\n",
    "- The variance of the data is the sum of the eigenvalues.\n",
    "- The variance retained by the reduced data is the sum of the k largest eigenvalues divided by the sum of all eigenvalues."
   ],
   "metadata": {
    "collapsed": false
   },
   "id": "d70ed58ad06e010f"
  },
  {
   "cell_type": "markdown",
   "source": [
    "Note: PCA can also be used to reconstruct the data back to its original dimensionality approximately."
   ],
   "metadata": {
    "collapsed": false
   },
   "id": "e9b87e5db1812595"
  },
  {
   "cell_type": "code",
   "execution_count": 1,
   "outputs": [
    {
     "data": {
      "text/plain": "<Figure size 640x480 with 1 Axes>",
      "image/png": "[encoded data removed]"
     },
     "metadata": {},
     "output_type": "display_data"
    }
   ],
   "source": [
    "import numpy as np\n",
    "from sklearn.decomposition import PCA\n",
    "import matplotlib.pyplot as plt\n",
    "\n",
    "\n",
    "# generate some data\n",
    "np.random.seed(0)\n",
    "X = np.dot(np.random.rand(2, 2), np.random.randn(2, 200)).T\n",
    "plt.scatter(X[:, 0], X[:, 1])\n",
    "plt.axis('equal')\n",
    "plt.show()"
   ],
   "metadata": {
    "collapsed": false,
    "ExecuteTime": {
     "end_time": "2024-10-07T11:04:33.356560172Z",
     "start_time": "2024-10-07T11:04:30.501442195Z"
    }
   },
   "id": "f988748f7b2b4086"
  },
  {
   "cell_type": "code",
   "execution_count": 2,
   "outputs": [
    {
     "data": {
      "text/plain": "PCA(n_components=1)",
      "text/html": "<style>#sk-container-id-1 {\n  /* Definition of color scheme common for light and dark mode */\n  --sklearn-color-text: black;\n  --sklearn-color-line: gray;\n  /* Definition of color scheme for unfitted estimators */\n  --sklearn-color-unfitted-level-0: #fff5e6;\n  --sklearn-color-unfitted-level-1: #f6e4d2;\n  --sklearn-color-unfitted-level-2: #ffe0b3;\n  --sklearn-color-unfitted-level-3: chocolate;\n  /* Definition of color scheme for fitted estimators */\n  --sklearn-color-fitted-level-0: #f0f8ff;\n  --sklearn-color-fitted-level-1: #d4ebff;\n  --sklearn-color-fitted-level-2: #b3dbfd;\n  --sklearn-color-fitted-level-3: cornflowerblue;\n\n  /* Specific color for light theme */\n  --sklearn-color-text-on-default-background: var(--sg-text-color, var(--theme-code-foreground, var(--jp-content-font-color1, black)));\n  --sklearn-color-background: var(--sg-background-color, var(--theme-background, var(--jp-layout-color0, white)));\n  --sklearn-color-border-box: var(--sg-text-color, var(--theme-code-foreground, var(--jp-content-font-color1, black)));\n  --sklearn-color-icon: #696969;\n\n  @media (prefers-color-scheme: dark) {\n    /* Redefinition of color scheme for dark theme */\n    --sklearn-color-text-on-default-background: var(--sg-text-color, var(--theme-code-foreground, var(--jp-content-font-color1, white)));\n    --sklearn-color-background: var(--sg-background-color, var(--theme-background, var(--jp-layout-color0, #111)));\n    --sklearn-color-border-box: var(--sg-text-color, var(--theme-code-foreground, var(--jp-content-font-color1, white)));\n    --sklearn-color-icon: #878787;\n  }\n}\n\n#sk-container-id-1 {\n  color: var(--sklearn-color-text);\n}\n\n#sk-container-id-1 pre {\n  padding: 0;\n}\n\n#sk-container-id-1 input.sk-hidden--visually {\n  border: 0;\n  clip: rect(1px 1px 1px 1px);\n  clip: rect(1px, 1px, 1px, 1px);\n  height: 1px;\n  margin: -1px;\n  overflow: hidden;\n  padding: 0;\n  position: absolute;\n  width: 1px;\n}\n\n#sk-container-id-1 div.sk-dashed-wrapped {\n  border: 1px dashed var(--sklearn-color-line);\n  margin: 0 0.4em 0.5em 0.4em;\n  box-sizing: border-box;\n  padding-bottom: 0.4em;\n  background-color: var(--sklearn-color-background);\n}\n\n#sk-container-id-1 div.sk-container {\n  /* jupyter's `normalize.less` sets `[hidden] { display: none; }`\n     but bootstrap.min.css set `[hidden] { display: none !important; }`\n     so we also need the `!important` here to be able to override the\n     default hidden behavior on the sphinx rendered scikit-learn.org.\n     See: https://github.com/scikit-learn/scikit-learn/issues/21755 */\n  display: inline-block !important;\n  position: relative;\n}\n\n#sk-container-id-1 div.sk-text-repr-fallback {\n  display: none;\n}\n\ndiv.sk-parallel-item,\ndiv.sk-serial,\ndiv.sk-item {\n  /* draw centered vertical line to link estimators */\n  background-image: linear-gradient(var(--sklearn-color-text-on-default-background), var(--sklearn-color-text-on-default-background));\n  background-size: 2px 100%;\n  background-repeat: no-repeat;\n  background-position: center center;\n}\n\n/* Parallel-specific style estimator block */\n\n#sk-container-id-1 div.sk-parallel-item::after {\n  content: \"\";\n  width: 100%;\n  border-bottom: 2px solid var(--sklearn-color-text-on-default-background);\n  flex-grow: 1;\n}\n\n#sk-container-id-1 div.sk-parallel {\n  display: flex;\n  align-items: stretch;\n  justify-content: center;\n  background-color: var(--sklearn-color-background);\n  position: relative;\n}\n\n#sk-container-id-1 div.sk-parallel-item {\n  display: flex;\n  flex-direction: column;\n}\n\n#sk-container-id-1 div.sk-parallel-item:first-child::after {\n  align-self: flex-end;\n  width: 50%;\n}\n\n#sk-container-id-1 div.sk-parallel-item:last-child::after {\n  align-self: flex-start;\n  width: 50%;\n}\n\n#sk-container-id-1 div.sk-parallel-item:only-child::after {\n  width: 0;\n}\n\n/* Serial-specific style estimator block */\n\n#sk-container-id-1 div.sk-serial {\n  display: flex;\n  flex-direction: column;\n  align-items: center;\n  background-color: var(--sklearn-color-background);\n  padding-right: 1em;\n  padding-left: 1em;\n}\n\n\n/* Toggleable style: style used for estimator/Pipeline/ColumnTransformer box that is\nclickable and can be expanded/collapsed.\n- Pipeline and ColumnTransformer use this feature and define the default style\n- Estimators will overwrite some part of the style using the `sk-estimator` class\n*/\n\n/* Pipeline and ColumnTransformer style (default) */\n\n#sk-container-id-1 div.sk-toggleable {\n  /* Default theme specific background. It is overwritten whether we have a\n  specific estimator or a Pipeline/ColumnTransformer */\n  background-color: var(--sklearn-color-background);\n}\n\n/* Toggleable label */\n#sk-container-id-1 label.sk-toggleable__label {\n  cursor: pointer;\n  display: block;\n  width: 100%;\n  margin-bottom: 0;\n  padding: 0.5em;\n  box-sizing: border-box;\n  text-align: center;\n}\n\n#sk-container-id-1 label.sk-toggleable__label-arrow:before {\n  /* Arrow on the left of the label */\n  content: \"▸\";\n  float: left;\n  margin-right: 0.25em;\n  color: var(--sklearn-color-icon);\n}\n\n#sk-container-id-1 label.sk-toggleable__label-arrow:hover:before {\n  color: var(--sklearn-color-text);\n}\n\n/* Toggleable content - dropdown */\n\n#sk-container-id-1 div.sk-toggleable__content {\n  max-height: 0;\n  max-width: 0;\n  overflow: hidden;\n  text-align: left;\n  /* unfitted */\n  background-color: var(--sklearn-color-unfitted-level-0);\n}\n\n#sk-container-id-1 div.sk-toggleable__content.fitted {\n  /* fitted */\n  background-color: var(--sklearn-color-fitted-level-0);\n}\n\n#sk-container-id-1 div.sk-toggleable__content pre {\n  margin: 0.2em;\n  border-radius: 0.25em;\n  color: var(--sklearn-color-text);\n  /* unfitted */\n  background-color: var(--sklearn-color-unfitted-level-0);\n}\n\n#sk-container-id-1 div.sk-toggleable__content.fitted pre {\n  /* unfitted */\n  background-color: var(--sklearn-color-fitted-level-0);\n}\n\n#sk-container-id-1 input.sk-toggleable__control:checked~div.sk-toggleable__content {\n  /* Expand drop-down */\n  max-height: 200px;\n  max-width: 100%;\n  overflow: auto;\n}\n\n#sk-container-id-1 input.sk-toggleable__control:checked~label.sk-toggleable__label-arrow:before {\n  content: \"▾\";\n}\n\n/* Pipeline/ColumnTransformer-specific style */\n\n#sk-container-id-1 div.sk-label input.sk-toggleable__control:checked~label.sk-toggleable__label {\n  color: var(--sklearn-color-text);\n  background-color: var(--sklearn-color-unfitted-level-2);\n}\n\n#sk-container-id-1 div.sk-label.fitted input.sk-toggleable__control:checked~label.sk-toggleable__label {\n  background-color: var(--sklearn-color-fitted-level-2);\n}\n\n/* Estimator-specific style */\n\n/* Colorize estimator box */\n#sk-container-id-1 div.sk-estimator input.sk-toggleable__control:checked~label.sk-toggleable__label {\n  /* unfitted */\n  background-color: var(--sklearn-color-unfitted-level-2);\n}\n\n#sk-container-id-1 div.sk-estimator.fitted input.sk-toggleable__control:checked~label.sk-toggleable__label {\n  /* fitted */\n  background-color: var(--sklearn-color-fitted-level-2);\n}\n\n#sk-container-id-1 div.sk-label label.sk-toggleable__label,\n#sk-container-id-1 div.sk-label label {\n  /* The background is the default theme color */\n  color: var(--sklearn-color-text-on-default-background);\n}\n\n/* On hover, darken the color of the background */\n#sk-container-id-1 div.sk-label:hover label.sk-toggleable__label {\n  color: var(--sklearn-color-text);\n  background-color: var(--sklearn-color-unfitted-level-2);\n}\n\n/* Label box, darken color on hover, fitted */\n#sk-container-id-1 div.sk-label.fitted:hover label.sk-toggleable__label.fitted {\n  color: var(--sklearn-color-text);\n  background-color: var(--sklearn-color-fitted-level-2);\n}\n\n/* Estimator label */\n\n#sk-container-id-1 div.sk-label label {\n  font-family: monospace;\n  font-weight: bold;\n  display: inline-block;\n  line-height: 1.2em;\n}\n\n#sk-container-id-1 div.sk-label-container {\n  text-align: center;\n}\n\n/* Estimator-specific */\n#sk-container-id-1 div.sk-estimator {\n  font-family: monospace;\n  border: 1px dotted var(--sklearn-color-border-box);\n  border-radius: 0.25em;\n  box-sizing: border-box;\n  margin-bottom: 0.5em;\n  /* unfitted */\n  background-color: var(--sklearn-color-unfitted-level-0);\n}\n\n#sk-container-id-1 div.sk-estimator.fitted {\n  /* fitted */\n  background-color: var(--sklearn-color-fitted-level-0);\n}\n\n/* on hover */\n#sk-container-id-1 div.sk-estimator:hover {\n  /* unfitted */\n  background-color: var(--sklearn-color-unfitted-level-2);\n}\n\n#sk-container-id-1 div.sk-estimator.fitted:hover {\n  /* fitted */\n  background-color: var(--sklearn-color-fitted-level-2);\n}\n\n/* Specification for estimator info (e.g. \"i\" and \"?\") */\n\n/* Common style for \"i\" and \"?\" */\n\n.sk-estimator-doc-link,\na:link.sk-estimator-doc-link,\na:visited.sk-estimator-doc-link {\n  float: right;\n  font-size: smaller;\n  line-height: 1em;\n  font-family: monospace;\n  background-color: var(--sklearn-color-background);\n  border-radius: 1em;\n  height: 1em;\n  width: 1em;\n  text-decoration: none !important;\n  margin-left: 1ex;\n  /* unfitted */\n  border: var(--sklearn-color-unfitted-level-1) 1pt solid;\n  color: var(--sklearn-color-unfitted-level-1);\n}\n\n.sk-estimator-doc-link.fitted,\na:link.sk-estimator-doc-link.fitted,\na:visited.sk-estimator-doc-link.fitted {\n  /* fitted */\n  border: var(--sklearn-color-fitted-level-1) 1pt solid;\n  color: var(--sklearn-color-fitted-level-1);\n}\n\n/* On hover */\ndiv.sk-estimator:hover .sk-estimator-doc-link:hover,\n.sk-estimator-doc-link:hover,\ndiv.sk-label-container:hover .sk-estimator-doc-link:hover,\n.sk-estimator-doc-link:hover {\n  /* unfitted */\n  background-color: var(--sklearn-color-unfitted-level-3);\n  color: var(--sklearn-color-background);\n  text-decoration: none;\n}\n\ndiv.sk-estimator.fitted:hover .sk-estimator-doc-link.fitted:hover,\n.sk-estimator-doc-link.fitted:hover,\ndiv.sk-label-container:hover .sk-estimator-doc-link.fitted:hover,\n.sk-estimator-doc-link.fitted:hover {\n  /* fitted */\n  background-color: var(--sklearn-color-fitted-level-3);\n  color: var(--sklearn-color-background);\n  text-decoration: none;\n}\n\n/* Span, style for the box shown on hovering the info icon */\n.sk-estimator-doc-link span {\n  display: none;\n  z-index: 9999;\n  position: relative;\n  font-weight: normal;\n  right: .2ex;\n  padding: .5ex;\n  margin: .5ex;\n  width: min-content;\n  min-width: 20ex;\n  max-width: 50ex;\n  color: var(--sklearn-color-text);\n  box-shadow: 2pt 2pt 4pt #999;\n  /* unfitted */\n  background: var(--sklearn-color-unfitted-level-0);\n  border: .5pt solid var(--sklearn-color-unfitted-level-3);\n}\n\n.sk-estimator-doc-link.fitted span {\n  /* fitted */\n  background: var(--sklearn-color-fitted-level-0);\n  border: var(--sklearn-color-fitted-level-3);\n}\n\n.sk-estimator-doc-link:hover span {\n  display: block;\n}\n\n/* \"?\"-specific style due to the `<a>` HTML tag */\n\n#sk-container-id-1 a.estimator_doc_link {\n  float: right;\n  font-size: 1rem;\n  line-height: 1em;\n  font-family: monospace;\n  background-color: var(--sklearn-color-background);\n  border-radius: 1rem;\n  height: 1rem;\n  width: 1rem;\n  text-decoration: none;\n  /* unfitted */\n  color: var(--sklearn-color-unfitted-level-1);\n  border: var(--sklearn-color-unfitted-level-1) 1pt solid;\n}\n\n#sk-container-id-1 a.estimator_doc_link.fitted {\n  /* fitted */\n  border: var(--sklearn-color-fitted-level-1) 1pt solid;\n  color: var(--sklearn-color-fitted-level-1);\n}\n\n/* On hover */\n#sk-container-id-1 a.estimator_doc_link:hover {\n  /* unfitted */\n  background-color: var(--sklearn-color-unfitted-level-3);\n  color: var(--sklearn-color-background);\n  text-decoration: none;\n}\n\n#sk-container-id-1 a.estimator_doc_link.fitted:hover {\n  /* fitted */\n  background-color: var(--sklearn-color-fitted-level-3);\n}\n</style><div id=\"sk-container-id-1\" class=\"sk-top-container\"><div class=\"sk-text-repr-fallback\"><pre>PCA(n_components=1)</pre><b>In a Jupyter environment, please rerun this cell to show the HTML representation or trust the notebook. <br />On GitHub, the HTML representation is unable to render, please try loading this page with nbviewer.org.</b></div><div class=\"sk-container\" hidden><div class=\"sk-item\"><div class=\"sk-estimator  sk-toggleable\"><input class=\"sk-toggleable__control sk-hidden--visually\" id=\"sk-estimator-id-1\" type=\"checkbox\" checked><label for=\"sk-estimator-id-1\" class=\"sk-toggleable__label  sk-toggleable__label-arrow \">&nbsp;&nbsp;PCA<a class=\"sk-estimator-doc-link \" rel=\"noreferrer\" target=\"_blank\" href=\"https://scikit-learn.org/1.5/modules/generated/sklearn.decomposition.PCA.html\">?<span>Documentation for PCA</span></a><span class=\"sk-estimator-doc-link \">i<span>Not fitted</span></span></label><div class=\"sk-toggleable__content \"><pre>PCA(n_components=1)</pre></div> </div></div></div></div>"
     },
     "execution_count": 2,
     "metadata": {},
     "output_type": "execute_result"
    }
   ],
   "source": [
    "# PCA\n",
    "pca = PCA(n_components=1)\n",
    "pca"
   ],
   "metadata": {
    "collapsed": false,
    "ExecuteTime": {
     "end_time": "2024-10-07T11:05:17.017921490Z",
     "start_time": "2024-10-07T11:05:16.900275108Z"
    }
   },
   "id": "7698e9c076e32401"
  },
  {
   "cell_type": "code",
   "execution_count": 3,
   "outputs": [],
   "source": [
    "X_pca = pca.fit_transform(X)"
   ],
   "metadata": {
    "collapsed": false,
    "ExecuteTime": {
     "end_time": "2024-10-07T11:05:40.928767746Z",
     "start_time": "2024-10-07T11:05:40.923467511Z"
    }
   },
   "id": "943a552dc78146c3"
  },
  {
   "cell_type": "code",
   "execution_count": 7,
   "outputs": [
    {
     "data": {
      "text/plain": "array([[ 2.17116202],\n       [-2.15933307],\n       [ 0.83140174],\n       [-0.70178482],\n       [ 0.24902873]])"
     },
     "execution_count": 7,
     "metadata": {},
     "output_type": "execute_result"
    }
   ],
   "source": [
    "X_pca[:5]"
   ],
   "metadata": {
    "collapsed": false,
    "ExecuteTime": {
     "end_time": "2024-10-07T11:07:29.639627554Z",
     "start_time": "2024-10-07T11:07:29.625730467Z"
    }
   },
   "id": "6309b6078a24905"
  },
  {
   "cell_type": "code",
   "execution_count": 4,
   "outputs": [
    {
     "data": {
      "text/plain": "array([0.99293528])"
     },
     "execution_count": 4,
     "metadata": {},
     "output_type": "execute_result"
    }
   ],
   "source": [
    "pca.explained_variance_ratio_"
   ],
   "metadata": {
    "collapsed": false,
    "ExecuteTime": {
     "end_time": "2024-10-07T11:06:07.498810254Z",
     "start_time": "2024-10-07T11:06:07.370788398Z"
    }
   },
   "id": "76b3c03f3bf4401c"
  },
  {
   "cell_type": "code",
   "execution_count": 10,
   "outputs": [
    {
     "data": {
      "text/plain": "<Figure size 640x480 with 1 Axes>",
      "image/png": "[encoded data removed]"
     },
     "metadata": {},
     "output_type": "display_data"
    }
   ],
   "source": [
    "X_new = pca.inverse_transform(X_pca)\n",
    "plt.scatter(X[:, 0], X[:, 1], alpha=0.2)\n",
    "plt.scatter(X_new[:, 0], X_new[:, 1], alpha=0.8)\n",
    "plt.axis('equal')\n",
    "plt.show()"
   ],
   "metadata": {
    "collapsed": false,
    "ExecuteTime": {
     "end_time": "2024-10-07T11:09:15.851431166Z",
     "start_time": "2024-10-07T11:09:15.575832942Z"
    }
   },
   "id": "c7af36e77aa090cc"
  }
 ],
 "metadata": {
  "kernelspec": {
   "name": "pycharm-env",
   "language": "python",
   "display_name": "Python (PyCharm)"
  },
  "language_info": {
   "codemirror_mode": {
    "name": "ipython",
    "version": 2
   },
   "file_extension": ".py",
   "mimetype": "text/x-python",
   "name": "python",
   "nbconvert_exporter": "python",
   "pygments_lexer": "ipython2",
   "version": "2.7.6"
  }
 },
 "nbformat": 4,
 "nbformat_minor": 5
}
