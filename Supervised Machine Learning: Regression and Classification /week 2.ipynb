{
 "cells": [
  {
   "cell_type": "markdown",
   "id": "cc948ffcf16b8c09",
   "metadata": {},
   "source": [
    "Multiple Linear Regression\n",
    "=========================\n",
    "f(x) = b + w1X1 + w2X2 + ... + wnXn\n",
    "\n",
    "w = [w1, w2, ..., wn]\n",
    "b is a number\n",
    "X = [X1, X2, ..., Xn]\n",
    "=> f(x) = b + w.X, where w and X are vectors and . represents dot product"
   ]
  },
  {
   "cell_type": "markdown",
   "source": [
    "Prepare Data"
   ],
   "metadata": {
    "collapsed": false
   },
   "id": "190a0009d98b19ec"
  },
  {
   "cell_type": "code",
   "execution_count": 1,
   "id": "initial_id",
   "metadata": {
    "ExecuteTime": {
     "end_time": "2024-06-10T17:31:33.974906006Z",
     "start_time": "2024-06-10T17:31:32.347035131Z"
    }
   },
   "outputs": [],
   "source": [
    "import copy\n",
    "\n",
    "import matplotlib.pyplot as plt\n",
    "import numpy as np\n",
    "from sklearn.model_selection import train_test_split\n",
    "\n",
    "# load csv data\n",
    "data = np.genfromtxt('../Student_Performance.csv', delimiter=',', skip_header=1)\n",
    "\n",
    "# drop rows with missing values\n",
    "data = data[~np.isnan(data).any(axis=1)]\n",
    "\n",
    "# split data into X and y\n",
    "X = data[:, :-1]\n",
    "y = data[:, -1]\n",
    "\n",
    "# split data into training and testing\n",
    "X_train, X_test, y_train, y_test = train_test_split(X, y, test_size=0.2, random_state=42)"
   ]
  },
  {
   "cell_type": "markdown",
   "source": [
    "Cost Function\n",
    "=============\n",
    "J(w, b) = 1/2m * sum((f(x) - y)^2)"
   ],
   "metadata": {
    "collapsed": false
   },
   "id": "e6359ee724220abd"
  },
  {
   "cell_type": "code",
   "execution_count": 2,
   "outputs": [],
   "source": [
    "def compute_cost(X, y, w, b):\n",
    "    m = X.shape[0]\n",
    "    cost = 0.0\n",
    "    for i in range(m):\n",
    "        f_wb_i = np.dot(X[i], w) + b\n",
    "        cost = cost + (f_wb_i - y[i]) ** 2\n",
    "    cost = cost / (2 * m)\n",
    "    return cost"
   ],
   "metadata": {
    "collapsed": false,
    "ExecuteTime": {
     "end_time": "2024-06-10T17:31:57.880846277Z",
     "start_time": "2024-06-10T17:31:57.872143838Z"
    }
   },
   "id": "7560cc4f017445c5"
  },
  {
   "cell_type": "markdown",
   "source": [
    "Gradient Descent\n",
    "================\n",
    "w = w - alpha * dJ(w, b)/dw\n",
    "b = b - alpha * dJ(w, b)/db\n",
    "\n",
    "where dJ(w, b)/dw = 1/m * sum((f(x) - y) * x)\n",
    "and dJ(w, b)/db = 1/m * sum(f(x) - y)"
   ],
   "metadata": {
    "collapsed": false
   },
   "id": "f097a9d7c0f9d596"
  },
  {
   "cell_type": "code",
   "execution_count": 3,
   "outputs": [],
   "source": [
    "def compute_gradient(X, y, w, b):\n",
    "    m, n = X.shape\n",
    "    dj_dw = np.zeros((n,))\n",
    "    dj_db = 0.\n",
    "\n",
    "    for i in range(m):\n",
    "        err = (np.dot(X[i], w) + b) - y[i]\n",
    "        for j in range(n):\n",
    "            dj_dw[j] = dj_dw[j] + err * X[i, j]\n",
    "        dj_db = dj_db + err\n",
    "    dj_dw = dj_dw / m\n",
    "    dj_db = dj_db / m\n",
    "\n",
    "    return dj_db, dj_dw\n",
    "\n",
    "\n",
    "def gradient_descent(X, y, w_in, b_in, cost_function, gradient_function, alpha, num_iters):\n",
    "    # An array to store cost J and w's at each iteration primarily for graphing later\n",
    "    J_history = []\n",
    "    w = copy.deepcopy(w_in)  # avoid modifying global w within function\n",
    "    b = b_in\n",
    "\n",
    "    for i in range(num_iters):\n",
    "        dj_db, dj_dw = gradient_function(X, y, w, b)\n",
    "        w = w - alpha * dj_dw\n",
    "        b = b - alpha * dj_db\n",
    "\n",
    "        # Save cost J at each iteration\n",
    "        if i < 100000:  # prevent resource exhaustion \n",
    "            J_history.append(cost_function(X, y, w, b))\n",
    "\n",
    "    return w, b, J_history"
   ],
   "metadata": {
    "collapsed": false,
    "ExecuteTime": {
     "end_time": "2024-06-10T17:33:50.432100256Z",
     "start_time": "2024-06-10T17:33:50.419273524Z"
    }
   },
   "id": "5bd52afd5647e52a"
  },
  {
   "cell_type": "markdown",
   "source": [
    "Test with Test Data\n",
    "======="
   ],
   "metadata": {
    "collapsed": false
   },
   "id": "2142eb7ea69985f1"
  },
  {
   "cell_type": "code",
   "execution_count": 5,
   "outputs": [
    {
     "name": "stdout",
     "output_type": "stream",
     "text": [
      "w: [ 0.31554911  0.78970622 -0.02716517 -0.00297716]\n",
      "b: -0.008396176542048377\n"
     ]
    },
    {
     "data": {
      "text/plain": "<Figure size 640x480 with 1 Axes>",
      "image/png": "[encoded data removed]"
     },
     "metadata": {},
     "output_type": "display_data"
    },
    {
     "name": "stdout",
     "output_type": "stream",
     "text": [
      "Cost on test data: 32.40383882034203\n"
     ]
    }
   ],
   "source": [
    "initial_w = np.zeros(X_train.shape[1])\n",
    "initial_b = 0\n",
    "\n",
    "# play around with iterations and alpha\n",
    "iterations = 200\n",
    "alpha = 0.0001\n",
    "\n",
    "w, b, J_history = gradient_descent(X_train, y_train, initial_w, initial_b, compute_cost, compute_gradient, alpha,\n",
    "                                   iterations)\n",
    "\n",
    "print(f'w: {w}')\n",
    "print(f'b: {b}')\n",
    "\n",
    "y_pred = np.dot(X_test, w) + b\n",
    "\n",
    "# plot y_test vs y_pred and x=y line\n",
    "plt.scatter(y_test, y_pred)\n",
    "plt.plot([0, 100], [0, 100], '--k')\n",
    "plt.xlabel('True Values')\n",
    "plt.ylabel('Predictions')\n",
    "plt.show()\n",
    "\n",
    "# calculate cost on test data\n",
    "cost = compute_cost(X_test, y_test, w, b)\n",
    "print(f'Cost on test data: {cost}')"
   ],
   "metadata": {
    "collapsed": false,
    "ExecuteTime": {
     "end_time": "2024-06-10T17:36:45.718518894Z",
     "start_time": "2024-06-10T17:36:30.692083788Z"
    }
   },
   "id": "5132f0f2247d1b05"
  },
  {
   "cell_type": "markdown",
   "source": [
    "P.S: some libraries use the \"normal equation\" to solve for w and b. The normal equation is a closed-form solution that directly computes the parameters that minimize the cost function."
   ],
   "metadata": {
    "collapsed": false
   },
   "id": "1ad0046ef7cb9131"
  },
  {
   "cell_type": "code",
   "execution_count": 6,
   "outputs": [
    {
     "data": {
      "text/plain": "<Figure size 640x480 with 1 Axes>",
      "image/png": "[encoded data removed]"
     },
     "metadata": {},
     "output_type": "display_data"
    }
   ],
   "source": [
    "# plot cost vs iterations\n",
    "plt.plot(J_history)\n",
    "plt.xlabel('Iterations')\n",
    "plt.ylabel('Cost')\n",
    "plt.show()"
   ],
   "metadata": {
    "collapsed": false,
    "ExecuteTime": {
     "end_time": "2024-06-10T17:37:19.209799546Z",
     "start_time": "2024-06-10T17:37:18.993777417Z"
    }
   },
   "id": "1b298a73ec6b932b"
  },
  {
   "cell_type": "markdown",
   "source": [
    "Note that the cost is still decreasing. We will explore more on this later."
   ],
   "metadata": {
    "collapsed": false
   },
   "id": "e768c5ea432f816a"
  },
  {
   "cell_type": "markdown",
   "source": [
    "Feature Scaling\n",
    "===============\n",
    "When the possible values of features differ by orders of magnitude (e.g. one feature ranges from 0 to 1 and another ranges from 1 to 1000), it is likely that the 'w' values will also differ by orders of magnitude.\n",
    "The contour plot of the cost function will be narrow on the side of the feature with the larger range and wider on the side of the feature with the smaller range.\n",
    "In this case the algorithm will take longer to converge.\n",
    "\n",
    "To address this, we can normalize the features to have similar ranges.\n",
    "Then, the contour plot of the cost function will be more symmetric and the algorithm will converge faster.\n",
    "\n",
    "Normalization approaches:\n",
    "1. divide by maximum: x = x / max       ----> 0 <= x <= 1\n",
    "2. mean normalization: x = (x - mean) / (max - min)     ----> -1 <= x <= 1\n",
    "3. z-score normalization: x = (x - mean) / std\n",
    "\n",
    "As a rule of thumb, aim for -1 <= x <= 1\n",
    "\n",
    "Note: when in doubt, rescale the features."
   ],
   "metadata": {
    "collapsed": false
   },
   "id": "a62a7a37bc3c112f"
  },
  {
   "cell_type": "code",
   "execution_count": null,
   "outputs": [],
   "source": [
    "def normalize(X):\n",
    "    n = X.shape[1]\n",
    "    for i in range(n):\n",
    "        X[:, i] = (X[:, i] - np.mean(X[:, i])) / np.std(X[:, i])\n",
    "    return X"
   ],
   "metadata": {
    "collapsed": false
   },
   "id": "a04925c4e9ac279b"
  }
 ],
 "metadata": {
  "kernelspec": {
   "display_name": "Python 3 (ipykernel)",
   "language": "python",
   "name": "python3"
  },
  "language_info": {
   "codemirror_mode": {
    "name": "ipython",
    "version": 3
   },
   "file_extension": ".py",
   "mimetype": "text/x-python",
   "name": "python",
   "nbconvert_exporter": "python",
   "pygments_lexer": "ipython3",
   "version": "3.10.12"
  }
 },
 "nbformat": 4,
 "nbformat_minor": 5
}
