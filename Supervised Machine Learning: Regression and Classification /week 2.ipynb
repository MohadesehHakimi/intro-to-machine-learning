{
 "cells": [
  {
   "cell_type": "markdown",
   "source": [
    "Multiple Linear Regression\n",
    "=========================\n",
    "f(x) = b + w1X1 + w2X2 + ... + wnXn\n",
    "\n",
    "w = [w1, w2, ..., wn]\n",
    "b is a number\n",
    "X = [X1, X2, ..., Xn]\n",
    "=> f(x) = b + wX, where w and X are vectors\n"
   ],
   "metadata": {
    "collapsed": false
   },
   "id": "cc948ffcf16b8c09"
  },
  {
   "cell_type": "code",
   "execution_count": 1,
   "id": "initial_id",
   "metadata": {
    "collapsed": true,
    "ExecuteTime": {
     "end_time": "2024-06-03T09:17:11.303169351Z",
     "start_time": "2024-06-03T09:17:10.986547863Z"
    }
   },
   "outputs": [
    {
     "ename": "ModuleNotFoundError",
     "evalue": "No module named 'pandas'",
     "output_type": "error",
     "traceback": [
      "\u001B[0;31m---------------------------------------------------------------------------\u001B[0m",
      "\u001B[0;31mModuleNotFoundError\u001B[0m                       Traceback (most recent call last)",
      "Cell \u001B[0;32mIn[1], line 1\u001B[0m\n\u001B[0;32m----> 1\u001B[0m \u001B[38;5;28;01mimport\u001B[39;00m \u001B[38;5;21;01mpandas\u001B[39;00m \u001B[38;5;28;01mas\u001B[39;00m \u001B[38;5;21;01mpd\u001B[39;00m\n\u001B[1;32m      2\u001B[0m \u001B[38;5;28;01mimport\u001B[39;00m \u001B[38;5;21;01mnumpy\u001B[39;00m \u001B[38;5;28;01mas\u001B[39;00m \u001B[38;5;21;01mnp\u001B[39;00m\n\u001B[1;32m      3\u001B[0m \u001B[38;5;28;01mimport\u001B[39;00m \u001B[38;5;21;01mmatplotlib\u001B[39;00m\u001B[38;5;21;01m.\u001B[39;00m\u001B[38;5;21;01mpyplot\u001B[39;00m \u001B[38;5;28;01mas\u001B[39;00m \u001B[38;5;21;01mplt\u001B[39;00m\n",
      "\u001B[0;31mModuleNotFoundError\u001B[0m: No module named 'pandas'"
     ]
    }
   ],
   "source": [
    "import pandas as pd\n",
    "import numpy as np\n",
    "import matplotlib.pyplot as plt\n",
    "\n",
    "\n",
    "df = pd.read_csv('Student_Performance.csv')\n",
    "\n",
    "# Check for missing values\n",
    "print(df.isnull().sum())\n",
    "\n",
    "# Drop rows with missing values (if necessary)\n",
    "df.dropna(inplace=True)\n",
    "\n",
    "# # Encode categorical variables (if necessary)\n",
    "# # For example, if there is a categorical column named 'Category':\n",
    "# df = pd.get_dummies(df, columns=['Hours Studied', 'Previous Scores', 'ExtraCurricular Activities'], drop_first=True)\n",
    "# \n",
    "# # Define features (X) and target (y)\n",
    "# X = df.drop('target_column_name', axis=1)  # Replace 'target_column_name' with the name of your target column\n",
    "# y = df['target_column_name']"
   ]
  },
  {
   "cell_type": "markdown",
   "source": [],
   "metadata": {
    "collapsed": false
   },
   "id": "2f9dbc4505a6aaa9"
  }
 ],
 "metadata": {
  "kernelspec": {
   "display_name": "Python 3",
   "language": "python",
   "name": "python3"
  },
  "language_info": {
   "codemirror_mode": {
    "name": "ipython",
    "version": 2
   },
   "file_extension": ".py",
   "mimetype": "text/x-python",
   "name": "python",
   "nbconvert_exporter": "python",
   "pygments_lexer": "ipython2",
   "version": "2.7.6"
  }
 },
 "nbformat": 4,
 "nbformat_minor": 5
}
