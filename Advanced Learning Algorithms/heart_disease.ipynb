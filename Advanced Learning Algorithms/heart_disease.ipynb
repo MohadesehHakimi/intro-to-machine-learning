{
 "cells": [
  {
   "cell_type": "code",
   "execution_count": 1,
   "outputs": [],
   "source": [
    "import pandas as pd\n",
    "from sklearn.tree import DecisionTreeClassifier\n",
    "from sklearn.ensemble import RandomForestClassifier\n",
    "from sklearn.model_selection import train_test_split\n",
    "from sklearn.metrics import accuracy_score\n",
    "from xgboost import XGBClassifier\n",
    "import matplotlib.pyplot as plt"
   ],
   "metadata": {
    "collapsed": false,
    "ExecuteTime": {
     "end_time": "2024-09-10T09:12:00.460916133Z",
     "start_time": "2024-09-10T09:11:57.770629293Z"
    }
   },
   "id": "da204dd6bb8d98fc"
  },
  {
   "cell_type": "code",
   "execution_count": 10,
   "id": "initial_id",
   "metadata": {
    "collapsed": true,
    "ExecuteTime": {
     "end_time": "2024-09-10T09:17:39.722255184Z",
     "start_time": "2024-09-10T09:17:32.768254102Z"
    }
   },
   "outputs": [],
   "source": [
    "from ucimlrepo import fetch_ucirepo \n",
    "  \n",
    "# fetch dataset \n",
    "heart_disease = fetch_ucirepo(id=45) \n",
    "  \n",
    "# data (as pandas dataframes) \n",
    "data = heart_disease.data"
   ]
  },
  {
   "cell_type": "code",
   "execution_count": 30,
   "outputs": [
    {
     "name": "stdout",
     "output_type": "stream",
     "text": [
      "        name     role         type demographic  \\\n",
      "0        age  Feature      Integer         Age   \n",
      "1        sex  Feature  Categorical         Sex   \n",
      "2         cp  Feature  Categorical        None   \n",
      "3   trestbps  Feature      Integer        None   \n",
      "4       chol  Feature      Integer        None   \n",
      "5        fbs  Feature  Categorical        None   \n",
      "6    restecg  Feature  Categorical        None   \n",
      "7    thalach  Feature      Integer        None   \n",
      "8      exang  Feature  Categorical        None   \n",
      "9    oldpeak  Feature      Integer        None   \n",
      "10     slope  Feature  Categorical        None   \n",
      "11        ca  Feature      Integer        None   \n",
      "12      thal  Feature  Categorical        None   \n",
      "13       num   Target      Integer        None   \n",
      "\n",
      "                                          description  units missing_values  \n",
      "0                                                None  years             no  \n",
      "1                                                None   None             no  \n",
      "2                                                None   None             no  \n",
      "3   resting blood pressure (on admission to the ho...  mm Hg             no  \n",
      "4                                   serum cholestoral  mg/dl             no  \n",
      "5                     fasting blood sugar > 120 mg/dl   None             no  \n",
      "6                                                None   None             no  \n",
      "7                         maximum heart rate achieved   None             no  \n",
      "8                             exercise induced angina   None             no  \n",
      "9   ST depression induced by exercise relative to ...   None             no  \n",
      "10                                               None   None             no  \n",
      "11  number of major vessels (0-3) colored by flour...   None            yes  \n",
      "12                                               None   None            yes  \n",
      "13                         diagnosis of heart disease   None             no  \n"
     ]
    }
   ],
   "source": [
    "print(heart_disease.variables)"
   ],
   "metadata": {
    "collapsed": false,
    "ExecuteTime": {
     "end_time": "2024-09-09T11:47:58.490736306Z",
     "start_time": "2024-09-09T11:47:58.459579353Z"
    }
   },
   "id": "4350e1963796b145"
  },
  {
   "cell_type": "code",
   "execution_count": 51,
   "outputs": [
    {
     "data": {
      "text/plain": "   age  sex  cp  trestbps  chol  fbs  restecg  thalach  exang  oldpeak  slope  \\\n0   63    1   1       145   233    1        2      150      0      2.3      3   \n1   67    1   4       160   286    0        2      108      1      1.5      2   \n2   67    1   4       120   229    0        2      129      1      2.6      2   \n3   37    1   3       130   250    0        0      187      0      3.5      3   \n4   41    0   2       130   204    0        2      172      0      1.4      1   \n\n    ca  thal  \n0  0.0   6.0  \n1  3.0   3.0  \n2  2.0   7.0  \n3  0.0   3.0  \n4  0.0   3.0  ",
      "text/html": "<div>\n<style scoped>\n    .dataframe tbody tr th:only-of-type {\n        vertical-align: middle;\n    }\n\n    .dataframe tbody tr th {\n        vertical-align: top;\n    }\n\n    .dataframe thead th {\n        text-align: right;\n    }\n</style>\n<table border=\"1\" class=\"dataframe\">\n  <thead>\n    <tr style=\"text-align: right;\">\n      <th></th>\n      <th>age</th>\n      <th>sex</th>\n      <th>cp</th>\n      <th>trestbps</th>\n      <th>chol</th>\n      <th>fbs</th>\n      <th>restecg</th>\n      <th>thalach</th>\n      <th>exang</th>\n      <th>oldpeak</th>\n      <th>slope</th>\n      <th>ca</th>\n      <th>thal</th>\n    </tr>\n  </thead>\n  <tbody>\n    <tr>\n      <th>0</th>\n      <td>63</td>\n      <td>1</td>\n      <td>1</td>\n      <td>145</td>\n      <td>233</td>\n      <td>1</td>\n      <td>2</td>\n      <td>150</td>\n      <td>0</td>\n      <td>2.3</td>\n      <td>3</td>\n      <td>0.0</td>\n      <td>6.0</td>\n    </tr>\n    <tr>\n      <th>1</th>\n      <td>67</td>\n      <td>1</td>\n      <td>4</td>\n      <td>160</td>\n      <td>286</td>\n      <td>0</td>\n      <td>2</td>\n      <td>108</td>\n      <td>1</td>\n      <td>1.5</td>\n      <td>2</td>\n      <td>3.0</td>\n      <td>3.0</td>\n    </tr>\n    <tr>\n      <th>2</th>\n      <td>67</td>\n      <td>1</td>\n      <td>4</td>\n      <td>120</td>\n      <td>229</td>\n      <td>0</td>\n      <td>2</td>\n      <td>129</td>\n      <td>1</td>\n      <td>2.6</td>\n      <td>2</td>\n      <td>2.0</td>\n      <td>7.0</td>\n    </tr>\n    <tr>\n      <th>3</th>\n      <td>37</td>\n      <td>1</td>\n      <td>3</td>\n      <td>130</td>\n      <td>250</td>\n      <td>0</td>\n      <td>0</td>\n      <td>187</td>\n      <td>0</td>\n      <td>3.5</td>\n      <td>3</td>\n      <td>0.0</td>\n      <td>3.0</td>\n    </tr>\n    <tr>\n      <th>4</th>\n      <td>41</td>\n      <td>0</td>\n      <td>2</td>\n      <td>130</td>\n      <td>204</td>\n      <td>0</td>\n      <td>2</td>\n      <td>172</td>\n      <td>0</td>\n      <td>1.4</td>\n      <td>1</td>\n      <td>0.0</td>\n      <td>3.0</td>\n    </tr>\n  </tbody>\n</table>\n</div>"
     },
     "execution_count": 51,
     "metadata": {},
     "output_type": "execute_result"
    }
   ],
   "source": [
    "data.features.head()"
   ],
   "metadata": {
    "collapsed": false,
    "ExecuteTime": {
     "end_time": "2024-09-08T10:25:42.091761053Z",
     "start_time": "2024-09-08T10:25:42.079950448Z"
    }
   },
   "id": "8da21833ee2a1930"
  },
  {
   "cell_type": "code",
   "execution_count": 31,
   "outputs": [
    {
     "data": {
      "text/plain": "   num\n0    0\n1    2\n2    1\n3    0\n4    0",
      "text/html": "<div>\n<style scoped>\n    .dataframe tbody tr th:only-of-type {\n        vertical-align: middle;\n    }\n\n    .dataframe tbody tr th {\n        vertical-align: top;\n    }\n\n    .dataframe thead th {\n        text-align: right;\n    }\n</style>\n<table border=\"1\" class=\"dataframe\">\n  <thead>\n    <tr style=\"text-align: right;\">\n      <th></th>\n      <th>num</th>\n    </tr>\n  </thead>\n  <tbody>\n    <tr>\n      <th>0</th>\n      <td>0</td>\n    </tr>\n    <tr>\n      <th>1</th>\n      <td>2</td>\n    </tr>\n    <tr>\n      <th>2</th>\n      <td>1</td>\n    </tr>\n    <tr>\n      <th>3</th>\n      <td>0</td>\n    </tr>\n    <tr>\n      <th>4</th>\n      <td>0</td>\n    </tr>\n  </tbody>\n</table>\n</div>"
     },
     "execution_count": 31,
     "metadata": {},
     "output_type": "execute_result"
    }
   ],
   "source": [
    "data.targets.head()"
   ],
   "metadata": {
    "collapsed": false,
    "ExecuteTime": {
     "end_time": "2024-09-09T11:48:02.806458528Z",
     "start_time": "2024-09-09T11:48:02.782453149Z"
    }
   },
   "id": "60644e9b0721a8a1"
  },
  {
   "cell_type": "code",
   "execution_count": 11,
   "outputs": [
    {
     "data": {
      "text/plain": "num\n0      164\n1       55\n2       36\n3       35\n4       13\nName: count, dtype: int64"
     },
     "execution_count": 11,
     "metadata": {},
     "output_type": "execute_result"
    }
   ],
   "source": [
    "# of each target class, how many samples are there?\n",
    "data.targets.value_counts()"
   ],
   "metadata": {
    "collapsed": false,
    "ExecuteTime": {
     "end_time": "2024-09-10T09:17:53.237370253Z",
     "start_time": "2024-09-10T09:17:53.128735875Z"
    }
   },
   "id": "66862a4a88f19c3d"
  },
  {
   "cell_type": "markdown",
   "source": [
    "The dataset is not well-balanced."
   ],
   "metadata": {
    "collapsed": false
   },
   "id": "d9e3970203e2408e"
  },
  {
   "cell_type": "code",
   "execution_count": 12,
   "outputs": [],
   "source": [
    "# merge targets of 1 to 4 into 1\n",
    "data.targets = data.targets.copy()  # Make an explicit copy to avoid the warning\n",
    "data.targets.loc[data.targets['num'] > 0, 'num'] = 1"
   ],
   "metadata": {
    "collapsed": false,
    "ExecuteTime": {
     "end_time": "2024-09-10T09:17:56.784070599Z",
     "start_time": "2024-09-10T09:17:56.741210209Z"
    }
   },
   "id": "6f968c534cff95e2"
  },
  {
   "cell_type": "code",
   "execution_count": 13,
   "outputs": [
    {
     "data": {
      "text/plain": "num\n0      164\n1      139\nName: count, dtype: int64"
     },
     "execution_count": 13,
     "metadata": {},
     "output_type": "execute_result"
    }
   ],
   "source": [
    "data.targets.value_counts()"
   ],
   "metadata": {
    "collapsed": false,
    "ExecuteTime": {
     "end_time": "2024-09-10T09:17:58.573792436Z",
     "start_time": "2024-09-10T09:17:58.518534562Z"
    }
   },
   "id": "48a268aff270d125"
  },
  {
   "cell_type": "code",
   "execution_count": 14,
   "outputs": [],
   "source": [
    "# 1. Handling missing data\n",
    "# Identify rows with missing values\n",
    "rows_with_na = data.features.isna().any(axis=1)"
   ],
   "metadata": {
    "collapsed": false,
    "ExecuteTime": {
     "end_time": "2024-09-10T09:21:23.894631609Z",
     "start_time": "2024-09-10T09:21:23.873142795Z"
    }
   },
   "id": "e504e312a2cbf52d"
  },
  {
   "cell_type": "code",
   "execution_count": 15,
   "outputs": [
    {
     "data": {
      "text/plain": "6"
     },
     "execution_count": 15,
     "metadata": {},
     "output_type": "execute_result"
    }
   ],
   "source": [
    "rows_with_na.sum()"
   ],
   "metadata": {
    "collapsed": false,
    "ExecuteTime": {
     "end_time": "2024-09-10T09:21:26.797107205Z",
     "start_time": "2024-09-10T09:21:26.715850325Z"
    }
   },
   "id": "ea8d7d32466ce999"
  },
  {
   "cell_type": "code",
   "execution_count": 16,
   "outputs": [],
   "source": [
    "# Remove these rows\n",
    "data_features_cleaned = data.features[~rows_with_na].reset_index(drop=True)\n",
    "data_targets_cleaned = data.targets[~rows_with_na].reset_index(drop=True)"
   ],
   "metadata": {
    "collapsed": false,
    "ExecuteTime": {
     "end_time": "2024-09-10T09:21:28.444814283Z",
     "start_time": "2024-09-10T09:21:28.381432637Z"
    }
   },
   "id": "102de1fa8f25f2bf"
  },
  {
   "cell_type": "code",
   "execution_count": 17,
   "outputs": [
    {
     "data": {
      "text/plain": "age         0\nsex         0\ncp          0\ntrestbps    0\nchol        0\nfbs         0\nrestecg     0\nthalach     0\nexang       0\noldpeak     0\nslope       0\nca          0\nthal        0\ndtype: int64"
     },
     "execution_count": 17,
     "metadata": {},
     "output_type": "execute_result"
    }
   ],
   "source": [
    "data_features_cleaned.isna().sum()"
   ],
   "metadata": {
    "collapsed": false,
    "ExecuteTime": {
     "end_time": "2024-09-10T09:21:31.133066287Z",
     "start_time": "2024-09-10T09:21:31.083945744Z"
    }
   },
   "id": "a09ff9df11ee5b35"
  },
  {
   "cell_type": "code",
   "execution_count": 18,
   "outputs": [],
   "source": [
    "X = data_features_cleaned\n",
    "y = data_targets_cleaned"
   ],
   "metadata": {
    "collapsed": false,
    "ExecuteTime": {
     "end_time": "2024-09-10T09:21:38.150061621Z",
     "start_time": "2024-09-10T09:21:38.122611745Z"
    }
   },
   "id": "4721213f396daf"
  },
  {
   "cell_type": "code",
   "execution_count": 19,
   "outputs": [
    {
     "name": "stdout",
     "output_type": "stream",
     "text": [
      "['cp', 'restecg', 'slope', 'thal']\n"
     ]
    }
   ],
   "source": [
    "# 2. Encoding categorical variables\n",
    "# find categorical features with more than two unique values\n",
    "categorical_features = ['sex', 'cp', 'fbs', 'restecg', 'exang', 'slope', 'thal']\n",
    "categorical_features = [col for col in categorical_features if X[col].nunique() > 2]\n",
    "print(categorical_features)"
   ],
   "metadata": {
    "collapsed": false,
    "ExecuteTime": {
     "end_time": "2024-09-10T09:21:39.883035227Z",
     "start_time": "2024-09-10T09:21:39.844180158Z"
    }
   },
   "id": "6619ad119aee9de1"
  },
  {
   "cell_type": "code",
   "execution_count": 20,
   "outputs": [],
   "source": [
    "X = pd.get_dummies(X, prefix=categorical_features, columns=categorical_features)"
   ],
   "metadata": {
    "collapsed": false,
    "ExecuteTime": {
     "end_time": "2024-09-10T09:21:42.525125038Z",
     "start_time": "2024-09-10T09:21:42.486531664Z"
    }
   },
   "id": "d01777daae9807b0"
  },
  {
   "cell_type": "code",
   "execution_count": 21,
   "outputs": [
    {
     "data": {
      "text/plain": "   age  sex  trestbps  chol  fbs  thalach  exang  oldpeak   ca   cp_1  ...  \\\n0   63    1       145   233    1      150      0      2.3  0.0   True  ...   \n1   67    1       160   286    0      108      1      1.5  3.0  False  ...   \n2   67    1       120   229    0      129      1      2.6  2.0  False  ...   \n3   37    1       130   250    0      187      0      3.5  0.0  False  ...   \n4   41    0       130   204    0      172      0      1.4  0.0  False  ...   \n\n    cp_4  restecg_0  restecg_1  restecg_2  slope_1  slope_2  slope_3  \\\n0  False      False      False       True    False    False     True   \n1   True      False      False       True    False     True    False   \n2   True      False      False       True    False     True    False   \n3  False       True      False      False    False    False     True   \n4  False      False      False       True     True    False    False   \n\n   thal_3.0  thal_6.0  thal_7.0  \n0     False      True     False  \n1      True     False     False  \n2     False     False      True  \n3      True     False     False  \n4      True     False     False  \n\n[5 rows x 22 columns]",
      "text/html": "<div>\n<style scoped>\n    .dataframe tbody tr th:only-of-type {\n        vertical-align: middle;\n    }\n\n    .dataframe tbody tr th {\n        vertical-align: top;\n    }\n\n    .dataframe thead th {\n        text-align: right;\n    }\n</style>\n<table border=\"1\" class=\"dataframe\">\n  <thead>\n    <tr style=\"text-align: right;\">\n      <th></th>\n      <th>age</th>\n      <th>sex</th>\n      <th>trestbps</th>\n      <th>chol</th>\n      <th>fbs</th>\n      <th>thalach</th>\n      <th>exang</th>\n      <th>oldpeak</th>\n      <th>ca</th>\n      <th>cp_1</th>\n      <th>...</th>\n      <th>cp_4</th>\n      <th>restecg_0</th>\n      <th>restecg_1</th>\n      <th>restecg_2</th>\n      <th>slope_1</th>\n      <th>slope_2</th>\n      <th>slope_3</th>\n      <th>thal_3.0</th>\n      <th>thal_6.0</th>\n      <th>thal_7.0</th>\n    </tr>\n  </thead>\n  <tbody>\n    <tr>\n      <th>0</th>\n      <td>63</td>\n      <td>1</td>\n      <td>145</td>\n      <td>233</td>\n      <td>1</td>\n      <td>150</td>\n      <td>0</td>\n      <td>2.3</td>\n      <td>0.0</td>\n      <td>True</td>\n      <td>...</td>\n      <td>False</td>\n      <td>False</td>\n      <td>False</td>\n      <td>True</td>\n      <td>False</td>\n      <td>False</td>\n      <td>True</td>\n      <td>False</td>\n      <td>True</td>\n      <td>False</td>\n    </tr>\n    <tr>\n      <th>1</th>\n      <td>67</td>\n      <td>1</td>\n      <td>160</td>\n      <td>286</td>\n      <td>0</td>\n      <td>108</td>\n      <td>1</td>\n      <td>1.5</td>\n      <td>3.0</td>\n      <td>False</td>\n      <td>...</td>\n      <td>True</td>\n      <td>False</td>\n      <td>False</td>\n      <td>True</td>\n      <td>False</td>\n      <td>True</td>\n      <td>False</td>\n      <td>True</td>\n      <td>False</td>\n      <td>False</td>\n    </tr>\n    <tr>\n      <th>2</th>\n      <td>67</td>\n      <td>1</td>\n      <td>120</td>\n      <td>229</td>\n      <td>0</td>\n      <td>129</td>\n      <td>1</td>\n      <td>2.6</td>\n      <td>2.0</td>\n      <td>False</td>\n      <td>...</td>\n      <td>True</td>\n      <td>False</td>\n      <td>False</td>\n      <td>True</td>\n      <td>False</td>\n      <td>True</td>\n      <td>False</td>\n      <td>False</td>\n      <td>False</td>\n      <td>True</td>\n    </tr>\n    <tr>\n      <th>3</th>\n      <td>37</td>\n      <td>1</td>\n      <td>130</td>\n      <td>250</td>\n      <td>0</td>\n      <td>187</td>\n      <td>0</td>\n      <td>3.5</td>\n      <td>0.0</td>\n      <td>False</td>\n      <td>...</td>\n      <td>False</td>\n      <td>True</td>\n      <td>False</td>\n      <td>False</td>\n      <td>False</td>\n      <td>False</td>\n      <td>True</td>\n      <td>True</td>\n      <td>False</td>\n      <td>False</td>\n    </tr>\n    <tr>\n      <th>4</th>\n      <td>41</td>\n      <td>0</td>\n      <td>130</td>\n      <td>204</td>\n      <td>0</td>\n      <td>172</td>\n      <td>0</td>\n      <td>1.4</td>\n      <td>0.0</td>\n      <td>False</td>\n      <td>...</td>\n      <td>False</td>\n      <td>False</td>\n      <td>False</td>\n      <td>True</td>\n      <td>True</td>\n      <td>False</td>\n      <td>False</td>\n      <td>True</td>\n      <td>False</td>\n      <td>False</td>\n    </tr>\n  </tbody>\n</table>\n<p>5 rows × 22 columns</p>\n</div>"
     },
     "execution_count": 21,
     "metadata": {},
     "output_type": "execute_result"
    }
   ],
   "source": [
    "X.head()"
   ],
   "metadata": {
    "collapsed": false,
    "ExecuteTime": {
     "end_time": "2024-09-10T09:21:44.235879923Z",
     "start_time": "2024-09-10T09:21:44.158709200Z"
    }
   },
   "id": "6bc92780597078e2"
  },
  {
   "cell_type": "code",
   "execution_count": 22,
   "outputs": [
    {
     "name": "stdout",
     "output_type": "stream",
     "text": [
      "22\n"
     ]
    }
   ],
   "source": [
    "print(len(X.columns))"
   ],
   "metadata": {
    "collapsed": false,
    "ExecuteTime": {
     "end_time": "2024-09-10T09:21:47.322310368Z",
     "start_time": "2024-09-10T09:21:47.282357167Z"
    }
   },
   "id": "c5e9b13b55cc2363"
  },
  {
   "cell_type": "code",
   "execution_count": 23,
   "outputs": [],
   "source": [
    "# 3. Splitting the data\n",
    "X_train, X_test, y_train, y_test = train_test_split(X, y, test_size=0.2, random_state=42)"
   ],
   "metadata": {
    "collapsed": false,
    "ExecuteTime": {
     "end_time": "2024-09-10T09:21:49.807345383Z",
     "start_time": "2024-09-10T09:21:49.779453308Z"
    }
   },
   "id": "4bcf5343650a4265"
  },
  {
   "cell_type": "code",
   "execution_count": 24,
   "outputs": [
    {
     "name": "stdout",
     "output_type": "stream",
     "text": [
      "237 60\n"
     ]
    }
   ],
   "source": [
    "print(len(X_train), len(X_test))"
   ],
   "metadata": {
    "collapsed": false,
    "ExecuteTime": {
     "end_time": "2024-09-10T09:21:51.172907503Z",
     "start_time": "2024-09-10T09:21:51.141571745Z"
    }
   },
   "id": "35dfa1d456cfc8d2"
  },
  {
   "cell_type": "code",
   "execution_count": 25,
   "outputs": [
    {
     "name": "stdout",
     "output_type": "stream",
     "text": [
      "(237,) (60,)\n"
     ]
    }
   ],
   "source": [
    "y_train = y_train.values.ravel()\n",
    "y_test = y_test.values.ravel()\n",
    "\n",
    "print(y_train.shape, y_test.shape)"
   ],
   "metadata": {
    "collapsed": false,
    "ExecuteTime": {
     "end_time": "2024-09-10T09:21:52.389697333Z",
     "start_time": "2024-09-10T09:21:52.359685042Z"
    }
   },
   "id": "ee37dfbf7490ac5"
  },
  {
   "cell_type": "markdown",
   "source": [
    "Decision Tree"
   ],
   "metadata": {
    "collapsed": false
   },
   "id": "6ad6dd548ecefd65"
  },
  {
   "cell_type": "code",
   "execution_count": 26,
   "outputs": [],
   "source": [
    "# The hyperparameters for decision tree\n",
    "params = {\n",
    "    'max_depth': [1, 2, 3, 4, 8, 16, 32, 64, None],\n",
    "    'min_samples_split': [2, 10, 30, 50, 100, 200, 300, 700],\n",
    "    # 'min_samples_leaf': [1, 2, 4, 8, 16],\n",
    "}"
   ],
   "metadata": {
    "collapsed": false,
    "ExecuteTime": {
     "end_time": "2024-09-10T09:21:55.049533969Z",
     "start_time": "2024-09-10T09:21:55.009403165Z"
    }
   },
   "id": "e7af7b41c179579"
  },
  {
   "cell_type": "code",
   "execution_count": 27,
   "outputs": [
    {
     "data": {
      "text/plain": "<matplotlib.legend.Legend at 0x7caf6c0af430>"
     },
     "execution_count": 27,
     "metadata": {},
     "output_type": "execute_result"
    },
    {
     "data": {
      "text/plain": "<Figure size 640x480 with 1 Axes>",
      "image/png": "[encoded data removed]"
     },
     "metadata": {},
     "output_type": "display_data"
    }
   ],
   "source": [
    "accuracy_train = []\n",
    "accuracy_test = []\n",
    "for max_depth in params['max_depth']:\n",
    "    model = DecisionTreeClassifier(max_depth=max_depth)\n",
    "    model.fit(X_train, y_train)\n",
    "    y_train_pred = model.predict(X_train)\n",
    "    y_test_pred = model.predict(X_test)\n",
    "    accuracy_train.append(accuracy_score(y_train, y_train_pred))\n",
    "    accuracy_test.append(accuracy_score(y_test, y_test_pred))\n",
    "            \n",
    "# plot the results\n",
    "plt.xlabel('max_depth')\n",
    "plt.ylabel('accuracy')\n",
    "plt.plot(params['max_depth'], accuracy_train, label='train')\n",
    "plt.plot(params['max_depth'], accuracy_test, label='test')\n",
    "plt.legend()"
   ],
   "metadata": {
    "collapsed": false,
    "ExecuteTime": {
     "end_time": "2024-09-10T09:21:57.781585612Z",
     "start_time": "2024-09-10T09:21:57.281509102Z"
    }
   },
   "id": "a4881c7972fc93ea"
  },
  {
   "cell_type": "code",
   "execution_count": 28,
   "outputs": [
    {
     "data": {
      "text/plain": "<matplotlib.legend.Legend at 0x7caf6c064760>"
     },
     "execution_count": 28,
     "metadata": {},
     "output_type": "execute_result"
    },
    {
     "data": {
      "text/plain": "<Figure size 640x480 with 1 Axes>",
      "image/png": "[encoded data removed]"
     },
     "metadata": {},
     "output_type": "display_data"
    }
   ],
   "source": [
    "accuracy_train = []\n",
    "accuracy_test = []\n",
    "for min_samples_split in params['min_samples_split']:\n",
    "    model = DecisionTreeClassifier(min_samples_split=min_samples_split)\n",
    "    model.fit(X_train, y_train)\n",
    "    y_train_pred = model.predict(X_train)\n",
    "    y_test_pred = model.predict(X_test)\n",
    "    accuracy_train.append(accuracy_score(y_train, y_train_pred))\n",
    "    accuracy_test.append(accuracy_score(y_test, y_test_pred))\n",
    "            \n",
    "# plot the results\n",
    "plt.xlabel('min_samples_split')\n",
    "plt.ylabel('accuracy')\n",
    "plt.plot(params['min_samples_split'], accuracy_train, label='train')\n",
    "plt.plot(params['min_samples_split'], accuracy_test, label='test')\n",
    "plt.legend()"
   ],
   "metadata": {
    "collapsed": false,
    "ExecuteTime": {
     "end_time": "2024-09-10T09:22:03.939678979Z",
     "start_time": "2024-09-10T09:22:03.547396773Z"
    }
   },
   "id": "1557269f0c8c3fbe"
  },
  {
   "cell_type": "code",
   "execution_count": 33,
   "outputs": [
    {
     "name": "stdout",
     "output_type": "stream",
     "text": [
      "Best hyperparameters: 2 10\n",
      "Train accuracy: 0.7763713080168776\n",
      "Test accuracy: 0.8666666666666667\n"
     ]
    }
   ],
   "source": [
    "# The best model\n",
    "# choose the best hyperparameters\n",
    "max_depth = params['max_depth'][accuracy_test.index(max(accuracy_test))]\n",
    "min_samples_split = params['min_samples_split'][accuracy_test.index(max(accuracy_test))]\n",
    "print('Best hyperparameters:', max_depth, min_samples_split)\n",
    "model = DecisionTreeClassifier(max_depth=max_depth, min_samples_split=min_samples_split)\n",
    "model.fit(X_train, y_train)\n",
    "y_train_pred = model.predict(X_train)\n",
    "y_test_pred = model.predict(X_test)\n",
    "print('Train accuracy:', accuracy_score(y_train, y_train_pred))\n",
    "print('Test accuracy:', accuracy_score(y_test, y_test_pred))"
   ],
   "metadata": {
    "collapsed": false,
    "ExecuteTime": {
     "end_time": "2024-09-10T09:26:07.757091098Z",
     "start_time": "2024-09-10T09:26:07.646148725Z"
    }
   },
   "id": "73ba4d9e60c7762a"
  },
  {
   "cell_type": "markdown",
   "source": [
    "Random Forest"
   ],
   "metadata": {
    "collapsed": false
   },
   "id": "ea71b70c1b934d7d"
  },
  {
   "cell_type": "markdown",
   "source": [
    "Note: All of the above hyperparameters can be used in random forest as well. In addition, there are other hyperparameters that are specific to random forest. For example, n_estimators is the number of trees in the forest. The larger the number of trees, the better the performance, but the longer the training time. Another hyperparameter is max_features, which is the number of features to consider when looking for the best split. The default value is sqrt(n_features), which is the square root of the number of features. This is a good default value, but it can be tuned."
   ],
   "metadata": {
    "collapsed": false
   },
   "id": "aeebd5158a7c076e"
  },
  {
   "cell_type": "code",
   "execution_count": 34,
   "outputs": [],
   "source": [
    "params = {\n",
    "    'n_estimators': [10, 50, 100, 200, 500],\n",
    "    'max_depth': [3, 4, 8, 16, 32, 64, None],\n",
    "    'min_samples_split': [2, 10, 30, 50, 100, 200, 300, 700],\n",
    "}"
   ],
   "metadata": {
    "collapsed": false,
    "ExecuteTime": {
     "end_time": "2024-09-10T09:26:29.262898721Z",
     "start_time": "2024-09-10T09:26:29.167416058Z"
    }
   },
   "id": "6f5f84822afee7"
  },
  {
   "cell_type": "code",
   "execution_count": 35,
   "outputs": [
    {
     "data": {
      "text/plain": "<matplotlib.legend.Legend at 0x7caf6bcc38b0>"
     },
     "execution_count": 35,
     "metadata": {},
     "output_type": "execute_result"
    },
    {
     "data": {
      "text/plain": "<Figure size 640x480 with 1 Axes>",
      "image/png": "[encoded data removed]"
     },
     "metadata": {},
     "output_type": "display_data"
    }
   ],
   "source": [
    "accuracy_train = []\n",
    "accuracy_test = []\n",
    "for max_depth in params['max_depth']:\n",
    "    model = RandomForestClassifier(max_depth=max_depth)\n",
    "    model.fit(X_train, y_train)\n",
    "    y_train_pred = model.predict(X_train)\n",
    "    y_test_pred = model.predict(X_test)\n",
    "    accuracy_train.append(accuracy_score(y_train, y_train_pred))\n",
    "    accuracy_test.append(accuracy_score(y_test, y_test_pred))\n",
    "            \n",
    "# plot the results\n",
    "plt.plot(params['max_depth'], accuracy_train, label='train')\n",
    "plt.plot(params['max_depth'], accuracy_test, label='test')\n",
    "plt.xlabel('max_depth')\n",
    "plt.ylabel('accuracy')\n",
    "plt.legend()"
   ],
   "metadata": {
    "collapsed": false,
    "ExecuteTime": {
     "end_time": "2024-09-10T09:26:49.134421653Z",
     "start_time": "2024-09-10T09:26:46.521671240Z"
    }
   },
   "id": "d17a965fd6490b8"
  },
  {
   "cell_type": "code",
   "execution_count": 36,
   "outputs": [
    {
     "data": {
      "text/plain": "<matplotlib.legend.Legend at 0x7caf69b495d0>"
     },
     "execution_count": 36,
     "metadata": {},
     "output_type": "execute_result"
    },
    {
     "data": {
      "text/plain": "<Figure size 640x480 with 1 Axes>",
      "image/png": "[encoded data removed]"
     },
     "metadata": {},
     "output_type": "display_data"
    }
   ],
   "source": [
    "accuracy_train = []\n",
    "accuracy_test = []\n",
    "for min_samples_split in params['min_samples_split']:\n",
    "    model = RandomForestClassifier(min_samples_split=min_samples_split)\n",
    "    model.fit(X_train, y_train)\n",
    "    y_train_pred = model.predict(X_train)\n",
    "    y_test_pred = model.predict(X_test)\n",
    "    accuracy_train.append(accuracy_score(y_train, y_train_pred))\n",
    "    accuracy_test.append(accuracy_score(y_test, y_test_pred))\n",
    "    \n",
    "# plot the results\n",
    "plt.plot(params['min_samples_split'], accuracy_train, label='train')\n",
    "plt.plot(params['min_samples_split'], accuracy_test, label='test')\n",
    "plt.xlabel('min_samples_split')\n",
    "plt.ylabel('accuracy')\n",
    "plt.legend()"
   ],
   "metadata": {
    "collapsed": false,
    "ExecuteTime": {
     "end_time": "2024-09-10T09:26:57.658438051Z",
     "start_time": "2024-09-10T09:26:54.690700108Z"
    }
   },
   "id": "98948de19fe50510"
  },
  {
   "cell_type": "code",
   "execution_count": 37,
   "outputs": [
    {
     "data": {
      "text/plain": "<matplotlib.legend.Legend at 0x7caf69bd36a0>"
     },
     "execution_count": 37,
     "metadata": {},
     "output_type": "execute_result"
    },
    {
     "data": {
      "text/plain": "<Figure size 640x480 with 1 Axes>",
      "image/png": "[encoded data removed]"
     },
     "metadata": {},
     "output_type": "display_data"
    }
   ],
   "source": [
    "accuracy_train = []\n",
    "accuracy_test = []\n",
    "for n_estimators in params['n_estimators']:\n",
    "    model = RandomForestClassifier(n_estimators=n_estimators)\n",
    "    model.fit(X_train, y_train)\n",
    "    y_train_pred = model.predict(X_train)\n",
    "    y_test_pred = model.predict(X_test)\n",
    "    accuracy_train.append(accuracy_score(y_train, y_train_pred))\n",
    "    accuracy_test.append(accuracy_score(y_test, y_test_pred))\n",
    "    \n",
    "# plot the results\n",
    "plt.plot(params['n_estimators'], accuracy_train, label='train')\n",
    "plt.plot(params['n_estimators'], accuracy_test, label='test')\n",
    "plt.xlabel('n_estimators')\n",
    "plt.ylabel('accuracy')\n",
    "plt.legend()"
   ],
   "metadata": {
    "collapsed": false,
    "ExecuteTime": {
     "end_time": "2024-09-10T09:27:07.120169806Z",
     "start_time": "2024-09-10T09:27:03.850107415Z"
    }
   },
   "id": "a83ed265fdff939c"
  },
  {
   "cell_type": "code",
   "execution_count": 40,
   "outputs": [
    {
     "name": "stdout",
     "output_type": "stream",
     "text": [
      "Best hyperparameters: 100 30 8\n",
      "Train accuracy: 0.8734177215189873\n",
      "Test accuracy: 0.8666666666666667\n"
     ]
    }
   ],
   "source": [
    "# The best model\n",
    "\n",
    "# choose the best hyperparameters\n",
    "n_estimators = params['n_estimators'][accuracy_test.index(max(accuracy_test))]\n",
    "min_samples_split = params['min_samples_split'][accuracy_test.index(max(accuracy_test))]\n",
    "max_depth = params['max_depth'][accuracy_test.index(max(accuracy_test))]\n",
    "print('Best hyperparameters:', n_estimators, min_samples_split, max_depth)\n",
    "model = RandomForestClassifier(n_estimators=n_estimators, min_samples_split=min_samples_split, max_depth=max_depth)\n",
    "model.fit(X_train, y_train)\n",
    "y_train_pred = model.predict(X_train)\n",
    "y_test_pred = model.predict(X_test)\n",
    "print('Train accuracy:', accuracy_score(y_train, y_train_pred))\n",
    "print('Test accuracy:', accuracy_score(y_test, y_test_pred))"
   ],
   "metadata": {
    "collapsed": false,
    "ExecuteTime": {
     "end_time": "2024-09-10T09:28:11.627786594Z",
     "start_time": "2024-09-10T09:28:11.334530318Z"
    }
   },
   "id": "499fed7c6b93f852"
  },
  {
   "cell_type": "markdown",
   "source": [
    "Note: There's another hyperparameter called n_jobs that can be used to parallelize the training process. Because in random forest each tree can be trained independently, we can train multiple trees at the same time. This can be done by setting n_jobs to the number of cores in the machine. However, this is not done here because the dataset is small and the training time is already very low."
   ],
   "metadata": {
    "collapsed": false
   },
   "id": "1818dd432c79766f"
  },
  {
   "cell_type": "markdown",
   "source": [
    "Note: What we demonstrated here is a simple hyperparameter-by-hyperparameter search. However, we shouldn't overlook that this is a limited search space. In practice, we are looking for the best 'combination' of hyperparameters. This can be done using grid search or random search. We will demonstrate this in the next section."
   ],
   "metadata": {
    "collapsed": false
   },
   "id": "b86d640cfa9c2b6e"
  },
  {
   "cell_type": "markdown",
   "source": [
    "XGBoost\n",
    "--------\n",
    "One interesting thing about the XGBoost is that it allows, during the fit, to pass a list evaluation datasets of the form (X_val,y_val), where on each iteration, it measures the cost (or evaluation metric) on the evaluation datasets so that once the cost (or metric) stops to descrease for a number of rounds (called early_stopping_rounds), the training will stop. This is how we can automatically control how many estimators is enough, and how we can avoid overfitting due to too many estimators."
   ],
   "metadata": {
    "collapsed": false
   },
   "id": "e3448299cfb93f97"
  },
  {
   "cell_type": "code",
   "execution_count": 41,
   "outputs": [],
   "source": [
    "n = int(len(X_train) * 0.8) # let's use 80% of the training data for training and 20% for validation"
   ],
   "metadata": {
    "collapsed": false,
    "ExecuteTime": {
     "end_time": "2024-09-10T09:28:32.676130317Z",
     "start_time": "2024-09-10T09:28:32.597782190Z"
    }
   },
   "id": "ff164f68480bd1e0"
  },
  {
   "cell_type": "code",
   "execution_count": 42,
   "outputs": [],
   "source": [
    "X_train_fit, X_train_eval, y_train_fit, y_train_eval = X_train[:n], X_train[n:], y_train[:n], y_train[n:]"
   ],
   "metadata": {
    "collapsed": false,
    "ExecuteTime": {
     "end_time": "2024-09-10T09:28:34.800696850Z",
     "start_time": "2024-09-10T09:28:34.775884774Z"
    }
   },
   "id": "cf85e27a236ee5ae"
  },
  {
   "cell_type": "markdown",
   "source": [
    "You can then set a large number of estimators, because you can stop if the cost function stops decreasing."
   ],
   "metadata": {
    "collapsed": false
   },
   "id": "3ab89d9ea0844cf3"
  },
  {
   "cell_type": "code",
   "execution_count": 43,
   "outputs": [
    {
     "name": "stdout",
     "output_type": "stream",
     "text": [
      "[0]\tvalidation_0-logloss:0.66521\n",
      "[1]\tvalidation_0-logloss:0.63657\n",
      "[2]\tvalidation_0-logloss:0.61381\n",
      "[3]\tvalidation_0-logloss:0.59237\n",
      "[4]\tvalidation_0-logloss:0.57701\n",
      "[5]\tvalidation_0-logloss:0.56049\n",
      "[6]\tvalidation_0-logloss:0.55128\n",
      "[7]\tvalidation_0-logloss:0.53507\n",
      "[8]\tvalidation_0-logloss:0.52352\n",
      "[9]\tvalidation_0-logloss:0.51147\n",
      "[10]\tvalidation_0-logloss:0.49895\n",
      "[11]\tvalidation_0-logloss:0.48754\n",
      "[12]\tvalidation_0-logloss:0.48469\n",
      "[13]\tvalidation_0-logloss:0.47471\n",
      "[14]\tvalidation_0-logloss:0.47174\n",
      "[15]\tvalidation_0-logloss:0.46372\n",
      "[16]\tvalidation_0-logloss:0.46494\n",
      "[17]\tvalidation_0-logloss:0.45990\n",
      "[18]\tvalidation_0-logloss:0.45247\n",
      "[19]\tvalidation_0-logloss:0.45502\n",
      "[20]\tvalidation_0-logloss:0.45197\n",
      "[21]\tvalidation_0-logloss:0.45420\n",
      "[22]\tvalidation_0-logloss:0.44956\n",
      "[23]\tvalidation_0-logloss:0.44971\n",
      "[24]\tvalidation_0-logloss:0.44451\n",
      "[25]\tvalidation_0-logloss:0.44676\n",
      "[26]\tvalidation_0-logloss:0.44454\n",
      "[27]\tvalidation_0-logloss:0.44428\n",
      "[28]\tvalidation_0-logloss:0.44564\n",
      "[29]\tvalidation_0-logloss:0.44610\n",
      "[30]\tvalidation_0-logloss:0.44442\n",
      "[31]\tvalidation_0-logloss:0.44441\n",
      "[32]\tvalidation_0-logloss:0.45021\n",
      "[33]\tvalidation_0-logloss:0.45169\n",
      "[34]\tvalidation_0-logloss:0.45370\n",
      "[35]\tvalidation_0-logloss:0.44978\n",
      "[36]\tvalidation_0-logloss:0.45237\n",
      "[37]\tvalidation_0-logloss:0.45094\n",
      "[38]\tvalidation_0-logloss:0.45206\n",
      "[39]\tvalidation_0-logloss:0.45468\n",
      "[40]\tvalidation_0-logloss:0.45661\n",
      "[41]\tvalidation_0-logloss:0.45947\n",
      "[42]\tvalidation_0-logloss:0.45916\n",
      "[43]\tvalidation_0-logloss:0.45980\n",
      "[44]\tvalidation_0-logloss:0.45982\n",
      "[45]\tvalidation_0-logloss:0.46317\n",
      "[46]\tvalidation_0-logloss:0.46273\n",
      "[47]\tvalidation_0-logloss:0.46517\n",
      "[48]\tvalidation_0-logloss:0.46503\n",
      "[49]\tvalidation_0-logloss:0.46611\n",
      "[50]\tvalidation_0-logloss:0.46605\n",
      "[51]\tvalidation_0-logloss:0.46499\n",
      "[52]\tvalidation_0-logloss:0.46582\n",
      "[53]\tvalidation_0-logloss:0.46532\n",
      "[54]\tvalidation_0-logloss:0.46514\n",
      "[55]\tvalidation_0-logloss:0.46230\n",
      "[56]\tvalidation_0-logloss:0.45981\n",
      "[57]\tvalidation_0-logloss:0.45660\n",
      "[58]\tvalidation_0-logloss:0.46097\n",
      "[59]\tvalidation_0-logloss:0.46262\n",
      "[60]\tvalidation_0-logloss:0.46253\n",
      "[61]\tvalidation_0-logloss:0.46206\n",
      "[62]\tvalidation_0-logloss:0.45920\n",
      "[63]\tvalidation_0-logloss:0.45968\n",
      "[64]\tvalidation_0-logloss:0.45988\n",
      "[65]\tvalidation_0-logloss:0.45938\n",
      "[66]\tvalidation_0-logloss:0.45827\n",
      "[67]\tvalidation_0-logloss:0.45903\n",
      "[68]\tvalidation_0-logloss:0.45967\n",
      "[69]\tvalidation_0-logloss:0.46317\n",
      "[70]\tvalidation_0-logloss:0.46192\n",
      "[71]\tvalidation_0-logloss:0.45943\n",
      "[72]\tvalidation_0-logloss:0.46029\n",
      "[73]\tvalidation_0-logloss:0.46136\n",
      "[74]\tvalidation_0-logloss:0.46278\n",
      "[75]\tvalidation_0-logloss:0.46612\n",
      "[76]\tvalidation_0-logloss:0.46791\n",
      "[77]\tvalidation_0-logloss:0.46656\n"
     ]
    },
    {
     "data": {
      "text/plain": "XGBClassifier(base_score=None, booster=None, callbacks=None,\n              colsample_bylevel=None, colsample_bynode=None,\n              colsample_bytree=None, device=None, early_stopping_rounds=50,\n              enable_categorical=False, eval_metric=None, feature_types=None,\n              gamma=None, grow_policy=None, importance_type=None,\n              interaction_constraints=None, learning_rate=0.1, max_bin=None,\n              max_cat_threshold=None, max_cat_to_onehot=None,\n              max_delta_step=None, max_depth=None, max_leaves=None,\n              min_child_weight=None, missing=nan, monotone_constraints=None,\n              multi_strategy=None, n_estimators=500, n_jobs=None,\n              num_parallel_tree=None, random_state=None, ...)",
      "text/html": "<style>#sk-container-id-1 {\n  /* Definition of color scheme common for light and dark mode */\n  --sklearn-color-text: black;\n  --sklearn-color-line: gray;\n  /* Definition of color scheme for unfitted estimators */\n  --sklearn-color-unfitted-level-0: #fff5e6;\n  --sklearn-color-unfitted-level-1: #f6e4d2;\n  --sklearn-color-unfitted-level-2: #ffe0b3;\n  --sklearn-color-unfitted-level-3: chocolate;\n  /* Definition of color scheme for fitted estimators */\n  --sklearn-color-fitted-level-0: #f0f8ff;\n  --sklearn-color-fitted-level-1: #d4ebff;\n  --sklearn-color-fitted-level-2: #b3dbfd;\n  --sklearn-color-fitted-level-3: cornflowerblue;\n\n  /* Specific color for light theme */\n  --sklearn-color-text-on-default-background: var(--sg-text-color, var(--theme-code-foreground, var(--jp-content-font-color1, black)));\n  --sklearn-color-background: var(--sg-background-color, var(--theme-background, var(--jp-layout-color0, white)));\n  --sklearn-color-border-box: var(--sg-text-color, var(--theme-code-foreground, var(--jp-content-font-color1, black)));\n  --sklearn-color-icon: #696969;\n\n  @media (prefers-color-scheme: dark) {\n    /* Redefinition of color scheme for dark theme */\n    --sklearn-color-text-on-default-background: var(--sg-text-color, var(--theme-code-foreground, var(--jp-content-font-color1, white)));\n    --sklearn-color-background: var(--sg-background-color, var(--theme-background, var(--jp-layout-color0, #111)));\n    --sklearn-color-border-box: var(--sg-text-color, var(--theme-code-foreground, var(--jp-content-font-color1, white)));\n    --sklearn-color-icon: #878787;\n  }\n}\n\n#sk-container-id-1 {\n  color: var(--sklearn-color-text);\n}\n\n#sk-container-id-1 pre {\n  padding: 0;\n}\n\n#sk-container-id-1 input.sk-hidden--visually {\n  border: 0;\n  clip: rect(1px 1px 1px 1px);\n  clip: rect(1px, 1px, 1px, 1px);\n  height: 1px;\n  margin: -1px;\n  overflow: hidden;\n  padding: 0;\n  position: absolute;\n  width: 1px;\n}\n\n#sk-container-id-1 div.sk-dashed-wrapped {\n  border: 1px dashed var(--sklearn-color-line);\n  margin: 0 0.4em 0.5em 0.4em;\n  box-sizing: border-box;\n  padding-bottom: 0.4em;\n  background-color: var(--sklearn-color-background);\n}\n\n#sk-container-id-1 div.sk-container {\n  /* jupyter's `normalize.less` sets `[hidden] { display: none; }`\n     but bootstrap.min.css set `[hidden] { display: none !important; }`\n     so we also need the `!important` here to be able to override the\n     default hidden behavior on the sphinx rendered scikit-learn.org.\n     See: https://github.com/scikit-learn/scikit-learn/issues/21755 */\n  display: inline-block !important;\n  position: relative;\n}\n\n#sk-container-id-1 div.sk-text-repr-fallback {\n  display: none;\n}\n\ndiv.sk-parallel-item,\ndiv.sk-serial,\ndiv.sk-item {\n  /* draw centered vertical line to link estimators */\n  background-image: linear-gradient(var(--sklearn-color-text-on-default-background), var(--sklearn-color-text-on-default-background));\n  background-size: 2px 100%;\n  background-repeat: no-repeat;\n  background-position: center center;\n}\n\n/* Parallel-specific style estimator block */\n\n#sk-container-id-1 div.sk-parallel-item::after {\n  content: \"\";\n  width: 100%;\n  border-bottom: 2px solid var(--sklearn-color-text-on-default-background);\n  flex-grow: 1;\n}\n\n#sk-container-id-1 div.sk-parallel {\n  display: flex;\n  align-items: stretch;\n  justify-content: center;\n  background-color: var(--sklearn-color-background);\n  position: relative;\n}\n\n#sk-container-id-1 div.sk-parallel-item {\n  display: flex;\n  flex-direction: column;\n}\n\n#sk-container-id-1 div.sk-parallel-item:first-child::after {\n  align-self: flex-end;\n  width: 50%;\n}\n\n#sk-container-id-1 div.sk-parallel-item:last-child::after {\n  align-self: flex-start;\n  width: 50%;\n}\n\n#sk-container-id-1 div.sk-parallel-item:only-child::after {\n  width: 0;\n}\n\n/* Serial-specific style estimator block */\n\n#sk-container-id-1 div.sk-serial {\n  display: flex;\n  flex-direction: column;\n  align-items: center;\n  background-color: var(--sklearn-color-background);\n  padding-right: 1em;\n  padding-left: 1em;\n}\n\n\n/* Toggleable style: style used for estimator/Pipeline/ColumnTransformer box that is\nclickable and can be expanded/collapsed.\n- Pipeline and ColumnTransformer use this feature and define the default style\n- Estimators will overwrite some part of the style using the `sk-estimator` class\n*/\n\n/* Pipeline and ColumnTransformer style (default) */\n\n#sk-container-id-1 div.sk-toggleable {\n  /* Default theme specific background. It is overwritten whether we have a\n  specific estimator or a Pipeline/ColumnTransformer */\n  background-color: var(--sklearn-color-background);\n}\n\n/* Toggleable label */\n#sk-container-id-1 label.sk-toggleable__label {\n  cursor: pointer;\n  display: block;\n  width: 100%;\n  margin-bottom: 0;\n  padding: 0.5em;\n  box-sizing: border-box;\n  text-align: center;\n}\n\n#sk-container-id-1 label.sk-toggleable__label-arrow:before {\n  /* Arrow on the left of the label */\n  content: \"▸\";\n  float: left;\n  margin-right: 0.25em;\n  color: var(--sklearn-color-icon);\n}\n\n#sk-container-id-1 label.sk-toggleable__label-arrow:hover:before {\n  color: var(--sklearn-color-text);\n}\n\n/* Toggleable content - dropdown */\n\n#sk-container-id-1 div.sk-toggleable__content {\n  max-height: 0;\n  max-width: 0;\n  overflow: hidden;\n  text-align: left;\n  /* unfitted */\n  background-color: var(--sklearn-color-unfitted-level-0);\n}\n\n#sk-container-id-1 div.sk-toggleable__content.fitted {\n  /* fitted */\n  background-color: var(--sklearn-color-fitted-level-0);\n}\n\n#sk-container-id-1 div.sk-toggleable__content pre {\n  margin: 0.2em;\n  border-radius: 0.25em;\n  color: var(--sklearn-color-text);\n  /* unfitted */\n  background-color: var(--sklearn-color-unfitted-level-0);\n}\n\n#sk-container-id-1 div.sk-toggleable__content.fitted pre {\n  /* unfitted */\n  background-color: var(--sklearn-color-fitted-level-0);\n}\n\n#sk-container-id-1 input.sk-toggleable__control:checked~div.sk-toggleable__content {\n  /* Expand drop-down */\n  max-height: 200px;\n  max-width: 100%;\n  overflow: auto;\n}\n\n#sk-container-id-1 input.sk-toggleable__control:checked~label.sk-toggleable__label-arrow:before {\n  content: \"▾\";\n}\n\n/* Pipeline/ColumnTransformer-specific style */\n\n#sk-container-id-1 div.sk-label input.sk-toggleable__control:checked~label.sk-toggleable__label {\n  color: var(--sklearn-color-text);\n  background-color: var(--sklearn-color-unfitted-level-2);\n}\n\n#sk-container-id-1 div.sk-label.fitted input.sk-toggleable__control:checked~label.sk-toggleable__label {\n  background-color: var(--sklearn-color-fitted-level-2);\n}\n\n/* Estimator-specific style */\n\n/* Colorize estimator box */\n#sk-container-id-1 div.sk-estimator input.sk-toggleable__control:checked~label.sk-toggleable__label {\n  /* unfitted */\n  background-color: var(--sklearn-color-unfitted-level-2);\n}\n\n#sk-container-id-1 div.sk-estimator.fitted input.sk-toggleable__control:checked~label.sk-toggleable__label {\n  /* fitted */\n  background-color: var(--sklearn-color-fitted-level-2);\n}\n\n#sk-container-id-1 div.sk-label label.sk-toggleable__label,\n#sk-container-id-1 div.sk-label label {\n  /* The background is the default theme color */\n  color: var(--sklearn-color-text-on-default-background);\n}\n\n/* On hover, darken the color of the background */\n#sk-container-id-1 div.sk-label:hover label.sk-toggleable__label {\n  color: var(--sklearn-color-text);\n  background-color: var(--sklearn-color-unfitted-level-2);\n}\n\n/* Label box, darken color on hover, fitted */\n#sk-container-id-1 div.sk-label.fitted:hover label.sk-toggleable__label.fitted {\n  color: var(--sklearn-color-text);\n  background-color: var(--sklearn-color-fitted-level-2);\n}\n\n/* Estimator label */\n\n#sk-container-id-1 div.sk-label label {\n  font-family: monospace;\n  font-weight: bold;\n  display: inline-block;\n  line-height: 1.2em;\n}\n\n#sk-container-id-1 div.sk-label-container {\n  text-align: center;\n}\n\n/* Estimator-specific */\n#sk-container-id-1 div.sk-estimator {\n  font-family: monospace;\n  border: 1px dotted var(--sklearn-color-border-box);\n  border-radius: 0.25em;\n  box-sizing: border-box;\n  margin-bottom: 0.5em;\n  /* unfitted */\n  background-color: var(--sklearn-color-unfitted-level-0);\n}\n\n#sk-container-id-1 div.sk-estimator.fitted {\n  /* fitted */\n  background-color: var(--sklearn-color-fitted-level-0);\n}\n\n/* on hover */\n#sk-container-id-1 div.sk-estimator:hover {\n  /* unfitted */\n  background-color: var(--sklearn-color-unfitted-level-2);\n}\n\n#sk-container-id-1 div.sk-estimator.fitted:hover {\n  /* fitted */\n  background-color: var(--sklearn-color-fitted-level-2);\n}\n\n/* Specification for estimator info (e.g. \"i\" and \"?\") */\n\n/* Common style for \"i\" and \"?\" */\n\n.sk-estimator-doc-link,\na:link.sk-estimator-doc-link,\na:visited.sk-estimator-doc-link {\n  float: right;\n  font-size: smaller;\n  line-height: 1em;\n  font-family: monospace;\n  background-color: var(--sklearn-color-background);\n  border-radius: 1em;\n  height: 1em;\n  width: 1em;\n  text-decoration: none !important;\n  margin-left: 1ex;\n  /* unfitted */\n  border: var(--sklearn-color-unfitted-level-1) 1pt solid;\n  color: var(--sklearn-color-unfitted-level-1);\n}\n\n.sk-estimator-doc-link.fitted,\na:link.sk-estimator-doc-link.fitted,\na:visited.sk-estimator-doc-link.fitted {\n  /* fitted */\n  border: var(--sklearn-color-fitted-level-1) 1pt solid;\n  color: var(--sklearn-color-fitted-level-1);\n}\n\n/* On hover */\ndiv.sk-estimator:hover .sk-estimator-doc-link:hover,\n.sk-estimator-doc-link:hover,\ndiv.sk-label-container:hover .sk-estimator-doc-link:hover,\n.sk-estimator-doc-link:hover {\n  /* unfitted */\n  background-color: var(--sklearn-color-unfitted-level-3);\n  color: var(--sklearn-color-background);\n  text-decoration: none;\n}\n\ndiv.sk-estimator.fitted:hover .sk-estimator-doc-link.fitted:hover,\n.sk-estimator-doc-link.fitted:hover,\ndiv.sk-label-container:hover .sk-estimator-doc-link.fitted:hover,\n.sk-estimator-doc-link.fitted:hover {\n  /* fitted */\n  background-color: var(--sklearn-color-fitted-level-3);\n  color: var(--sklearn-color-background);\n  text-decoration: none;\n}\n\n/* Span, style for the box shown on hovering the info icon */\n.sk-estimator-doc-link span {\n  display: none;\n  z-index: 9999;\n  position: relative;\n  font-weight: normal;\n  right: .2ex;\n  padding: .5ex;\n  margin: .5ex;\n  width: min-content;\n  min-width: 20ex;\n  max-width: 50ex;\n  color: var(--sklearn-color-text);\n  box-shadow: 2pt 2pt 4pt #999;\n  /* unfitted */\n  background: var(--sklearn-color-unfitted-level-0);\n  border: .5pt solid var(--sklearn-color-unfitted-level-3);\n}\n\n.sk-estimator-doc-link.fitted span {\n  /* fitted */\n  background: var(--sklearn-color-fitted-level-0);\n  border: var(--sklearn-color-fitted-level-3);\n}\n\n.sk-estimator-doc-link:hover span {\n  display: block;\n}\n\n/* \"?\"-specific style due to the `<a>` HTML tag */\n\n#sk-container-id-1 a.estimator_doc_link {\n  float: right;\n  font-size: 1rem;\n  line-height: 1em;\n  font-family: monospace;\n  background-color: var(--sklearn-color-background);\n  border-radius: 1rem;\n  height: 1rem;\n  width: 1rem;\n  text-decoration: none;\n  /* unfitted */\n  color: var(--sklearn-color-unfitted-level-1);\n  border: var(--sklearn-color-unfitted-level-1) 1pt solid;\n}\n\n#sk-container-id-1 a.estimator_doc_link.fitted {\n  /* fitted */\n  border: var(--sklearn-color-fitted-level-1) 1pt solid;\n  color: var(--sklearn-color-fitted-level-1);\n}\n\n/* On hover */\n#sk-container-id-1 a.estimator_doc_link:hover {\n  /* unfitted */\n  background-color: var(--sklearn-color-unfitted-level-3);\n  color: var(--sklearn-color-background);\n  text-decoration: none;\n}\n\n#sk-container-id-1 a.estimator_doc_link.fitted:hover {\n  /* fitted */\n  background-color: var(--sklearn-color-fitted-level-3);\n}\n</style><div id=\"sk-container-id-1\" class=\"sk-top-container\"><div class=\"sk-text-repr-fallback\"><pre>XGBClassifier(base_score=None, booster=None, callbacks=None,\n              colsample_bylevel=None, colsample_bynode=None,\n              colsample_bytree=None, device=None, early_stopping_rounds=50,\n              enable_categorical=False, eval_metric=None, feature_types=None,\n              gamma=None, grow_policy=None, importance_type=None,\n              interaction_constraints=None, learning_rate=0.1, max_bin=None,\n              max_cat_threshold=None, max_cat_to_onehot=None,\n              max_delta_step=None, max_depth=None, max_leaves=None,\n              min_child_weight=None, missing=nan, monotone_constraints=None,\n              multi_strategy=None, n_estimators=500, n_jobs=None,\n              num_parallel_tree=None, random_state=None, ...)</pre><b>In a Jupyter environment, please rerun this cell to show the HTML representation or trust the notebook. <br />On GitHub, the HTML representation is unable to render, please try loading this page with nbviewer.org.</b></div><div class=\"sk-container\" hidden><div class=\"sk-item\"><div class=\"sk-estimator fitted sk-toggleable\"><input class=\"sk-toggleable__control sk-hidden--visually\" id=\"sk-estimator-id-1\" type=\"checkbox\" checked><label for=\"sk-estimator-id-1\" class=\"sk-toggleable__label fitted sk-toggleable__label-arrow fitted\">&nbsp;XGBClassifier<span class=\"sk-estimator-doc-link fitted\">i<span>Fitted</span></span></label><div class=\"sk-toggleable__content fitted\"><pre>XGBClassifier(base_score=None, booster=None, callbacks=None,\n              colsample_bylevel=None, colsample_bynode=None,\n              colsample_bytree=None, device=None, early_stopping_rounds=50,\n              enable_categorical=False, eval_metric=None, feature_types=None,\n              gamma=None, grow_policy=None, importance_type=None,\n              interaction_constraints=None, learning_rate=0.1, max_bin=None,\n              max_cat_threshold=None, max_cat_to_onehot=None,\n              max_delta_step=None, max_depth=None, max_leaves=None,\n              min_child_weight=None, missing=nan, monotone_constraints=None,\n              multi_strategy=None, n_estimators=500, n_jobs=None,\n              num_parallel_tree=None, random_state=None, ...)</pre></div> </div></div></div></div>"
     },
     "execution_count": 43,
     "metadata": {},
     "output_type": "execute_result"
    }
   ],
   "source": [
    "xgb_model = XGBClassifier(n_estimators = 500, learning_rate = 0.1, verbosity = 1, early_stopping_rounds=50)\n",
    "xgb_model.fit(X_train_fit,y_train_fit, eval_set = [(X_train_eval,y_train_eval)])"
   ],
   "metadata": {
    "collapsed": false,
    "ExecuteTime": {
     "end_time": "2024-09-10T09:29:07.531136804Z",
     "start_time": "2024-09-10T09:29:05.253661823Z"
    }
   },
   "id": "425e75cdcdbb436"
  },
  {
   "cell_type": "markdown",
   "source": [
    "As you can see, even though we passed 500 estimators to fit, the algorithm only fitted 77 because the log-loss used to metrify the training rounds started to increase. In fact, the number of estimators is even less than 77. If you take a closer look at the metrics, you see that with 27 fitted trees, we achieved the minimum value of the log-loss, and in fact, this is the number of fitted trees in the final model:\n"
   ],
   "metadata": {
    "collapsed": false
   },
   "id": "da4a0f71995b7db"
  },
  {
   "cell_type": "code",
   "execution_count": 44,
   "outputs": [
    {
     "data": {
      "text/plain": "27"
     },
     "execution_count": 44,
     "metadata": {},
     "output_type": "execute_result"
    }
   ],
   "source": [
    "xgb_model.best_iteration"
   ],
   "metadata": {
    "collapsed": false,
    "ExecuteTime": {
     "end_time": "2024-09-10T09:29:48.873646504Z",
     "start_time": "2024-09-10T09:29:48.793718915Z"
    }
   },
   "id": "1c52c56f73e47c83"
  },
  {
   "cell_type": "code",
   "execution_count": 45,
   "outputs": [
    {
     "name": "stdout",
     "output_type": "stream",
     "text": [
      "Train accuracy: 0.9451476793248945\n",
      "Test accuracy: 0.8166666666666667\n"
     ]
    }
   ],
   "source": [
    "y_train_pred = xgb_model.predict(X_train)\n",
    "y_test_pred = xgb_model.predict(X_test)\n",
    "print('Train accuracy:', accuracy_score(y_train, y_train_pred))\n",
    "print('Test accuracy:', accuracy_score(y_test, y_test_pred))"
   ],
   "metadata": {
    "collapsed": false,
    "ExecuteTime": {
     "end_time": "2024-09-10T09:30:03.570067492Z",
     "start_time": "2024-09-10T09:30:03.384461176Z"
    }
   },
   "id": "4d748e483c0e81d7"
  },
  {
   "cell_type": "markdown",
   "source": [],
   "metadata": {
    "collapsed": false
   },
   "id": "2eea2b10304daede"
  },
  {
   "cell_type": "code",
   "execution_count": 51,
   "outputs": [],
   "source": [
    "from ucimlrepo import fetch_ucirepo \n",
    "  \n",
    "# fetch dataset \n",
    "heart_disease = fetch_ucirepo(id=45)\n",
    "  \n",
    "# data (as pandas dataframes) \n",
    "data = heart_disease.data"
   ],
   "metadata": {
    "collapsed": false,
    "ExecuteTime": {
     "end_time": "2024-09-10T09:33:03.268622945Z",
     "start_time": "2024-09-10T09:32:58.141482594Z"
    }
   },
   "id": "d89de8e801963c1a"
  },
  {
   "cell_type": "code",
   "execution_count": 52,
   "outputs": [],
   "source": [
    "# merge targets of 1 to 4 into 1\n",
    "data.targets = data.targets.copy()  # Make an explicit copy to avoid the warning\n",
    "data.targets.loc[data.targets['num'] > 0, 'num'] = 1"
   ],
   "metadata": {
    "collapsed": false,
    "ExecuteTime": {
     "end_time": "2024-09-10T09:33:06.253795373Z",
     "start_time": "2024-09-10T09:33:06.234914311Z"
    }
   },
   "id": "102e14a2e382ebe"
  },
  {
   "cell_type": "code",
   "execution_count": 53,
   "outputs": [
    {
     "data": {
      "text/plain": "num\n0      164\n1      139\nName: count, dtype: int64"
     },
     "execution_count": 53,
     "metadata": {},
     "output_type": "execute_result"
    }
   ],
   "source": [
    "data.targets.value_counts()"
   ],
   "metadata": {
    "collapsed": false,
    "ExecuteTime": {
     "end_time": "2024-09-10T09:33:18.680072747Z",
     "start_time": "2024-09-10T09:33:18.600375422Z"
    }
   },
   "id": "c114faa3b049c81a"
  },
  {
   "cell_type": "code",
   "execution_count": 54,
   "outputs": [
    {
     "data": {
      "text/plain": "6"
     },
     "execution_count": 54,
     "metadata": {},
     "output_type": "execute_result"
    }
   ],
   "source": [
    "# Identify rows with missing values\n",
    "rows_with_na = data.features.isna().any(axis=1)\n",
    "rows_with_na.sum()"
   ],
   "metadata": {
    "collapsed": false,
    "ExecuteTime": {
     "end_time": "2024-09-10T09:33:22.223191545Z",
     "start_time": "2024-09-10T09:33:22.187807425Z"
    }
   },
   "id": "c8ef40b2215dab34"
  },
  {
   "cell_type": "code",
   "execution_count": 55,
   "outputs": [
    {
     "data": {
      "text/plain": "age         0\nsex         0\ncp          0\ntrestbps    0\nchol        0\nfbs         0\nrestecg     0\nthalach     0\nexang       0\noldpeak     0\nslope       0\nca          0\nthal        0\ndtype: int64"
     },
     "execution_count": 55,
     "metadata": {},
     "output_type": "execute_result"
    }
   ],
   "source": [
    "# Remove these rows\n",
    "data_features_cleaned = data.features[~rows_with_na].reset_index(drop=True)\n",
    "data_targets_cleaned = data.targets[~rows_with_na].reset_index(drop=True)\n",
    "data_features_cleaned.isna().sum()"
   ],
   "metadata": {
    "collapsed": false,
    "ExecuteTime": {
     "end_time": "2024-09-10T09:33:23.693458781Z",
     "start_time": "2024-09-10T09:33:23.653649869Z"
    }
   },
   "id": "4c47fe7efae4ae3b"
  },
  {
   "cell_type": "code",
   "execution_count": 56,
   "outputs": [],
   "source": [
    "X = data_features_cleaned\n",
    "y = data_targets_cleaned"
   ],
   "metadata": {
    "collapsed": false,
    "ExecuteTime": {
     "end_time": "2024-09-10T09:33:29.217143981Z",
     "start_time": "2024-09-10T09:33:29.194057865Z"
    }
   },
   "id": "dcc9318608f399ad"
  },
  {
   "cell_type": "code",
   "execution_count": 57,
   "outputs": [
    {
     "name": "stdout",
     "output_type": "stream",
     "text": [
      "['cp', 'restecg', 'slope', 'thal']\n"
     ]
    }
   ],
   "source": [
    "import pandas as pd\n",
    "\n",
    "\n",
    "# find categorical features with more than two unique values\n",
    "categorical_features = ['sex', 'cp', 'fbs', 'restecg', 'exang', 'slope', 'thal']\n",
    "categorical_features = [col for col in categorical_features if X[col].nunique() > 2]\n",
    "print(categorical_features)\n",
    "X = pd.get_dummies(X, prefix=categorical_features, columns=categorical_features)"
   ],
   "metadata": {
    "collapsed": false,
    "ExecuteTime": {
     "end_time": "2024-09-10T09:33:31.368026252Z",
     "start_time": "2024-09-10T09:33:31.302302992Z"
    }
   },
   "id": "62c208bccf87781a"
  },
  {
   "cell_type": "code",
   "execution_count": 58,
   "outputs": [
    {
     "name": "stdout",
     "output_type": "stream",
     "text": [
      "(237,) (60,)\n"
     ]
    }
   ],
   "source": [
    "from sklearn.model_selection import train_test_split\n",
    "\n",
    "\n",
    "X_train, X_test, y_train, y_test = train_test_split(X, y, test_size=0.2, random_state=42)\n",
    "y_train = y_train.values.ravel()\n",
    "y_test = y_test.values.ravel()\n",
    "\n",
    "print(y_train.shape, y_test.shape)"
   ],
   "metadata": {
    "collapsed": false,
    "ExecuteTime": {
     "end_time": "2024-09-10T09:33:34.442495304Z",
     "start_time": "2024-09-10T09:33:34.413685589Z"
    }
   },
   "id": "9fb5c447fa65fa7d"
  },
  {
   "cell_type": "markdown",
   "source": [
    "Feature Selection\n",
    "-----------------------\n",
    "Feature selection helps in reducing the dimensionality of the data by selecting the most important features. There are several methods to perform feature selection:\n",
    "\n",
    "    Recursive Feature Elimination (RFE):\n",
    "        This method recursively removes the least important features based on the model's feature importance until the desired number of features is reached.\n",
    "    Feature Importance from Random Forest or XGBoost:\n",
    "        You can train a Random Forest or XGBoost model and use the feature importance scores to select top features."
   ],
   "metadata": {
    "collapsed": false
   },
   "id": "faed1fc18d8a176e"
  },
  {
   "cell_type": "code",
   "execution_count": 59,
   "outputs": [
    {
     "name": "stdout",
     "output_type": "stream",
     "text": [
      "(237, 10) (60, 10)\n"
     ]
    }
   ],
   "source": [
    "from sklearn.feature_selection import RFE\n",
    "from sklearn.ensemble import RandomForestClassifier\n",
    "\n",
    "\n",
    "# feature selection using RFE\n",
    "model = RandomForestClassifier(n_estimators=50, min_samples_split=10, max_depth=4)\n",
    "rfe = RFE(model, n_features_to_select=10)\n",
    "X_train_rfe = rfe.fit_transform(X_train, y_train)\n",
    "X_test_rfe = rfe.transform(X_test)\n",
    "\n",
    "print(X_train_rfe.shape, X_test_rfe.shape)"
   ],
   "metadata": {
    "collapsed": false,
    "ExecuteTime": {
     "end_time": "2024-09-10T09:33:43.816143227Z",
     "start_time": "2024-09-10T09:33:41.613738945Z"
    }
   },
   "id": "67179026c1b1d81f"
  },
  {
   "cell_type": "code",
   "execution_count": 60,
   "outputs": [
    {
     "name": "stdout",
     "output_type": "stream",
     "text": [
      "Index(['age', 'trestbps', 'chol', 'thalach', 'exang', 'oldpeak', 'ca', 'cp_4',\n",
      "       'thal_3.0', 'thal_7.0'],\n",
      "      dtype='object')\n"
     ]
    }
   ],
   "source": [
    "# print the selected features\n",
    "selected_features = X.columns[rfe.support_]\n",
    "print(selected_features)"
   ],
   "metadata": {
    "collapsed": false,
    "ExecuteTime": {
     "end_time": "2024-09-10T09:33:47.410550669Z",
     "start_time": "2024-09-10T09:33:47.382356537Z"
    }
   },
   "id": "c89dfe86349927a9"
  },
  {
   "cell_type": "markdown",
   "source": [
    "Hyperparameter Tuning\n",
    "-----------------------\n",
    "Hyperparameter tuning is the process of finding the best hyperparameters for a model. There are two common methods to perform hyperparameter tuning:\n",
    "\n",
    "    Grid Search:\n",
    "        Grid search is an exhaustive search over a specified parameter grid. It evaluates all possible combinations of hyperparameters and returns the best one.\n",
    "    Random Search:\n",
    "        Random search is a method that randomly samples hyperparameters from a specified distribution. It evaluates a fixed number of random combinations and returns the best one. It often is more efficient when the search space is large."
   ],
   "metadata": {
    "collapsed": false
   },
   "id": "16953e256933f4e4"
  },
  {
   "cell_type": "code",
   "execution_count": 61,
   "outputs": [
    {
     "name": "stdout",
     "output_type": "stream",
     "text": [
      "Best parameters for Decision Tree: {'max_depth': 3, 'min_samples_leaf': 8, 'min_samples_split': 2}\n"
     ]
    }
   ],
   "source": [
    "from sklearn.model_selection import GridSearchCV\n",
    "\n",
    "\n",
    "# Decision Tree\n",
    "param_grid_dt = {\n",
    "    'max_depth': [1, 2, 3, 4, 8, 16, 32, 64, None],\n",
    "    'min_samples_split': [2, 10, 30, 50, 100, 200, 300, 700],\n",
    "    'min_samples_leaf': [1, 2, 4, 8, 16],\n",
    "}\n",
    "dt = DecisionTreeClassifier()\n",
    "grid_search_dt = GridSearchCV(dt, param_grid_dt, cv=5, scoring='accuracy')\n",
    "grid_search_dt.fit(X_train_rfe, y_train)\n",
    "print(f\"Best parameters for Decision Tree: {grid_search_dt.best_params_}\")"
   ],
   "metadata": {
    "collapsed": false,
    "ExecuteTime": {
     "end_time": "2024-09-10T09:33:59.899982432Z",
     "start_time": "2024-09-10T09:33:53.772492965Z"
    }
   },
   "id": "832d8ebe536e14d2"
  },
  {
   "cell_type": "code",
   "execution_count": 62,
   "outputs": [
    {
     "name": "stdout",
     "output_type": "stream",
     "text": [
      "Best parameters for Random Forest: {'max_depth': None, 'min_samples_leaf': 4, 'min_samples_split': 2, 'n_estimators': 100}\n"
     ]
    }
   ],
   "source": [
    "# Random Forest\n",
    "param_grid_rf = {\n",
    "    'n_estimators': [100, 200, 300],\n",
    "    'max_depth': [None, 10, 20],\n",
    "    'min_samples_split': [2, 5, 10],\n",
    "    'min_samples_leaf': [1, 2, 4]\n",
    "}\n",
    "rf = RandomForestClassifier()\n",
    "grid_search_rf = GridSearchCV(rf, param_grid_rf, cv=5, scoring='accuracy')\n",
    "grid_search_rf.fit(X_train_rfe, y_train)\n",
    "print(f\"Best parameters for Random Forest: {grid_search_rf.best_params_}\")"
   ],
   "metadata": {
    "collapsed": false,
    "ExecuteTime": {
     "end_time": "2024-09-10T09:37:00.994987868Z",
     "start_time": "2024-09-10T09:34:10.567138983Z"
    }
   },
   "id": "9c009b970d0a4aab"
  },
  {
   "cell_type": "code",
   "execution_count": 63,
   "outputs": [
    {
     "name": "stdout",
     "output_type": "stream",
     "text": [
      "Best parameters for XGBoost: {'learning_rate': 0.2, 'max_depth': 3, 'n_estimators': 100}\n"
     ]
    }
   ],
   "source": [
    "# XGBoost\n",
    "param_grid_xgb = {\n",
    "    'n_estimators': [100, 200, 300],\n",
    "    'max_depth': [3, 5, 10],\n",
    "    'learning_rate': [0.01, 0.1, 0.2],\n",
    "}\n",
    "xgb = XGBClassifier()\n",
    "grid_search_xgb = GridSearchCV(xgb, param_grid_xgb, cv=5, scoring='accuracy')\n",
    "grid_search_xgb.fit(X_train_rfe, y_train)\n",
    "print(f\"Best parameters for XGBoost: {grid_search_xgb.best_params_}\")"
   ],
   "metadata": {
    "collapsed": false,
    "ExecuteTime": {
     "end_time": "2024-09-10T09:38:33.247668982Z",
     "start_time": "2024-09-10T09:37:15.022258053Z"
    }
   },
   "id": "6f0e622f5e90946d"
  },
  {
   "cell_type": "code",
   "execution_count": 64,
   "outputs": [
    {
     "name": "stdout",
     "output_type": "stream",
     "text": [
      "Decision Tree Classification Report:\n",
      "               precision    recall  f1-score   support\n",
      "\n",
      "           0       0.88      0.78      0.82        36\n",
      "           1       0.71      0.83      0.77        24\n",
      "\n",
      "    accuracy                           0.80        60\n",
      "   macro avg       0.79      0.81      0.80        60\n",
      "weighted avg       0.81      0.80      0.80        60\n",
      "\n",
      "Random Forest Classification Report:\n",
      "               precision    recall  f1-score   support\n",
      "\n",
      "           0       0.89      0.86      0.87        36\n",
      "           1       0.80      0.83      0.82        24\n",
      "\n",
      "    accuracy                           0.85        60\n",
      "   macro avg       0.84      0.85      0.84        60\n",
      "weighted avg       0.85      0.85      0.85        60\n",
      "\n",
      "XGBoost Classification Report:\n",
      "               precision    recall  f1-score   support\n",
      "\n",
      "           0       0.88      0.81      0.84        36\n",
      "           1       0.74      0.83      0.78        24\n",
      "\n",
      "    accuracy                           0.82        60\n",
      "   macro avg       0.81      0.82      0.81        60\n",
      "weighted avg       0.82      0.82      0.82        60\n"
     ]
    }
   ],
   "source": [
    "from sklearn.metrics import classification_report\n",
    "\n",
    "\n",
    "# Evaluate the models\n",
    "best_dt = grid_search_dt.best_estimator_\n",
    "best_rf = grid_search_rf.best_estimator_\n",
    "best_xgb = grid_search_xgb.best_estimator_\n",
    "\n",
    "# Predictions and Evaluation\n",
    "y_pred_dt = best_dt.predict(X_test_rfe)\n",
    "y_pred_rf = best_rf.predict(X_test_rfe)\n",
    "y_pred_xgb = best_xgb.predict(X_test_rfe)\n",
    "\n",
    "print(\"Decision Tree Classification Report:\\n\", classification_report(y_test, y_pred_dt, zero_division=0))\n",
    "print(\"Random Forest Classification Report:\\n\", classification_report(y_test, y_pred_rf, zero_division=0))\n",
    "print(\"XGBoost Classification Report:\\n\", classification_report(y_test, y_pred_xgb, zero_division=0))"
   ],
   "metadata": {
    "collapsed": false,
    "ExecuteTime": {
     "end_time": "2024-09-10T09:38:55.212449993Z",
     "start_time": "2024-09-10T09:38:55.180594829Z"
    }
   },
   "id": "172c691d99f452fe"
  },
  {
   "cell_type": "code",
   "execution_count": 65,
   "outputs": [
    {
     "name": "stdout",
     "output_type": "stream",
     "text": [
      "Index(['ca', 'thal_3.0', 'thal_7.0', 'cp_4', 'exang', 'thalach', 'oldpeak',\n",
      "       'cp_3', 'sex', 'chol'],\n",
      "      dtype='object')\n"
     ]
    }
   ],
   "source": [
    "# feature selection using feature importance\n",
    "import numpy as np\n",
    "from xgboost import XGBClassifier\n",
    "\n",
    "\n",
    "# XGBoost\n",
    "xgb = XGBClassifier(n_estimators=100, learning_rate=0.01, max_depth=3)\n",
    "xgb.fit(X_train, y_train)\n",
    "importances = xgb.feature_importances_\n",
    "indices = np.argsort(importances)[::-1]\n",
    "selected_features = X.columns[indices[:10]]\n",
    "print(selected_features)"
   ],
   "metadata": {
    "collapsed": false,
    "ExecuteTime": {
     "end_time": "2024-09-10T09:39:11.299702614Z",
     "start_time": "2024-09-10T09:39:11.238146407Z"
    }
   },
   "id": "52088ee1ae6e4788"
  },
  {
   "cell_type": "code",
   "execution_count": 66,
   "outputs": [],
   "source": [
    "X_train_fi = X_train[selected_features]\n",
    "X_test_fi = X_test[selected_features]"
   ],
   "metadata": {
    "collapsed": false,
    "ExecuteTime": {
     "end_time": "2024-09-10T09:39:18.701370641Z",
     "start_time": "2024-09-10T09:39:18.699031421Z"
    }
   },
   "id": "c9401c536a15627f"
  },
  {
   "cell_type": "code",
   "execution_count": 67,
   "outputs": [
    {
     "name": "stdout",
     "output_type": "stream",
     "text": [
      "Test accuracy: 0.8333333333333334\n"
     ]
    }
   ],
   "source": [
    "# evaluate the model\n",
    "from sklearn.metrics import accuracy_score\n",
    "\n",
    "\n",
    "xgb.fit(X_train_fi, y_train)\n",
    "y_pred_xgb = xgb.predict(X_test_fi)\n",
    "print('Test accuracy:', accuracy_score(y_test, y_pred_xgb))"
   ],
   "metadata": {
    "collapsed": false,
    "ExecuteTime": {
     "end_time": "2024-09-10T09:39:21.856800845Z",
     "start_time": "2024-09-10T09:39:21.788221845Z"
    }
   },
   "id": "fdfc8d8fd2bb75d8"
  }
 ],
 "metadata": {
  "kernelspec": {
   "name": "pycharm-env",
   "language": "python",
   "display_name": "Python (PyCharm)"
  },
  "language_info": {
   "codemirror_mode": {
    "name": "ipython",
    "version": 2
   },
   "file_extension": ".py",
   "mimetype": "text/x-python",
   "name": "python",
   "nbconvert_exporter": "python",
   "pygments_lexer": "ipython2",
   "version": "2.7.6"
  }
 },
 "nbformat": 4,
 "nbformat_minor": 5
}
