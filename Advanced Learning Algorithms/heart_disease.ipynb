{
 "cells": [
  {
   "cell_type": "code",
   "execution_count": 1,
   "outputs": [],
   "source": [
    "import pandas as pd\n",
    "from sklearn.tree import DecisionTreeClassifier\n",
    "from sklearn.ensemble import RandomForestClassifier\n",
    "from sklearn.model_selection import train_test_split\n",
    "from sklearn.metrics import accuracy_score\n",
    "from xgboost import XGBClassifier\n",
    "import matplotlib.pyplot as plt"
   ],
   "metadata": {
    "collapsed": false,
    "ExecuteTime": {
     "end_time": "2024-09-08T09:35:33.850255446Z",
     "start_time": "2024-09-08T09:35:30.980010300Z"
    }
   },
   "id": "da204dd6bb8d98fc"
  },
  {
   "cell_type": "code",
   "execution_count": 70,
   "id": "initial_id",
   "metadata": {
    "collapsed": true,
    "ExecuteTime": {
     "end_time": "2024-09-08T10:28:11.556475346Z",
     "start_time": "2024-09-08T10:26:56.921444870Z"
    }
   },
   "outputs": [],
   "source": [
    "from ucimlrepo import fetch_ucirepo \n",
    "  \n",
    "# fetch dataset \n",
    "heart_disease = fetch_ucirepo(id=45) \n",
    "  \n",
    "# data (as pandas dataframes) \n",
    "data = heart_disease.data"
   ]
  },
  {
   "cell_type": "code",
   "execution_count": 50,
   "outputs": [
    {
     "name": "stdout",
     "output_type": "stream",
     "text": [
      "        name     role         type demographic  \\\n",
      "0        age  Feature      Integer         Age   \n",
      "1        sex  Feature  Categorical         Sex   \n",
      "2         cp  Feature  Categorical        None   \n",
      "3   trestbps  Feature      Integer        None   \n",
      "4       chol  Feature      Integer        None   \n",
      "5        fbs  Feature  Categorical        None   \n",
      "6    restecg  Feature  Categorical        None   \n",
      "7    thalach  Feature      Integer        None   \n",
      "8      exang  Feature  Categorical        None   \n",
      "9    oldpeak  Feature      Integer        None   \n",
      "10     slope  Feature  Categorical        None   \n",
      "11        ca  Feature      Integer        None   \n",
      "12      thal  Feature  Categorical        None   \n",
      "13       num   Target      Integer        None   \n",
      "\n",
      "                                          description  units missing_values  \n",
      "0                                                None  years             no  \n",
      "1                                                None   None             no  \n",
      "2                                                None   None             no  \n",
      "3   resting blood pressure (on admission to the ho...  mm Hg             no  \n",
      "4                                   serum cholestoral  mg/dl             no  \n",
      "5                     fasting blood sugar > 120 mg/dl   None             no  \n",
      "6                                                None   None             no  \n",
      "7                         maximum heart rate achieved   None             no  \n",
      "8                             exercise induced angina   None             no  \n",
      "9   ST depression induced by exercise relative to ...   None             no  \n",
      "10                                               None   None             no  \n",
      "11  number of major vessels (0-3) colored by flour...   None            yes  \n",
      "12                                               None   None            yes  \n",
      "13                         diagnosis of heart disease   None             no  \n"
     ]
    }
   ],
   "source": [
    "print(heart_disease.variables)"
   ],
   "metadata": {
    "collapsed": false,
    "ExecuteTime": {
     "end_time": "2024-09-08T10:25:40.057272587Z",
     "start_time": "2024-09-08T10:25:40.048576481Z"
    }
   },
   "id": "4350e1963796b145"
  },
  {
   "cell_type": "code",
   "execution_count": 51,
   "outputs": [
    {
     "data": {
      "text/plain": "   age  sex  cp  trestbps  chol  fbs  restecg  thalach  exang  oldpeak  slope  \\\n0   63    1   1       145   233    1        2      150      0      2.3      3   \n1   67    1   4       160   286    0        2      108      1      1.5      2   \n2   67    1   4       120   229    0        2      129      1      2.6      2   \n3   37    1   3       130   250    0        0      187      0      3.5      3   \n4   41    0   2       130   204    0        2      172      0      1.4      1   \n\n    ca  thal  \n0  0.0   6.0  \n1  3.0   3.0  \n2  2.0   7.0  \n3  0.0   3.0  \n4  0.0   3.0  ",
      "text/html": "<div>\n<style scoped>\n    .dataframe tbody tr th:only-of-type {\n        vertical-align: middle;\n    }\n\n    .dataframe tbody tr th {\n        vertical-align: top;\n    }\n\n    .dataframe thead th {\n        text-align: right;\n    }\n</style>\n<table border=\"1\" class=\"dataframe\">\n  <thead>\n    <tr style=\"text-align: right;\">\n      <th></th>\n      <th>age</th>\n      <th>sex</th>\n      <th>cp</th>\n      <th>trestbps</th>\n      <th>chol</th>\n      <th>fbs</th>\n      <th>restecg</th>\n      <th>thalach</th>\n      <th>exang</th>\n      <th>oldpeak</th>\n      <th>slope</th>\n      <th>ca</th>\n      <th>thal</th>\n    </tr>\n  </thead>\n  <tbody>\n    <tr>\n      <th>0</th>\n      <td>63</td>\n      <td>1</td>\n      <td>1</td>\n      <td>145</td>\n      <td>233</td>\n      <td>1</td>\n      <td>2</td>\n      <td>150</td>\n      <td>0</td>\n      <td>2.3</td>\n      <td>3</td>\n      <td>0.0</td>\n      <td>6.0</td>\n    </tr>\n    <tr>\n      <th>1</th>\n      <td>67</td>\n      <td>1</td>\n      <td>4</td>\n      <td>160</td>\n      <td>286</td>\n      <td>0</td>\n      <td>2</td>\n      <td>108</td>\n      <td>1</td>\n      <td>1.5</td>\n      <td>2</td>\n      <td>3.0</td>\n      <td>3.0</td>\n    </tr>\n    <tr>\n      <th>2</th>\n      <td>67</td>\n      <td>1</td>\n      <td>4</td>\n      <td>120</td>\n      <td>229</td>\n      <td>0</td>\n      <td>2</td>\n      <td>129</td>\n      <td>1</td>\n      <td>2.6</td>\n      <td>2</td>\n      <td>2.0</td>\n      <td>7.0</td>\n    </tr>\n    <tr>\n      <th>3</th>\n      <td>37</td>\n      <td>1</td>\n      <td>3</td>\n      <td>130</td>\n      <td>250</td>\n      <td>0</td>\n      <td>0</td>\n      <td>187</td>\n      <td>0</td>\n      <td>3.5</td>\n      <td>3</td>\n      <td>0.0</td>\n      <td>3.0</td>\n    </tr>\n    <tr>\n      <th>4</th>\n      <td>41</td>\n      <td>0</td>\n      <td>2</td>\n      <td>130</td>\n      <td>204</td>\n      <td>0</td>\n      <td>2</td>\n      <td>172</td>\n      <td>0</td>\n      <td>1.4</td>\n      <td>1</td>\n      <td>0.0</td>\n      <td>3.0</td>\n    </tr>\n  </tbody>\n</table>\n</div>"
     },
     "execution_count": 51,
     "metadata": {},
     "output_type": "execute_result"
    }
   ],
   "source": [
    "data.features.head()"
   ],
   "metadata": {
    "collapsed": false,
    "ExecuteTime": {
     "end_time": "2024-09-08T10:25:42.091761053Z",
     "start_time": "2024-09-08T10:25:42.079950448Z"
    }
   },
   "id": "8da21833ee2a1930"
  },
  {
   "cell_type": "code",
   "execution_count": 52,
   "outputs": [
    {
     "data": {
      "text/plain": "   num\n0    0\n1    2\n2    1\n3    0\n4    0",
      "text/html": "<div>\n<style scoped>\n    .dataframe tbody tr th:only-of-type {\n        vertical-align: middle;\n    }\n\n    .dataframe tbody tr th {\n        vertical-align: top;\n    }\n\n    .dataframe thead th {\n        text-align: right;\n    }\n</style>\n<table border=\"1\" class=\"dataframe\">\n  <thead>\n    <tr style=\"text-align: right;\">\n      <th></th>\n      <th>num</th>\n    </tr>\n  </thead>\n  <tbody>\n    <tr>\n      <th>0</th>\n      <td>0</td>\n    </tr>\n    <tr>\n      <th>1</th>\n      <td>2</td>\n    </tr>\n    <tr>\n      <th>2</th>\n      <td>1</td>\n    </tr>\n    <tr>\n      <th>3</th>\n      <td>0</td>\n    </tr>\n    <tr>\n      <th>4</th>\n      <td>0</td>\n    </tr>\n  </tbody>\n</table>\n</div>"
     },
     "execution_count": 52,
     "metadata": {},
     "output_type": "execute_result"
    }
   ],
   "source": [
    "data.targets.head()"
   ],
   "metadata": {
    "collapsed": false,
    "ExecuteTime": {
     "end_time": "2024-09-08T10:25:45.300358508Z",
     "start_time": "2024-09-08T10:25:45.273829739Z"
    }
   },
   "id": "60644e9b0721a8a1"
  },
  {
   "cell_type": "code",
   "execution_count": 71,
   "outputs": [],
   "source": [
    "# 1. Handling missing data\n",
    "# Identify rows with missing values\n",
    "rows_with_na = data.features.isna().any(axis=1)"
   ],
   "metadata": {
    "collapsed": false,
    "ExecuteTime": {
     "end_time": "2024-09-08T10:28:43.140588866Z",
     "start_time": "2024-09-08T10:28:43.110886197Z"
    }
   },
   "id": "e504e312a2cbf52d"
  },
  {
   "cell_type": "code",
   "execution_count": 72,
   "outputs": [
    {
     "data": {
      "text/plain": "6"
     },
     "execution_count": 72,
     "metadata": {},
     "output_type": "execute_result"
    }
   ],
   "source": [
    "rows_with_na.sum()"
   ],
   "metadata": {
    "collapsed": false,
    "ExecuteTime": {
     "end_time": "2024-09-08T10:28:44.370185639Z",
     "start_time": "2024-09-08T10:28:44.268251049Z"
    }
   },
   "id": "ea8d7d32466ce999"
  },
  {
   "cell_type": "code",
   "execution_count": 73,
   "outputs": [],
   "source": [
    "# Remove these rows\n",
    "data_features_cleaned = data.features[~rows_with_na].reset_index(drop=True)\n",
    "data_targets_cleaned = data.targets[~rows_with_na].reset_index(drop=True)"
   ],
   "metadata": {
    "collapsed": false,
    "ExecuteTime": {
     "end_time": "2024-09-08T10:28:46.778908701Z",
     "start_time": "2024-09-08T10:28:46.759587692Z"
    }
   },
   "id": "102de1fa8f25f2bf"
  },
  {
   "cell_type": "code",
   "execution_count": 74,
   "outputs": [
    {
     "data": {
      "text/plain": "age         0\nsex         0\ncp          0\ntrestbps    0\nchol        0\nfbs         0\nrestecg     0\nthalach     0\nexang       0\noldpeak     0\nslope       0\nca          0\nthal        0\ndtype: int64"
     },
     "execution_count": 74,
     "metadata": {},
     "output_type": "execute_result"
    }
   ],
   "source": [
    "data_features_cleaned.isna().sum()"
   ],
   "metadata": {
    "collapsed": false,
    "ExecuteTime": {
     "end_time": "2024-09-08T10:28:50.051627693Z",
     "start_time": "2024-09-08T10:28:50.031136498Z"
    }
   },
   "id": "a09ff9df11ee5b35"
  },
  {
   "cell_type": "code",
   "execution_count": 75,
   "outputs": [],
   "source": [
    "X = data_features_cleaned\n",
    "y = data_targets_cleaned"
   ],
   "metadata": {
    "collapsed": false,
    "ExecuteTime": {
     "end_time": "2024-09-08T10:28:54.245789200Z",
     "start_time": "2024-09-08T10:28:54.233482683Z"
    }
   },
   "id": "4721213f396daf"
  },
  {
   "cell_type": "code",
   "execution_count": 76,
   "outputs": [
    {
     "name": "stdout",
     "output_type": "stream",
     "text": [
      "['cp', 'restecg', 'slope', 'thal']\n"
     ]
    }
   ],
   "source": [
    "# 2. Encoding categorical variables\n",
    "# find categorical features with more than two unique values\n",
    "categorical_features = ['sex', 'cp', 'fbs', 'restecg', 'exang', 'slope', 'thal']\n",
    "categorical_features = [col for col in categorical_features if X[col].nunique() > 2]\n",
    "print(categorical_features)"
   ],
   "metadata": {
    "collapsed": false,
    "ExecuteTime": {
     "end_time": "2024-09-08T10:28:56.433949113Z",
     "start_time": "2024-09-08T10:28:56.410398601Z"
    }
   },
   "id": "6619ad119aee9de1"
  },
  {
   "cell_type": "code",
   "execution_count": 77,
   "outputs": [],
   "source": [
    "X = pd.get_dummies(X, prefix=categorical_features, columns=categorical_features)"
   ],
   "metadata": {
    "collapsed": false,
    "ExecuteTime": {
     "end_time": "2024-09-08T10:28:57.901274763Z",
     "start_time": "2024-09-08T10:28:57.878436381Z"
    }
   },
   "id": "d01777daae9807b0"
  },
  {
   "cell_type": "code",
   "execution_count": 79,
   "outputs": [
    {
     "data": {
      "text/plain": "   age  sex  trestbps  chol  fbs  thalach  exang  oldpeak   ca   cp_1  ...  \\\n0   63    1       145   233    1      150      0      2.3  0.0   True  ...   \n1   67    1       160   286    0      108      1      1.5  3.0  False  ...   \n2   67    1       120   229    0      129      1      2.6  2.0  False  ...   \n3   37    1       130   250    0      187      0      3.5  0.0  False  ...   \n4   41    0       130   204    0      172      0      1.4  0.0  False  ...   \n\n    cp_4  restecg_0  restecg_1  restecg_2  slope_1  slope_2  slope_3  \\\n0  False      False      False       True    False    False     True   \n1   True      False      False       True    False     True    False   \n2   True      False      False       True    False     True    False   \n3  False       True      False      False    False    False     True   \n4  False      False      False       True     True    False    False   \n\n   thal_3.0  thal_6.0  thal_7.0  \n0     False      True     False  \n1      True     False     False  \n2     False     False      True  \n3      True     False     False  \n4      True     False     False  \n\n[5 rows x 22 columns]",
      "text/html": "<div>\n<style scoped>\n    .dataframe tbody tr th:only-of-type {\n        vertical-align: middle;\n    }\n\n    .dataframe tbody tr th {\n        vertical-align: top;\n    }\n\n    .dataframe thead th {\n        text-align: right;\n    }\n</style>\n<table border=\"1\" class=\"dataframe\">\n  <thead>\n    <tr style=\"text-align: right;\">\n      <th></th>\n      <th>age</th>\n      <th>sex</th>\n      <th>trestbps</th>\n      <th>chol</th>\n      <th>fbs</th>\n      <th>thalach</th>\n      <th>exang</th>\n      <th>oldpeak</th>\n      <th>ca</th>\n      <th>cp_1</th>\n      <th>...</th>\n      <th>cp_4</th>\n      <th>restecg_0</th>\n      <th>restecg_1</th>\n      <th>restecg_2</th>\n      <th>slope_1</th>\n      <th>slope_2</th>\n      <th>slope_3</th>\n      <th>thal_3.0</th>\n      <th>thal_6.0</th>\n      <th>thal_7.0</th>\n    </tr>\n  </thead>\n  <tbody>\n    <tr>\n      <th>0</th>\n      <td>63</td>\n      <td>1</td>\n      <td>145</td>\n      <td>233</td>\n      <td>1</td>\n      <td>150</td>\n      <td>0</td>\n      <td>2.3</td>\n      <td>0.0</td>\n      <td>True</td>\n      <td>...</td>\n      <td>False</td>\n      <td>False</td>\n      <td>False</td>\n      <td>True</td>\n      <td>False</td>\n      <td>False</td>\n      <td>True</td>\n      <td>False</td>\n      <td>True</td>\n      <td>False</td>\n    </tr>\n    <tr>\n      <th>1</th>\n      <td>67</td>\n      <td>1</td>\n      <td>160</td>\n      <td>286</td>\n      <td>0</td>\n      <td>108</td>\n      <td>1</td>\n      <td>1.5</td>\n      <td>3.0</td>\n      <td>False</td>\n      <td>...</td>\n      <td>True</td>\n      <td>False</td>\n      <td>False</td>\n      <td>True</td>\n      <td>False</td>\n      <td>True</td>\n      <td>False</td>\n      <td>True</td>\n      <td>False</td>\n      <td>False</td>\n    </tr>\n    <tr>\n      <th>2</th>\n      <td>67</td>\n      <td>1</td>\n      <td>120</td>\n      <td>229</td>\n      <td>0</td>\n      <td>129</td>\n      <td>1</td>\n      <td>2.6</td>\n      <td>2.0</td>\n      <td>False</td>\n      <td>...</td>\n      <td>True</td>\n      <td>False</td>\n      <td>False</td>\n      <td>True</td>\n      <td>False</td>\n      <td>True</td>\n      <td>False</td>\n      <td>False</td>\n      <td>False</td>\n      <td>True</td>\n    </tr>\n    <tr>\n      <th>3</th>\n      <td>37</td>\n      <td>1</td>\n      <td>130</td>\n      <td>250</td>\n      <td>0</td>\n      <td>187</td>\n      <td>0</td>\n      <td>3.5</td>\n      <td>0.0</td>\n      <td>False</td>\n      <td>...</td>\n      <td>False</td>\n      <td>True</td>\n      <td>False</td>\n      <td>False</td>\n      <td>False</td>\n      <td>False</td>\n      <td>True</td>\n      <td>True</td>\n      <td>False</td>\n      <td>False</td>\n    </tr>\n    <tr>\n      <th>4</th>\n      <td>41</td>\n      <td>0</td>\n      <td>130</td>\n      <td>204</td>\n      <td>0</td>\n      <td>172</td>\n      <td>0</td>\n      <td>1.4</td>\n      <td>0.0</td>\n      <td>False</td>\n      <td>...</td>\n      <td>False</td>\n      <td>False</td>\n      <td>False</td>\n      <td>True</td>\n      <td>True</td>\n      <td>False</td>\n      <td>False</td>\n      <td>True</td>\n      <td>False</td>\n      <td>False</td>\n    </tr>\n  </tbody>\n</table>\n<p>5 rows × 22 columns</p>\n</div>"
     },
     "execution_count": 79,
     "metadata": {},
     "output_type": "execute_result"
    }
   ],
   "source": [
    "X.head()"
   ],
   "metadata": {
    "collapsed": false,
    "ExecuteTime": {
     "end_time": "2024-09-08T10:29:04.363842540Z",
     "start_time": "2024-09-08T10:29:04.351864023Z"
    }
   },
   "id": "6bc92780597078e2"
  },
  {
   "cell_type": "code",
   "execution_count": 78,
   "outputs": [
    {
     "name": "stdout",
     "output_type": "stream",
     "text": [
      "22\n"
     ]
    }
   ],
   "source": [
    "print(len(X.columns))"
   ],
   "metadata": {
    "collapsed": false,
    "ExecuteTime": {
     "end_time": "2024-09-08T10:29:01.379496120Z",
     "start_time": "2024-09-08T10:29:01.325424661Z"
    }
   },
   "id": "c5e9b13b55cc2363"
  },
  {
   "cell_type": "code",
   "execution_count": 80,
   "outputs": [],
   "source": [
    "# 3. Splitting the data\n",
    "X_train, X_test, y_train, y_test = train_test_split(X, y, test_size=0.2, random_state=42)"
   ],
   "metadata": {
    "collapsed": false,
    "ExecuteTime": {
     "end_time": "2024-09-08T10:29:08.729127871Z",
     "start_time": "2024-09-08T10:29:08.718434133Z"
    }
   },
   "id": "4bcf5343650a4265"
  },
  {
   "cell_type": "code",
   "execution_count": 81,
   "outputs": [
    {
     "name": "stdout",
     "output_type": "stream",
     "text": [
      "237 60\n"
     ]
    }
   ],
   "source": [
    "print(len(X_train), len(X_test))"
   ],
   "metadata": {
    "collapsed": false,
    "ExecuteTime": {
     "end_time": "2024-09-08T10:29:10.234206549Z",
     "start_time": "2024-09-08T10:29:10.220345810Z"
    }
   },
   "id": "35dfa1d456cfc8d2"
  },
  {
   "cell_type": "code",
   "execution_count": 82,
   "outputs": [
    {
     "name": "stdout",
     "output_type": "stream",
     "text": [
      "(237,) (60,)\n"
     ]
    }
   ],
   "source": [
    "y_train = y_train.values.ravel()\n",
    "y_test = y_test.values.ravel()\n",
    "\n",
    "print(y_train.shape, y_test.shape)"
   ],
   "metadata": {
    "collapsed": false,
    "ExecuteTime": {
     "end_time": "2024-09-08T10:29:11.273597407Z",
     "start_time": "2024-09-08T10:29:11.262171907Z"
    }
   },
   "id": "ee37dfbf7490ac5"
  },
  {
   "cell_type": "markdown",
   "source": [
    "Decision Tree"
   ],
   "metadata": {
    "collapsed": false
   },
   "id": "6ad6dd548ecefd65"
  },
  {
   "cell_type": "code",
   "execution_count": 83,
   "outputs": [],
   "source": [
    "# The hyperparameters for decision tree\n",
    "params = {\n",
    "    'max_depth': [1, 2, 3, 4, 8, 16, 32, 64, None],\n",
    "    'min_samples_split': [2, 10, 30, 50, 100, 200, 300, 700],\n",
    "    # 'min_samples_leaf': [1, 2, 4, 8, 16],\n",
    "}"
   ],
   "metadata": {
    "collapsed": false,
    "ExecuteTime": {
     "end_time": "2024-09-08T10:38:32.058820174Z",
     "start_time": "2024-09-08T10:38:32.011518482Z"
    }
   },
   "id": "e7af7b41c179579"
  },
  {
   "cell_type": "code",
   "execution_count": 38,
   "outputs": [
    {
     "data": {
      "text/plain": "<matplotlib.legend.Legend at 0x741d1aa5b880>"
     },
     "execution_count": 38,
     "metadata": {},
     "output_type": "execute_result"
    },
    {
     "data": {
      "text/plain": "<Figure size 640x480 with 1 Axes>",
      "image/png": "[encoded data removed]"
     },
     "metadata": {},
     "output_type": "display_data"
    }
   ],
   "source": [
    "accuracy_train = []\n",
    "accuracy_test = []\n",
    "for max_depth in params['max_depth']:\n",
    "    model = DecisionTreeClassifier(max_depth=max_depth)\n",
    "    model.fit(X_train, y_train)\n",
    "    y_train_pred = model.predict(X_train)\n",
    "    y_test_pred = model.predict(X_test)\n",
    "    accuracy_train.append(accuracy_score(y_train, y_train_pred))\n",
    "    accuracy_test.append(accuracy_score(y_test, y_test_pred))\n",
    "            \n",
    "# plot the results\n",
    "plt.xlabel('max_depth')\n",
    "plt.ylabel('accuracy')\n",
    "plt.plot(params['max_depth'], accuracy_train, label='train')\n",
    "plt.plot(params['max_depth'], accuracy_test, label='test')\n",
    "plt.legend()"
   ],
   "metadata": {
    "collapsed": false,
    "ExecuteTime": {
     "end_time": "2024-09-08T10:01:37.131179020Z",
     "start_time": "2024-09-08T10:01:36.706718864Z"
    }
   },
   "id": "a4881c7972fc93ea"
  },
  {
   "cell_type": "code",
   "execution_count": 40,
   "outputs": [
    {
     "data": {
      "text/plain": "<matplotlib.legend.Legend at 0x741d1aa593f0>"
     },
     "execution_count": 40,
     "metadata": {},
     "output_type": "execute_result"
    },
    {
     "data": {
      "text/plain": "<Figure size 640x480 with 1 Axes>",
      "image/png": "[encoded data removed]"
     },
     "metadata": {},
     "output_type": "display_data"
    }
   ],
   "source": [
    "accuracy_train = []\n",
    "accuracy_test = []\n",
    "for min_samples_split in params['min_samples_split']:\n",
    "    model = DecisionTreeClassifier(min_samples_split=min_samples_split)\n",
    "    model.fit(X_train, y_train)\n",
    "    y_train_pred = model.predict(X_train)\n",
    "    y_test_pred = model.predict(X_test)\n",
    "    accuracy_train.append(accuracy_score(y_train, y_train_pred))\n",
    "    accuracy_test.append(accuracy_score(y_test, y_test_pred))\n",
    "            \n",
    "# plot the results\n",
    "plt.xlabel('min_samples_split')\n",
    "plt.ylabel('accuracy')\n",
    "plt.plot(params['min_samples_split'], accuracy_train, label='train')\n",
    "plt.plot(params['min_samples_split'], accuracy_test, label='test')\n",
    "plt.legend()"
   ],
   "metadata": {
    "collapsed": false,
    "ExecuteTime": {
     "end_time": "2024-09-08T10:01:46.328947791Z",
     "start_time": "2024-09-08T10:01:45.892771834Z"
    }
   },
   "id": "1557269f0c8c3fbe"
  },
  {
   "cell_type": "code",
   "execution_count": 42,
   "outputs": [
    {
     "name": "stdout",
     "output_type": "stream",
     "text": [
      "Train accuracy: 0.6033755274261603\n",
      "Test accuracy: 0.6333333333333333\n"
     ]
    }
   ],
   "source": [
    "# The best model\n",
    "max_depth = 3\n",
    "min_samples_split = 50\n",
    "model = DecisionTreeClassifier(max_depth=max_depth, min_samples_split=min_samples_split)\n",
    "model.fit(X_train, y_train)\n",
    "y_train_pred = model.predict(X_train)\n",
    "y_test_pred = model.predict(X_test)\n",
    "print('Train accuracy:', accuracy_score(y_train, y_train_pred))\n",
    "print('Test accuracy:', accuracy_score(y_test, y_test_pred))"
   ],
   "metadata": {
    "collapsed": false,
    "ExecuteTime": {
     "end_time": "2024-09-08T10:03:22.948837067Z",
     "start_time": "2024-09-08T10:03:22.895617681Z"
    }
   },
   "id": "73ba4d9e60c7762a"
  },
  {
   "cell_type": "markdown",
   "source": [
    "Random Forest"
   ],
   "metadata": {
    "collapsed": false
   },
   "id": "ea71b70c1b934d7d"
  },
  {
   "cell_type": "markdown",
   "source": [
    "Note: All of the above hyperparameters can be used in random forest as well. In addition, there are other hyperparameters that are specific to random forest. For example, n_estimators is the number of trees in the forest. The larger the number of trees, the better the performance, but the longer the training time. Another hyperparameter is max_features, which is the number of features to consider when looking for the best split. The default value is sqrt(n_features), which is the square root of the number of features. This is a good default value, but it can be tuned."
   ],
   "metadata": {
    "collapsed": false
   },
   "id": "aeebd5158a7c076e"
  },
  {
   "cell_type": "code",
   "execution_count": 32,
   "outputs": [],
   "source": [
    "params = {\n",
    "    'n_estimators': [10, 50, 100, 200, 500],\n",
    "    'max_depth': [3, 4, 8, 16, 32, 64, None],\n",
    "    'min_samples_split': [2, 10, 30, 50, 100, 200, 300, 700],\n",
    "}"
   ],
   "metadata": {
    "collapsed": false,
    "ExecuteTime": {
     "end_time": "2024-09-08T10:00:10.687918641Z",
     "start_time": "2024-09-08T10:00:10.636024479Z"
    }
   },
   "id": "6f5f84822afee7"
  },
  {
   "cell_type": "code",
   "execution_count": 33,
   "outputs": [
    {
     "data": {
      "text/plain": "<matplotlib.legend.Legend at 0x741d1ac35600>"
     },
     "execution_count": 33,
     "metadata": {},
     "output_type": "execute_result"
    },
    {
     "data": {
      "text/plain": "<Figure size 640x480 with 1 Axes>",
      "image/png": "[encoded data removed]"
     },
     "metadata": {},
     "output_type": "display_data"
    }
   ],
   "source": [
    "accuracy_train = []\n",
    "accuracy_test = []\n",
    "for max_depth in params['max_depth']:\n",
    "    model = RandomForestClassifier(max_depth=max_depth)\n",
    "    model.fit(X_train, y_train)\n",
    "    y_train_pred = model.predict(X_train)\n",
    "    y_test_pred = model.predict(X_test)\n",
    "    accuracy_train.append(accuracy_score(y_train, y_train_pred))\n",
    "    accuracy_test.append(accuracy_score(y_test, y_test_pred))\n",
    "            \n",
    "# plot the results\n",
    "plt.plot(params['max_depth'], accuracy_train, label='train')\n",
    "plt.plot(params['max_depth'], accuracy_test, label='test')\n",
    "plt.xlabel('max_depth')\n",
    "plt.ylabel('accuracy')\n",
    "plt.legend()"
   ],
   "metadata": {
    "collapsed": false,
    "ExecuteTime": {
     "end_time": "2024-09-08T10:00:43.907800639Z",
     "start_time": "2024-09-08T10:00:41.973285146Z"
    }
   },
   "id": "d17a965fd6490b8"
  },
  {
   "cell_type": "code",
   "execution_count": 34,
   "outputs": [
    {
     "data": {
      "text/plain": "<matplotlib.legend.Legend at 0x741d1accf550>"
     },
     "execution_count": 34,
     "metadata": {},
     "output_type": "execute_result"
    },
    {
     "data": {
      "text/plain": "<Figure size 640x480 with 1 Axes>",
      "image/png": "[encoded data removed]"
     },
     "metadata": {},
     "output_type": "display_data"
    }
   ],
   "source": [
    "accuracy_train = []\n",
    "accuracy_test = []\n",
    "for min_samples_split in params['min_samples_split']:\n",
    "    model = RandomForestClassifier(min_samples_split=min_samples_split)\n",
    "    model.fit(X_train, y_train)\n",
    "    y_train_pred = model.predict(X_train)\n",
    "    y_test_pred = model.predict(X_test)\n",
    "    accuracy_train.append(accuracy_score(y_train, y_train_pred))\n",
    "    accuracy_test.append(accuracy_score(y_test, y_test_pred))\n",
    "    \n",
    "# plot the results\n",
    "plt.plot(params['min_samples_split'], accuracy_train, label='train')\n",
    "plt.plot(params['min_samples_split'], accuracy_test, label='test')\n",
    "plt.xlabel('min_samples_split')\n",
    "plt.ylabel('accuracy')\n",
    "plt.legend()"
   ],
   "metadata": {
    "collapsed": false,
    "ExecuteTime": {
     "end_time": "2024-09-08T10:01:00.783684227Z",
     "start_time": "2024-09-08T10:00:58.713699918Z"
    }
   },
   "id": "98948de19fe50510"
  },
  {
   "cell_type": "code",
   "execution_count": 35,
   "outputs": [
    {
     "data": {
      "text/plain": "<matplotlib.legend.Legend at 0x741d1ab67cd0>"
     },
     "execution_count": 35,
     "metadata": {},
     "output_type": "execute_result"
    },
    {
     "data": {
      "text/plain": "<Figure size 640x480 with 1 Axes>",
      "image/png": "[encoded data removed]"
     },
     "metadata": {},
     "output_type": "display_data"
    }
   ],
   "source": [
    "accuracy_train = []\n",
    "accuracy_test = []\n",
    "for n_estimators in params['n_estimators']:\n",
    "    model = RandomForestClassifier(n_estimators=n_estimators)\n",
    "    model.fit(X_train, y_train)\n",
    "    y_train_pred = model.predict(X_train)\n",
    "    y_test_pred = model.predict(X_test)\n",
    "    accuracy_train.append(accuracy_score(y_train, y_train_pred))\n",
    "    accuracy_test.append(accuracy_score(y_test, y_test_pred))\n",
    "    \n",
    "# plot the results\n",
    "plt.plot(params['n_estimators'], accuracy_train, label='train')\n",
    "plt.plot(params['n_estimators'], accuracy_test, label='test')\n",
    "plt.xlabel('n_estimators')\n",
    "plt.ylabel('accuracy')\n",
    "plt.legend()"
   ],
   "metadata": {
    "collapsed": false,
    "ExecuteTime": {
     "end_time": "2024-09-08T10:01:18.332033674Z",
     "start_time": "2024-09-08T10:01:15.886416788Z"
    }
   },
   "id": "a83ed265fdff939c"
  },
  {
   "cell_type": "code",
   "execution_count": 43,
   "outputs": [
    {
     "name": "stdout",
     "output_type": "stream",
     "text": [
      "Train accuracy: 0.729957805907173\n",
      "Test accuracy: 0.6333333333333333\n"
     ]
    }
   ],
   "source": [
    "# The best model\n",
    "n_estimators = 50\n",
    "min_samples_split = 10\n",
    "max_depth = 4\n",
    "model = RandomForestClassifier(n_estimators=n_estimators, min_samples_split=min_samples_split, max_depth=max_depth)\n",
    "model.fit(X_train, y_train)\n",
    "y_train_pred = model.predict(X_train)\n",
    "y_test_pred = model.predict(X_test)\n",
    "print('Train accuracy:', accuracy_score(y_train, y_train_pred))\n",
    "print('Test accuracy:', accuracy_score(y_test, y_test_pred))"
   ],
   "metadata": {
    "collapsed": false,
    "ExecuteTime": {
     "end_time": "2024-09-08T10:04:54.426660847Z",
     "start_time": "2024-09-08T10:04:54.330853489Z"
    }
   },
   "id": "499fed7c6b93f852"
  },
  {
   "cell_type": "markdown",
   "source": [
    "Note: There's another hyperparameter called n_jobs that can be used to parallelize the training process. Because in random forest each tree can be trained independently, we can train multiple trees at the same time. This can be done by setting n_jobs to the number of cores in the machine. However, this is not done here because the dataset is small and the training time is already very low."
   ],
   "metadata": {
    "collapsed": false
   },
   "id": "1818dd432c79766f"
  },
  {
   "cell_type": "markdown",
   "source": [
    "Note: What we demonstrated here is a simple hyperparameter-by-hyperparameter search. However, we shouldn't overlook that this is a limited search space. In practice, we are looking for the best 'combination' of hyperparameters. This can be done using grid search or random search. We will demonstrate this in the next section."
   ],
   "metadata": {
    "collapsed": false
   },
   "id": "b86d640cfa9c2b6e"
  },
  {
   "cell_type": "markdown",
   "source": [
    "XGBoost\n",
    "--------\n",
    "One interesting thing about the XGBoost is that it allows, during the fit, to pass a list evaluation datasets of the form (X_val,y_val), where on each iteration, it measures the cost (or evaluation metric) on the evaluation datasets so that once the cost (or metric) stops to descrease for a number of rounds (called early_stopping_rounds), the training will stop. This is how we can automatically control how many estimators is enough, and how we can avoid overfitting due to too many estimators."
   ],
   "metadata": {
    "collapsed": false
   },
   "id": "e3448299cfb93f97"
  },
  {
   "cell_type": "code",
   "execution_count": 84,
   "outputs": [],
   "source": [
    "n = int(len(X_train) * 0.8) # let's use 80% of the training data for training and 20% for validation"
   ],
   "metadata": {
    "collapsed": false,
    "ExecuteTime": {
     "end_time": "2024-09-08T10:38:42.866346606Z",
     "start_time": "2024-09-08T10:38:42.818937277Z"
    }
   },
   "id": "ff164f68480bd1e0"
  },
  {
   "cell_type": "code",
   "execution_count": 85,
   "outputs": [],
   "source": [
    "X_train_fit, X_train_eval, y_train_fit, y_train_eval = X_train[:n], X_train[n:], y_train[:n], y_train[n:]"
   ],
   "metadata": {
    "collapsed": false,
    "ExecuteTime": {
     "end_time": "2024-09-08T10:38:45.047970567Z",
     "start_time": "2024-09-08T10:38:44.955959101Z"
    }
   },
   "id": "cf85e27a236ee5ae"
  },
  {
   "cell_type": "markdown",
   "source": [
    "You can then set a large number of estimators, because you can stop if the cost function stops decreasing."
   ],
   "metadata": {
    "collapsed": false
   },
   "id": "3ab89d9ea0844cf3"
  },
  {
   "cell_type": "code",
   "execution_count": 86,
   "outputs": [
    {
     "name": "stdout",
     "output_type": "stream",
     "text": [
      "[0]\tvalidation_0-mlogloss:1.53785\n",
      "[1]\tvalidation_0-mlogloss:1.46781\n",
      "[2]\tvalidation_0-mlogloss:1.41472\n",
      "[3]\tvalidation_0-mlogloss:1.37330\n",
      "[4]\tvalidation_0-mlogloss:1.32167\n",
      "[5]\tvalidation_0-mlogloss:1.27439\n",
      "[6]\tvalidation_0-mlogloss:1.23491\n",
      "[7]\tvalidation_0-mlogloss:1.19873\n",
      "[8]\tvalidation_0-mlogloss:1.16586\n",
      "[9]\tvalidation_0-mlogloss:1.14244\n",
      "[10]\tvalidation_0-mlogloss:1.11446\n",
      "[11]\tvalidation_0-mlogloss:1.09619\n",
      "[12]\tvalidation_0-mlogloss:1.07603\n",
      "[13]\tvalidation_0-mlogloss:1.06054\n",
      "[14]\tvalidation_0-mlogloss:1.04340\n",
      "[15]\tvalidation_0-mlogloss:1.03047\n",
      "[16]\tvalidation_0-mlogloss:1.01760\n",
      "[17]\tvalidation_0-mlogloss:1.00663\n",
      "[18]\tvalidation_0-mlogloss:0.99398\n",
      "[19]\tvalidation_0-mlogloss:0.98675\n",
      "[20]\tvalidation_0-mlogloss:0.97761\n",
      "[21]\tvalidation_0-mlogloss:0.97149\n",
      "[22]\tvalidation_0-mlogloss:0.96405\n",
      "[23]\tvalidation_0-mlogloss:0.95812\n",
      "[24]\tvalidation_0-mlogloss:0.95330\n",
      "[25]\tvalidation_0-mlogloss:0.94845\n",
      "[26]\tvalidation_0-mlogloss:0.94690\n",
      "[27]\tvalidation_0-mlogloss:0.94626\n",
      "[28]\tvalidation_0-mlogloss:0.94148\n",
      "[29]\tvalidation_0-mlogloss:0.94316\n",
      "[30]\tvalidation_0-mlogloss:0.93892\n",
      "[31]\tvalidation_0-mlogloss:0.93791\n",
      "[32]\tvalidation_0-mlogloss:0.93896\n",
      "[33]\tvalidation_0-mlogloss:0.93933\n",
      "[34]\tvalidation_0-mlogloss:0.94123\n",
      "[35]\tvalidation_0-mlogloss:0.93883\n",
      "[36]\tvalidation_0-mlogloss:0.94026\n",
      "[37]\tvalidation_0-mlogloss:0.94143\n",
      "[38]\tvalidation_0-mlogloss:0.93976\n",
      "[39]\tvalidation_0-mlogloss:0.93628\n",
      "[40]\tvalidation_0-mlogloss:0.94204\n",
      "[41]\tvalidation_0-mlogloss:0.93963\n",
      "[42]\tvalidation_0-mlogloss:0.94187\n",
      "[43]\tvalidation_0-mlogloss:0.94102\n",
      "[44]\tvalidation_0-mlogloss:0.94140\n",
      "[45]\tvalidation_0-mlogloss:0.94177\n",
      "[46]\tvalidation_0-mlogloss:0.94103\n",
      "[47]\tvalidation_0-mlogloss:0.94524\n",
      "[48]\tvalidation_0-mlogloss:0.94804\n",
      "[49]\tvalidation_0-mlogloss:0.95111\n",
      "[50]\tvalidation_0-mlogloss:0.95496\n",
      "[51]\tvalidation_0-mlogloss:0.95513\n",
      "[52]\tvalidation_0-mlogloss:0.95384\n",
      "[53]\tvalidation_0-mlogloss:0.95210\n",
      "[54]\tvalidation_0-mlogloss:0.95381\n",
      "[55]\tvalidation_0-mlogloss:0.95665\n",
      "[56]\tvalidation_0-mlogloss:0.96036\n",
      "[57]\tvalidation_0-mlogloss:0.95985\n",
      "[58]\tvalidation_0-mlogloss:0.96071\n",
      "[59]\tvalidation_0-mlogloss:0.96253\n",
      "[60]\tvalidation_0-mlogloss:0.96758\n",
      "[61]\tvalidation_0-mlogloss:0.97041\n",
      "[62]\tvalidation_0-mlogloss:0.97064\n",
      "[63]\tvalidation_0-mlogloss:0.97532\n",
      "[64]\tvalidation_0-mlogloss:0.97826\n",
      "[65]\tvalidation_0-mlogloss:0.97951\n",
      "[66]\tvalidation_0-mlogloss:0.98384\n",
      "[67]\tvalidation_0-mlogloss:0.98500\n",
      "[68]\tvalidation_0-mlogloss:0.98776\n",
      "[69]\tvalidation_0-mlogloss:0.99031\n",
      "[70]\tvalidation_0-mlogloss:0.99071\n",
      "[71]\tvalidation_0-mlogloss:0.99346\n",
      "[72]\tvalidation_0-mlogloss:0.99670\n",
      "[73]\tvalidation_0-mlogloss:1.00081\n",
      "[74]\tvalidation_0-mlogloss:1.00305\n",
      "[75]\tvalidation_0-mlogloss:1.00816\n",
      "[76]\tvalidation_0-mlogloss:1.00989\n",
      "[77]\tvalidation_0-mlogloss:1.01384\n",
      "[78]\tvalidation_0-mlogloss:1.01716\n",
      "[79]\tvalidation_0-mlogloss:1.01943\n",
      "[80]\tvalidation_0-mlogloss:1.02009\n",
      "[81]\tvalidation_0-mlogloss:1.02209\n",
      "[82]\tvalidation_0-mlogloss:1.02209\n",
      "[83]\tvalidation_0-mlogloss:1.02261\n",
      "[84]\tvalidation_0-mlogloss:1.02310\n",
      "[85]\tvalidation_0-mlogloss:1.02495\n",
      "[86]\tvalidation_0-mlogloss:1.02645\n",
      "[87]\tvalidation_0-mlogloss:1.02607\n",
      "[88]\tvalidation_0-mlogloss:1.02813\n"
     ]
    },
    {
     "data": {
      "text/plain": "XGBClassifier(base_score=None, booster=None, callbacks=None,\n              colsample_bylevel=None, colsample_bynode=None,\n              colsample_bytree=None, device=None, early_stopping_rounds=50,\n              enable_categorical=False, eval_metric=None, feature_types=None,\n              gamma=None, grow_policy=None, importance_type=None,\n              interaction_constraints=None, learning_rate=0.1, max_bin=None,\n              max_cat_threshold=None, max_cat_to_onehot=None,\n              max_delta_step=None, max_depth=None, max_leaves=None,\n              min_child_weight=None, missing=nan, monotone_constraints=None,\n              multi_strategy=None, n_estimators=500, n_jobs=None,\n              num_parallel_tree=None, objective='multi:softprob', ...)",
      "text/html": "<style>#sk-container-id-3 {\n  /* Definition of color scheme common for light and dark mode */\n  --sklearn-color-text: black;\n  --sklearn-color-line: gray;\n  /* Definition of color scheme for unfitted estimators */\n  --sklearn-color-unfitted-level-0: #fff5e6;\n  --sklearn-color-unfitted-level-1: #f6e4d2;\n  --sklearn-color-unfitted-level-2: #ffe0b3;\n  --sklearn-color-unfitted-level-3: chocolate;\n  /* Definition of color scheme for fitted estimators */\n  --sklearn-color-fitted-level-0: #f0f8ff;\n  --sklearn-color-fitted-level-1: #d4ebff;\n  --sklearn-color-fitted-level-2: #b3dbfd;\n  --sklearn-color-fitted-level-3: cornflowerblue;\n\n  /* Specific color for light theme */\n  --sklearn-color-text-on-default-background: var(--sg-text-color, var(--theme-code-foreground, var(--jp-content-font-color1, black)));\n  --sklearn-color-background: var(--sg-background-color, var(--theme-background, var(--jp-layout-color0, white)));\n  --sklearn-color-border-box: var(--sg-text-color, var(--theme-code-foreground, var(--jp-content-font-color1, black)));\n  --sklearn-color-icon: #696969;\n\n  @media (prefers-color-scheme: dark) {\n    /* Redefinition of color scheme for dark theme */\n    --sklearn-color-text-on-default-background: var(--sg-text-color, var(--theme-code-foreground, var(--jp-content-font-color1, white)));\n    --sklearn-color-background: var(--sg-background-color, var(--theme-background, var(--jp-layout-color0, #111)));\n    --sklearn-color-border-box: var(--sg-text-color, var(--theme-code-foreground, var(--jp-content-font-color1, white)));\n    --sklearn-color-icon: #878787;\n  }\n}\n\n#sk-container-id-3 {\n  color: var(--sklearn-color-text);\n}\n\n#sk-container-id-3 pre {\n  padding: 0;\n}\n\n#sk-container-id-3 input.sk-hidden--visually {\n  border: 0;\n  clip: rect(1px 1px 1px 1px);\n  clip: rect(1px, 1px, 1px, 1px);\n  height: 1px;\n  margin: -1px;\n  overflow: hidden;\n  padding: 0;\n  position: absolute;\n  width: 1px;\n}\n\n#sk-container-id-3 div.sk-dashed-wrapped {\n  border: 1px dashed var(--sklearn-color-line);\n  margin: 0 0.4em 0.5em 0.4em;\n  box-sizing: border-box;\n  padding-bottom: 0.4em;\n  background-color: var(--sklearn-color-background);\n}\n\n#sk-container-id-3 div.sk-container {\n  /* jupyter's `normalize.less` sets `[hidden] { display: none; }`\n     but bootstrap.min.css set `[hidden] { display: none !important; }`\n     so we also need the `!important` here to be able to override the\n     default hidden behavior on the sphinx rendered scikit-learn.org.\n     See: https://github.com/scikit-learn/scikit-learn/issues/21755 */\n  display: inline-block !important;\n  position: relative;\n}\n\n#sk-container-id-3 div.sk-text-repr-fallback {\n  display: none;\n}\n\ndiv.sk-parallel-item,\ndiv.sk-serial,\ndiv.sk-item {\n  /* draw centered vertical line to link estimators */\n  background-image: linear-gradient(var(--sklearn-color-text-on-default-background), var(--sklearn-color-text-on-default-background));\n  background-size: 2px 100%;\n  background-repeat: no-repeat;\n  background-position: center center;\n}\n\n/* Parallel-specific style estimator block */\n\n#sk-container-id-3 div.sk-parallel-item::after {\n  content: \"\";\n  width: 100%;\n  border-bottom: 2px solid var(--sklearn-color-text-on-default-background);\n  flex-grow: 1;\n}\n\n#sk-container-id-3 div.sk-parallel {\n  display: flex;\n  align-items: stretch;\n  justify-content: center;\n  background-color: var(--sklearn-color-background);\n  position: relative;\n}\n\n#sk-container-id-3 div.sk-parallel-item {\n  display: flex;\n  flex-direction: column;\n}\n\n#sk-container-id-3 div.sk-parallel-item:first-child::after {\n  align-self: flex-end;\n  width: 50%;\n}\n\n#sk-container-id-3 div.sk-parallel-item:last-child::after {\n  align-self: flex-start;\n  width: 50%;\n}\n\n#sk-container-id-3 div.sk-parallel-item:only-child::after {\n  width: 0;\n}\n\n/* Serial-specific style estimator block */\n\n#sk-container-id-3 div.sk-serial {\n  display: flex;\n  flex-direction: column;\n  align-items: center;\n  background-color: var(--sklearn-color-background);\n  padding-right: 1em;\n  padding-left: 1em;\n}\n\n\n/* Toggleable style: style used for estimator/Pipeline/ColumnTransformer box that is\nclickable and can be expanded/collapsed.\n- Pipeline and ColumnTransformer use this feature and define the default style\n- Estimators will overwrite some part of the style using the `sk-estimator` class\n*/\n\n/* Pipeline and ColumnTransformer style (default) */\n\n#sk-container-id-3 div.sk-toggleable {\n  /* Default theme specific background. It is overwritten whether we have a\n  specific estimator or a Pipeline/ColumnTransformer */\n  background-color: var(--sklearn-color-background);\n}\n\n/* Toggleable label */\n#sk-container-id-3 label.sk-toggleable__label {\n  cursor: pointer;\n  display: block;\n  width: 100%;\n  margin-bottom: 0;\n  padding: 0.5em;\n  box-sizing: border-box;\n  text-align: center;\n}\n\n#sk-container-id-3 label.sk-toggleable__label-arrow:before {\n  /* Arrow on the left of the label */\n  content: \"▸\";\n  float: left;\n  margin-right: 0.25em;\n  color: var(--sklearn-color-icon);\n}\n\n#sk-container-id-3 label.sk-toggleable__label-arrow:hover:before {\n  color: var(--sklearn-color-text);\n}\n\n/* Toggleable content - dropdown */\n\n#sk-container-id-3 div.sk-toggleable__content {\n  max-height: 0;\n  max-width: 0;\n  overflow: hidden;\n  text-align: left;\n  /* unfitted */\n  background-color: var(--sklearn-color-unfitted-level-0);\n}\n\n#sk-container-id-3 div.sk-toggleable__content.fitted {\n  /* fitted */\n  background-color: var(--sklearn-color-fitted-level-0);\n}\n\n#sk-container-id-3 div.sk-toggleable__content pre {\n  margin: 0.2em;\n  border-radius: 0.25em;\n  color: var(--sklearn-color-text);\n  /* unfitted */\n  background-color: var(--sklearn-color-unfitted-level-0);\n}\n\n#sk-container-id-3 div.sk-toggleable__content.fitted pre {\n  /* unfitted */\n  background-color: var(--sklearn-color-fitted-level-0);\n}\n\n#sk-container-id-3 input.sk-toggleable__control:checked~div.sk-toggleable__content {\n  /* Expand drop-down */\n  max-height: 200px;\n  max-width: 100%;\n  overflow: auto;\n}\n\n#sk-container-id-3 input.sk-toggleable__control:checked~label.sk-toggleable__label-arrow:before {\n  content: \"▾\";\n}\n\n/* Pipeline/ColumnTransformer-specific style */\n\n#sk-container-id-3 div.sk-label input.sk-toggleable__control:checked~label.sk-toggleable__label {\n  color: var(--sklearn-color-text);\n  background-color: var(--sklearn-color-unfitted-level-2);\n}\n\n#sk-container-id-3 div.sk-label.fitted input.sk-toggleable__control:checked~label.sk-toggleable__label {\n  background-color: var(--sklearn-color-fitted-level-2);\n}\n\n/* Estimator-specific style */\n\n/* Colorize estimator box */\n#sk-container-id-3 div.sk-estimator input.sk-toggleable__control:checked~label.sk-toggleable__label {\n  /* unfitted */\n  background-color: var(--sklearn-color-unfitted-level-2);\n}\n\n#sk-container-id-3 div.sk-estimator.fitted input.sk-toggleable__control:checked~label.sk-toggleable__label {\n  /* fitted */\n  background-color: var(--sklearn-color-fitted-level-2);\n}\n\n#sk-container-id-3 div.sk-label label.sk-toggleable__label,\n#sk-container-id-3 div.sk-label label {\n  /* The background is the default theme color */\n  color: var(--sklearn-color-text-on-default-background);\n}\n\n/* On hover, darken the color of the background */\n#sk-container-id-3 div.sk-label:hover label.sk-toggleable__label {\n  color: var(--sklearn-color-text);\n  background-color: var(--sklearn-color-unfitted-level-2);\n}\n\n/* Label box, darken color on hover, fitted */\n#sk-container-id-3 div.sk-label.fitted:hover label.sk-toggleable__label.fitted {\n  color: var(--sklearn-color-text);\n  background-color: var(--sklearn-color-fitted-level-2);\n}\n\n/* Estimator label */\n\n#sk-container-id-3 div.sk-label label {\n  font-family: monospace;\n  font-weight: bold;\n  display: inline-block;\n  line-height: 1.2em;\n}\n\n#sk-container-id-3 div.sk-label-container {\n  text-align: center;\n}\n\n/* Estimator-specific */\n#sk-container-id-3 div.sk-estimator {\n  font-family: monospace;\n  border: 1px dotted var(--sklearn-color-border-box);\n  border-radius: 0.25em;\n  box-sizing: border-box;\n  margin-bottom: 0.5em;\n  /* unfitted */\n  background-color: var(--sklearn-color-unfitted-level-0);\n}\n\n#sk-container-id-3 div.sk-estimator.fitted {\n  /* fitted */\n  background-color: var(--sklearn-color-fitted-level-0);\n}\n\n/* on hover */\n#sk-container-id-3 div.sk-estimator:hover {\n  /* unfitted */\n  background-color: var(--sklearn-color-unfitted-level-2);\n}\n\n#sk-container-id-3 div.sk-estimator.fitted:hover {\n  /* fitted */\n  background-color: var(--sklearn-color-fitted-level-2);\n}\n\n/* Specification for estimator info (e.g. \"i\" and \"?\") */\n\n/* Common style for \"i\" and \"?\" */\n\n.sk-estimator-doc-link,\na:link.sk-estimator-doc-link,\na:visited.sk-estimator-doc-link {\n  float: right;\n  font-size: smaller;\n  line-height: 1em;\n  font-family: monospace;\n  background-color: var(--sklearn-color-background);\n  border-radius: 1em;\n  height: 1em;\n  width: 1em;\n  text-decoration: none !important;\n  margin-left: 1ex;\n  /* unfitted */\n  border: var(--sklearn-color-unfitted-level-1) 1pt solid;\n  color: var(--sklearn-color-unfitted-level-1);\n}\n\n.sk-estimator-doc-link.fitted,\na:link.sk-estimator-doc-link.fitted,\na:visited.sk-estimator-doc-link.fitted {\n  /* fitted */\n  border: var(--sklearn-color-fitted-level-1) 1pt solid;\n  color: var(--sklearn-color-fitted-level-1);\n}\n\n/* On hover */\ndiv.sk-estimator:hover .sk-estimator-doc-link:hover,\n.sk-estimator-doc-link:hover,\ndiv.sk-label-container:hover .sk-estimator-doc-link:hover,\n.sk-estimator-doc-link:hover {\n  /* unfitted */\n  background-color: var(--sklearn-color-unfitted-level-3);\n  color: var(--sklearn-color-background);\n  text-decoration: none;\n}\n\ndiv.sk-estimator.fitted:hover .sk-estimator-doc-link.fitted:hover,\n.sk-estimator-doc-link.fitted:hover,\ndiv.sk-label-container:hover .sk-estimator-doc-link.fitted:hover,\n.sk-estimator-doc-link.fitted:hover {\n  /* fitted */\n  background-color: var(--sklearn-color-fitted-level-3);\n  color: var(--sklearn-color-background);\n  text-decoration: none;\n}\n\n/* Span, style for the box shown on hovering the info icon */\n.sk-estimator-doc-link span {\n  display: none;\n  z-index: 9999;\n  position: relative;\n  font-weight: normal;\n  right: .2ex;\n  padding: .5ex;\n  margin: .5ex;\n  width: min-content;\n  min-width: 20ex;\n  max-width: 50ex;\n  color: var(--sklearn-color-text);\n  box-shadow: 2pt 2pt 4pt #999;\n  /* unfitted */\n  background: var(--sklearn-color-unfitted-level-0);\n  border: .5pt solid var(--sklearn-color-unfitted-level-3);\n}\n\n.sk-estimator-doc-link.fitted span {\n  /* fitted */\n  background: var(--sklearn-color-fitted-level-0);\n  border: var(--sklearn-color-fitted-level-3);\n}\n\n.sk-estimator-doc-link:hover span {\n  display: block;\n}\n\n/* \"?\"-specific style due to the `<a>` HTML tag */\n\n#sk-container-id-3 a.estimator_doc_link {\n  float: right;\n  font-size: 1rem;\n  line-height: 1em;\n  font-family: monospace;\n  background-color: var(--sklearn-color-background);\n  border-radius: 1rem;\n  height: 1rem;\n  width: 1rem;\n  text-decoration: none;\n  /* unfitted */\n  color: var(--sklearn-color-unfitted-level-1);\n  border: var(--sklearn-color-unfitted-level-1) 1pt solid;\n}\n\n#sk-container-id-3 a.estimator_doc_link.fitted {\n  /* fitted */\n  border: var(--sklearn-color-fitted-level-1) 1pt solid;\n  color: var(--sklearn-color-fitted-level-1);\n}\n\n/* On hover */\n#sk-container-id-3 a.estimator_doc_link:hover {\n  /* unfitted */\n  background-color: var(--sklearn-color-unfitted-level-3);\n  color: var(--sklearn-color-background);\n  text-decoration: none;\n}\n\n#sk-container-id-3 a.estimator_doc_link.fitted:hover {\n  /* fitted */\n  background-color: var(--sklearn-color-fitted-level-3);\n}\n</style><div id=\"sk-container-id-3\" class=\"sk-top-container\"><div class=\"sk-text-repr-fallback\"><pre>XGBClassifier(base_score=None, booster=None, callbacks=None,\n              colsample_bylevel=None, colsample_bynode=None,\n              colsample_bytree=None, device=None, early_stopping_rounds=50,\n              enable_categorical=False, eval_metric=None, feature_types=None,\n              gamma=None, grow_policy=None, importance_type=None,\n              interaction_constraints=None, learning_rate=0.1, max_bin=None,\n              max_cat_threshold=None, max_cat_to_onehot=None,\n              max_delta_step=None, max_depth=None, max_leaves=None,\n              min_child_weight=None, missing=nan, monotone_constraints=None,\n              multi_strategy=None, n_estimators=500, n_jobs=None,\n              num_parallel_tree=None, objective=&#x27;multi:softprob&#x27;, ...)</pre><b>In a Jupyter environment, please rerun this cell to show the HTML representation or trust the notebook. <br />On GitHub, the HTML representation is unable to render, please try loading this page with nbviewer.org.</b></div><div class=\"sk-container\" hidden><div class=\"sk-item\"><div class=\"sk-estimator fitted sk-toggleable\"><input class=\"sk-toggleable__control sk-hidden--visually\" id=\"sk-estimator-id-3\" type=\"checkbox\" checked><label for=\"sk-estimator-id-3\" class=\"sk-toggleable__label fitted sk-toggleable__label-arrow fitted\">&nbsp;XGBClassifier<span class=\"sk-estimator-doc-link fitted\">i<span>Fitted</span></span></label><div class=\"sk-toggleable__content fitted\"><pre>XGBClassifier(base_score=None, booster=None, callbacks=None,\n              colsample_bylevel=None, colsample_bynode=None,\n              colsample_bytree=None, device=None, early_stopping_rounds=50,\n              enable_categorical=False, eval_metric=None, feature_types=None,\n              gamma=None, grow_policy=None, importance_type=None,\n              interaction_constraints=None, learning_rate=0.1, max_bin=None,\n              max_cat_threshold=None, max_cat_to_onehot=None,\n              max_delta_step=None, max_depth=None, max_leaves=None,\n              min_child_weight=None, missing=nan, monotone_constraints=None,\n              multi_strategy=None, n_estimators=500, n_jobs=None,\n              num_parallel_tree=None, objective=&#x27;multi:softprob&#x27;, ...)</pre></div> </div></div></div></div>"
     },
     "execution_count": 86,
     "metadata": {},
     "output_type": "execute_result"
    }
   ],
   "source": [
    "xgb_model = XGBClassifier(n_estimators = 500, learning_rate = 0.1, verbosity = 1, early_stopping_rounds=50)\n",
    "xgb_model.fit(X_train_fit,y_train_fit, eval_set = [(X_train_eval,y_train_eval)])"
   ],
   "metadata": {
    "collapsed": false,
    "ExecuteTime": {
     "end_time": "2024-09-08T10:38:51.171414080Z",
     "start_time": "2024-09-08T10:38:47.664393122Z"
    }
   },
   "id": "425e75cdcdbb436"
  },
  {
   "cell_type": "markdown",
   "source": [
    "As you can see, even though you passed 500 estimators to fit, the algorithm only fitted 88 because the log-loss used to metrify the training rounds started to increase. In fact, the number of estimators is even less than 88. If you take a closer look to the metrics, you see that with 39 fitted trees, we achieved the minimum value of the log-loss, and in fact, this is the number of fitted trees in the final model:\n"
   ],
   "metadata": {
    "collapsed": false
   },
   "id": "da4a0f71995b7db"
  },
  {
   "cell_type": "code",
   "execution_count": 87,
   "outputs": [
    {
     "data": {
      "text/plain": "39"
     },
     "execution_count": 87,
     "metadata": {},
     "output_type": "execute_result"
    }
   ],
   "source": [
    "xgb_model.best_iteration"
   ],
   "metadata": {
    "collapsed": false,
    "ExecuteTime": {
     "end_time": "2024-09-08T10:38:57.743111825Z",
     "start_time": "2024-09-08T10:38:57.717365390Z"
    }
   },
   "id": "1c52c56f73e47c83"
  },
  {
   "cell_type": "code",
   "execution_count": 88,
   "outputs": [
    {
     "name": "stdout",
     "output_type": "stream",
     "text": [
      "Train accuracy: 0.9240506329113924\n",
      "Test accuracy: 0.5666666666666667\n"
     ]
    }
   ],
   "source": [
    "y_train_pred = xgb_model.predict(X_train)\n",
    "y_test_pred = xgb_model.predict(X_test)\n",
    "print('Train accuracy:', accuracy_score(y_train, y_train_pred))\n",
    "print('Test accuracy:', accuracy_score(y_test, y_test_pred))"
   ],
   "metadata": {
    "collapsed": false,
    "ExecuteTime": {
     "end_time": "2024-09-08T10:39:02.317804343Z",
     "start_time": "2024-09-08T10:39:02.210976169Z"
    }
   },
   "id": "4d748e483c0e81d7"
  },
  {
   "cell_type": "markdown",
   "source": [],
   "metadata": {
    "collapsed": false
   },
   "id": "2eea2b10304daede"
  },
  {
   "cell_type": "code",
   "execution_count": 1,
   "outputs": [],
   "source": [
    "from ucimlrepo import fetch_ucirepo \n",
    "  \n",
    "# fetch dataset \n",
    "heart_disease = fetch_ucirepo(id=45)\n",
    "  \n",
    "# data (as pandas dataframes) \n",
    "data = heart_disease.data"
   ],
   "metadata": {
    "collapsed": false,
    "ExecuteTime": {
     "end_time": "2024-09-08T12:44:58.379315172Z",
     "start_time": "2024-09-08T12:44:41.200069090Z"
    }
   },
   "id": "d89de8e801963c1a"
  },
  {
   "cell_type": "code",
   "execution_count": 2,
   "outputs": [
    {
     "data": {
      "text/plain": "6"
     },
     "execution_count": 2,
     "metadata": {},
     "output_type": "execute_result"
    }
   ],
   "source": [
    "# Identify rows with missing values\n",
    "rows_with_na = data.features.isna().any(axis=1)\n",
    "rows_with_na.sum()"
   ],
   "metadata": {
    "collapsed": false,
    "ExecuteTime": {
     "end_time": "2024-09-08T12:45:02.703034205Z",
     "start_time": "2024-09-08T12:45:02.645048179Z"
    }
   },
   "id": "c8ef40b2215dab34"
  },
  {
   "cell_type": "code",
   "execution_count": 3,
   "outputs": [
    {
     "data": {
      "text/plain": "age         0\nsex         0\ncp          0\ntrestbps    0\nchol        0\nfbs         0\nrestecg     0\nthalach     0\nexang       0\noldpeak     0\nslope       0\nca          0\nthal        0\ndtype: int64"
     },
     "execution_count": 3,
     "metadata": {},
     "output_type": "execute_result"
    }
   ],
   "source": [
    "# Remove these rows\n",
    "data_features_cleaned = data.features[~rows_with_na].reset_index(drop=True)\n",
    "data_targets_cleaned = data.targets[~rows_with_na].reset_index(drop=True)\n",
    "data_features_cleaned.isna().sum()"
   ],
   "metadata": {
    "collapsed": false,
    "ExecuteTime": {
     "end_time": "2024-09-08T12:45:05.076252346Z",
     "start_time": "2024-09-08T12:45:05.001009954Z"
    }
   },
   "id": "4c47fe7efae4ae3b"
  },
  {
   "cell_type": "code",
   "execution_count": 4,
   "outputs": [],
   "source": [
    "X = data_features_cleaned\n",
    "y = data_targets_cleaned"
   ],
   "metadata": {
    "collapsed": false,
    "ExecuteTime": {
     "end_time": "2024-09-08T12:45:08.566115297Z",
     "start_time": "2024-09-08T12:45:08.532879164Z"
    }
   },
   "id": "dcc9318608f399ad"
  },
  {
   "cell_type": "code",
   "execution_count": 6,
   "outputs": [
    {
     "name": "stdout",
     "output_type": "stream",
     "text": [
      "['cp', 'restecg', 'slope', 'thal']\n"
     ]
    }
   ],
   "source": [
    "import pandas as pd\n",
    "\n",
    "\n",
    "# find categorical features with more than two unique values\n",
    "categorical_features = ['sex', 'cp', 'fbs', 'restecg', 'exang', 'slope', 'thal']\n",
    "categorical_features = [col for col in categorical_features if X[col].nunique() > 2]\n",
    "print(categorical_features)\n",
    "X = pd.get_dummies(X, prefix=categorical_features, columns=categorical_features)"
   ],
   "metadata": {
    "collapsed": false,
    "ExecuteTime": {
     "end_time": "2024-09-08T12:45:31.875633077Z",
     "start_time": "2024-09-08T12:45:31.783461763Z"
    }
   },
   "id": "62c208bccf87781a"
  },
  {
   "cell_type": "code",
   "execution_count": 8,
   "outputs": [
    {
     "name": "stdout",
     "output_type": "stream",
     "text": [
      "(237,) (60,)\n"
     ]
    }
   ],
   "source": [
    "from sklearn.model_selection import train_test_split\n",
    "\n",
    "\n",
    "X_train, X_test, y_train, y_test = train_test_split(X, y, test_size=0.2, random_state=42)\n",
    "y_train = y_train.values.ravel()\n",
    "y_test = y_test.values.ravel()\n",
    "\n",
    "print(y_train.shape, y_test.shape)"
   ],
   "metadata": {
    "collapsed": false,
    "ExecuteTime": {
     "end_time": "2024-09-08T12:45:49.434938542Z",
     "start_time": "2024-09-08T12:45:48.470694415Z"
    }
   },
   "id": "9fb5c447fa65fa7d"
  },
  {
   "cell_type": "markdown",
   "source": [
    "Feature Selection\n",
    "-----------------------\n",
    "Feature selection helps in reducing the dimensionality of the data by selecting the most important features. There are several methods to perform feature selection:\n",
    "\n",
    "    Recursive Feature Elimination (RFE):\n",
    "        This method recursively removes the least important features based on the model's feature importance until the desired number of features is reached.\n",
    "    Feature Importance from Random Forest or XGBoost:\n",
    "        You can train a Random Forest or XGBoost model and use the feature importance scores to select top features."
   ],
   "metadata": {
    "collapsed": false
   },
   "id": "faed1fc18d8a176e"
  },
  {
   "cell_type": "code",
   "execution_count": 10,
   "outputs": [
    {
     "name": "stdout",
     "output_type": "stream",
     "text": [
      "(237, 10) (60, 10)\n"
     ]
    }
   ],
   "source": [
    "from sklearn.feature_selection import RFE\n",
    "from sklearn.ensemble import RandomForestClassifier\n",
    "\n",
    "\n",
    "# feature selection using RFE\n",
    "model = RandomForestClassifier(n_estimators=50, min_samples_split=10, max_depth=4)\n",
    "rfe = RFE(model, n_features_to_select=10)\n",
    "X_train_rfe = rfe.fit_transform(X_train, y_train)\n",
    "X_test_rfe = rfe.transform(X_test)\n",
    "\n",
    "print(X_train_rfe.shape, X_test_rfe.shape)"
   ],
   "metadata": {
    "collapsed": false,
    "ExecuteTime": {
     "end_time": "2024-09-08T12:46:08.306528456Z",
     "start_time": "2024-09-08T12:46:05.899627450Z"
    }
   },
   "id": "67179026c1b1d81f"
  },
  {
   "cell_type": "code",
   "execution_count": 11,
   "outputs": [
    {
     "name": "stdout",
     "output_type": "stream",
     "text": [
      "Index(['age', 'trestbps', 'chol', 'thalach', 'exang', 'oldpeak', 'ca', 'cp_4',\n",
      "       'thal_3.0', 'thal_7.0'],\n",
      "      dtype='object')\n"
     ]
    }
   ],
   "source": [
    "# print the selected features\n",
    "selected_features = X.columns[rfe.support_]\n",
    "print(selected_features)"
   ],
   "metadata": {
    "collapsed": false,
    "ExecuteTime": {
     "end_time": "2024-09-08T12:46:10.748418320Z",
     "start_time": "2024-09-08T12:46:10.697747153Z"
    }
   },
   "id": "c89dfe86349927a9"
  },
  {
   "cell_type": "markdown",
   "source": [
    "Hyperparameter Tuning\n",
    "-----------------------\n",
    "Hyperparameter tuning is the process of finding the best hyperparameters for a model. There are two common methods to perform hyperparameter tuning:\n",
    "\n",
    "    Grid Search:\n",
    "        Grid search is an exhaustive search over a specified parameter grid. It evaluates all possible combinations of hyperparameters and returns the best one.\n",
    "    Random Search:\n",
    "        Random search is a method that randomly samples hyperparameters from a specified distribution. It evaluates a fixed number of random combinations and returns the best one. It often is more efficient when the search space is large."
   ],
   "metadata": {
    "collapsed": false
   },
   "id": "16953e256933f4e4"
  },
  {
   "cell_type": "code",
   "execution_count": 96,
   "outputs": [
    {
     "name": "stdout",
     "output_type": "stream",
     "text": [
      "Best parameters for Decision Tree: {'max_depth': 2, 'min_samples_leaf': 1, 'min_samples_split': 2}\n"
     ]
    }
   ],
   "source": [
    "from sklearn.model_selection import GridSearchCV\n",
    "\n",
    "\n",
    "# Decision Tree\n",
    "param_grid_dt = {\n",
    "    'max_depth': [1, 2, 3, 4, 8, 16, 32, 64, None],\n",
    "    'min_samples_split': [2, 10, 30, 50, 100, 200, 300, 700],\n",
    "    'min_samples_leaf': [1, 2, 4, 8, 16],\n",
    "}\n",
    "dt = DecisionTreeClassifier()\n",
    "grid_search_dt = GridSearchCV(dt, param_grid_dt, cv=5, scoring='accuracy')\n",
    "grid_search_dt.fit(X_train_rfe, y_train)\n",
    "print(f\"Best parameters for Decision Tree: {grid_search_dt.best_params_}\")"
   ],
   "metadata": {
    "collapsed": false,
    "ExecuteTime": {
     "end_time": "2024-09-08T10:50:45.051850165Z",
     "start_time": "2024-09-08T10:50:39.594694905Z"
    }
   },
   "id": "832d8ebe536e14d2"
  },
  {
   "cell_type": "code",
   "execution_count": 98,
   "outputs": [
    {
     "name": "stdout",
     "output_type": "stream",
     "text": [
      "Best parameters for Random Forest: {'max_depth': None, 'min_samples_leaf': 2, 'min_samples_split': 5, 'n_estimators': 100}\n"
     ]
    }
   ],
   "source": [
    "# Random Forest\n",
    "param_grid_rf = {\n",
    "    'n_estimators': [100, 200, 300],\n",
    "    'max_depth': [None, 10, 20],\n",
    "    'min_samples_split': [2, 5, 10],\n",
    "    'min_samples_leaf': [1, 2, 4]\n",
    "}\n",
    "rf = RandomForestClassifier()\n",
    "grid_search_rf = GridSearchCV(rf, param_grid_rf, cv=5, scoring='accuracy')\n",
    "grid_search_rf.fit(X_train_rfe, y_train)\n",
    "print(f\"Best parameters for Random Forest: {grid_search_rf.best_params_}\")"
   ],
   "metadata": {
    "collapsed": false,
    "ExecuteTime": {
     "end_time": "2024-09-08T11:13:47.830239017Z",
     "start_time": "2024-09-08T11:11:00.842944333Z"
    }
   },
   "id": "9c009b970d0a4aab"
  },
  {
   "cell_type": "code",
   "execution_count": 99,
   "outputs": [
    {
     "name": "stdout",
     "output_type": "stream",
     "text": [
      "Best parameters for XGBoost: {'learning_rate': 0.01, 'max_depth': 3, 'n_estimators': 100}\n"
     ]
    }
   ],
   "source": [
    "# XGBoost\n",
    "param_grid_xgb = {\n",
    "    'n_estimators': [100, 200, 300],\n",
    "    'max_depth': [3, 5, 10],\n",
    "    'learning_rate': [0.01, 0.1, 0.2],\n",
    "}\n",
    "xgb = XGBClassifier()\n",
    "grid_search_xgb = GridSearchCV(xgb, param_grid_xgb, cv=5, scoring='accuracy')\n",
    "grid_search_xgb.fit(X_train_rfe, y_train)\n",
    "print(f\"Best parameters for XGBoost: {grid_search_xgb.best_params_}\")"
   ],
   "metadata": {
    "collapsed": false,
    "ExecuteTime": {
     "end_time": "2024-09-08T11:19:02.418670025Z",
     "start_time": "2024-09-08T11:15:46.433015258Z"
    }
   },
   "id": "6f0e622f5e90946d"
  },
  {
   "cell_type": "code",
   "execution_count": 101,
   "outputs": [
    {
     "name": "stdout",
     "output_type": "stream",
     "text": [
      "Decision Tree Classification Report:\n",
      "               precision    recall  f1-score   support\n",
      "\n",
      "           0       0.74      0.97      0.84        36\n",
      "           1       0.00      0.00      0.00         9\n",
      "           2       0.08      0.20      0.11         5\n",
      "           3       0.00      0.00      0.00         7\n",
      "           4       0.00      0.00      0.00         3\n",
      "\n",
      "    accuracy                           0.60        60\n",
      "   macro avg       0.16      0.23      0.19        60\n",
      "weighted avg       0.45      0.60      0.52        60\n",
      "\n",
      "Random Forest Classification Report:\n",
      "               precision    recall  f1-score   support\n",
      "\n",
      "           0       0.75      1.00      0.86        36\n",
      "           1       0.00      0.00      0.00         9\n",
      "           2       0.50      0.20      0.29         5\n",
      "           3       0.00      0.00      0.00         7\n",
      "           4       0.00      0.00      0.00         3\n",
      "\n",
      "    accuracy                           0.62        60\n",
      "   macro avg       0.25      0.24      0.23        60\n",
      "weighted avg       0.49      0.62      0.54        60\n",
      "\n",
      "XGBoost Classification Report:\n",
      "               precision    recall  f1-score   support\n",
      "\n",
      "           0       0.81      0.97      0.89        36\n",
      "           1       0.40      0.22      0.29         9\n",
      "           2       0.33      0.20      0.25         5\n",
      "           3       0.50      0.43      0.46         7\n",
      "           4       0.00      0.00      0.00         3\n",
      "\n",
      "    accuracy                           0.68        60\n",
      "   macro avg       0.41      0.36      0.38        60\n",
      "weighted avg       0.63      0.68      0.65        60\n"
     ]
    }
   ],
   "source": [
    "from sklearn.metrics import classification_report\n",
    "\n",
    "\n",
    "# Evaluate the models\n",
    "best_dt = grid_search_dt.best_estimator_\n",
    "best_rf = grid_search_rf.best_estimator_\n",
    "best_xgb = grid_search_xgb.best_estimator_\n",
    "\n",
    "# Predictions and Evaluation\n",
    "y_pred_dt = best_dt.predict(X_test_rfe)\n",
    "y_pred_rf = best_rf.predict(X_test_rfe)\n",
    "y_pred_xgb = best_xgb.predict(X_test_rfe)\n",
    "\n",
    "print(\"Decision Tree Classification Report:\\n\", classification_report(y_test, y_pred_dt, zero_division=0))\n",
    "print(\"Random Forest Classification Report:\\n\", classification_report(y_test, y_pred_rf, zero_division=0))\n",
    "print(\"XGBoost Classification Report:\\n\", classification_report(y_test, y_pred_xgb, zero_division=0))"
   ],
   "metadata": {
    "collapsed": false,
    "ExecuteTime": {
     "end_time": "2024-09-08T11:22:38.729703106Z",
     "start_time": "2024-09-08T11:22:38.595147266Z"
    }
   },
   "id": "172c691d99f452fe"
  },
  {
   "cell_type": "code",
   "execution_count": 12,
   "outputs": [
    {
     "name": "stdout",
     "output_type": "stream",
     "text": [
      "Index(['ca', 'thal_3.0', 'cp_4', 'thal_7.0', 'exang', 'thalach', 'age', 'sex',\n",
      "       'fbs', 'oldpeak'],\n",
      "      dtype='object')\n"
     ]
    }
   ],
   "source": [
    "# feature selection using feature importance\n",
    "import numpy as np\n",
    "from xgboost import XGBClassifier\n",
    "\n",
    "\n",
    "# XGBoost\n",
    "xgb = XGBClassifier(n_estimators=100, learning_rate=0.01, max_depth=3)\n",
    "xgb.fit(X_train, y_train)\n",
    "importances = xgb.feature_importances_\n",
    "indices = np.argsort(importances)[::-1]\n",
    "selected_features = X.columns[indices[:10]]\n",
    "print(selected_features)"
   ],
   "metadata": {
    "collapsed": false,
    "ExecuteTime": {
     "end_time": "2024-09-08T12:49:30.519648405Z",
     "start_time": "2024-09-08T12:49:25.285177860Z"
    }
   },
   "id": "52088ee1ae6e4788"
  },
  {
   "cell_type": "code",
   "execution_count": 13,
   "outputs": [],
   "source": [
    "X_train_fi = X_train[selected_features]\n",
    "X_test_fi = X_test[selected_features]"
   ],
   "metadata": {
    "collapsed": false,
    "ExecuteTime": {
     "end_time": "2024-09-08T12:50:25.305375863Z",
     "start_time": "2024-09-08T12:50:25.240642690Z"
    }
   },
   "id": "c9401c536a15627f"
  },
  {
   "cell_type": "code",
   "execution_count": 16,
   "outputs": [
    {
     "name": "stdout",
     "output_type": "stream",
     "text": [
      "Test accuracy: 0.6666666666666666\n"
     ]
    }
   ],
   "source": [
    "# evaluate the model\n",
    "from sklearn.metrics import accuracy_score\n",
    "\n",
    "\n",
    "xgb.fit(X_train_fi, y_train)\n",
    "y_pred_xgb = xgb.predict(X_test_fi)\n",
    "print('Test accuracy:', accuracy_score(y_test, y_pred_xgb))"
   ],
   "metadata": {
    "collapsed": false,
    "ExecuteTime": {
     "end_time": "2024-09-08T12:51:55.261691489Z",
     "start_time": "2024-09-08T12:51:48.771238972Z"
    }
   },
   "id": "fdfc8d8fd2bb75d8"
  },
  {
   "cell_type": "code",
   "execution_count": null,
   "outputs": [],
   "source": [
    "# todo: try categorizing the target to achieve better accuracy"
   ],
   "metadata": {
    "collapsed": false
   },
   "id": "9d4e2aab08fe7ed0"
  }
 ],
 "metadata": {
  "kernelspec": {
   "name": "pycharm-env",
   "language": "python",
   "display_name": "Python (PyCharm)"
  },
  "language_info": {
   "codemirror_mode": {
    "name": "ipython",
    "version": 2
   },
   "file_extension": ".py",
   "mimetype": "text/x-python",
   "name": "python",
   "nbconvert_exporter": "python",
   "pygments_lexer": "ipython2",
   "version": "2.7.6"
  }
 },
 "nbformat": 4,
 "nbformat_minor": 5
}
